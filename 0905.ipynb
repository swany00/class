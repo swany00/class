{
 "cells": [
  {
   "cell_type": "raw",
   "metadata": {},
   "source": [
    "프로그램 코드의 기본 구성 요소"
   ]
  },
  {
   "cell_type": "raw",
   "metadata": {
    "vscode": {
     "languageId": "raw"
    }
   },
   "source": [
    "객체\n",
    "객체는 값을 저장하는 기본단위로 이름과 값으로 구분된다.\n",
    "값을 저장하면 ram에 올라간다. a라는 값이 00이니깐 저장해둬라\n",
    "값의 종류, 실수,정수,문자,논리형\n",
    "값의 구조(차원에따른) 스칼라,벡터/,행렬,리스트,/텐서\n",
    "                        0     1     2            3\n",
    "R언어는 파이썬과 다르게 0이 아닌 1부터 숫자가 시작한다.\n",
    "R은 텐서구조가 편하지 않다. 표현이 어렵기 때문이다.\n"
   ]
  },
  {
   "cell_type": "raw",
   "metadata": {
    "vscode": {
     "languageId": "raw"
    }
   },
   "source": [
    "a -3\n",
    "a <- 3\n",
    "3 -> a\n",
    "\n",
    "이거 3개 다 같다.\n",
    "\n",
    "\n",
    "a = 3이라는 뜻은 a에 3을 집어넣어라\n",
    "a == 3이라는 뜻은 a가 3인지 아닌지 확인해라 True 1 or False 0 \n",
    "\n"
   ]
  },
  {
   "cell_type": "raw",
   "metadata": {
    "vscode": {
     "languageId": "raw"
    }
   },
   "source": [
    "R에서는 객체의 최소단위가 벡터다. \n",
    "ㄴ>  a=3 == a=c(3)\n",
    "R에서는 0을 문자로 바꾸는건 가능하지만 A를 숫자로 바꾸는건 불가능하다. \n"
   ]
  },
  {
   "cell_type": "raw",
   "metadata": {
    "vscode": {
     "languageId": "raw"
    }
   },
   "source": [
    "중앙값: 데이터를 나열했을때 중앙에 있는 값 ex)소득의 중앙, \n",
    "ㄴ> 중앙값을 구하는 방법은 index를 사용해서 중앙값을 구한다. \n",
    "ㄴ> 만약 데이터의 개수가 짝수인경우에는 중앙값이 2개가 나온다 이때 평균을 계산한다.\n"
   ]
  }
 ],
 "metadata": {
  "kernelspec": {
   "display_name": "gd",
   "language": "python",
   "name": "python3"
  },
  "language_info": {
   "codemirror_mode": {
    "name": "ipython",
    "version": 3
   },
   "file_extension": ".py",
   "mimetype": "text/x-python",
   "name": "python",
   "nbconvert_exporter": "python",
   "pygments_lexer": "ipython3",
   "version": "3.10.14"
  }
 },
 "nbformat": 4,
 "nbformat_minor": 2
}
