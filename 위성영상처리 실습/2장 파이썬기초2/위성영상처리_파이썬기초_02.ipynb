{
 "cells": [
  {
   "cell_type": "markdown",
   "id": "a2b2e1ac",
   "metadata": {},
   "source": [
    "# 제1장. 파이썬 기초\n",
    "이번 실습에서는 python programining 기초에 대해서 학습 할 예정이다. 기본적인 코딩 실습을 통해 파이썬 프로그램 코딩에 익숙해지는 단계이다.\n",
    "\n",
    "### 강의자료를 VScode로 실행해보는법\n",
    "1. [미리 만들어놓은 강의자료 Github 링크](https://github.com/jongminyeom/python_lecture/) 에서 강의자료는 다운로드 한다. \n",
    "2. Visual Studio Code를 실행한다. \n",
    "3. 파일 열기 혹은 소스코드 드레그 인을 통해 코딩 파일을 연다.\n",
    "4. 코딩 파일을 수행한다. \n",
    "\n",
    "### 이 문서를 구글 Colab에서 쉽게 실행해보는 방법은\n",
    "1. [미리 만들어놓은 Colab 링크](https://colab.research.google.com/drive/1GBdjTSbSx8dCYS_QYfhGbj-Q_HG2EQO9#scrollTo=a2b2e1ac)를 눌러 본 .ipynb 파일을 구글 Colab에서 바로 열 수 있다. 이때 구글에 로그인을 해야 한다.\n",
    "2. 아무 셀이나 선택한 후 Ctrl+Enter를 눌러 실행해보면 [경고: 이 노트는 Google에서 작성하지 않았습니다]라고 뜨는데 실행 전에 모든 런타임 재설정을 선택한 채로 무시하고 계속하기를 눌러준다.\n",
    "3. `모든 런타임 재설정` 이 뜰 텐데 예를 눌러준다.\n",
    "4. 잠시 구글 서버의 배치가 되면서 우상단에 연결중 -> 초기화중 -> 연결됨이 뜨면서 실행이 가능한 상태가 된다.\n",
    "\n",
    "### 구글 Colab에서 실습후 저장하는법\n",
    "**쉽게 실행보는법**을 따라왔다면 Colab에서 임시 노트북으로 열리기 때문에 파일->드라이브로 저장을 눌러서 여러분의 구글 드라이브에 저장하거나 파일 -> .ipynb 다운로드를 눌러서 다운로드 해준다.\n",
    "  \n"
   ]
  },
  {
   "cell_type": "markdown",
   "id": "9686b395",
   "metadata": {},
   "source": [
    "## 리스트 자료형"
   ]
  },
  {
   "cell_type": "markdown",
   "id": "74a12b4f",
   "metadata": {},
   "source": [
    "#### 리스트는 어떻게 만들고 사용할까?\n",
    "리스트를 사용하면 1, 3, 5, 7, 9의 숫자 모음을 다음과 같이 간단하게 표현할 수 있다."
   ]
  },
  {
   "cell_type": "code",
   "execution_count": 1,
   "id": "078c07cf",
   "metadata": {},
   "outputs": [],
   "source": [
    "odd = [1, 3, 5, 7, 9]"
   ]
  },
  {
   "cell_type": "markdown",
   "id": "677d2c73",
   "metadata": {},
   "source": [
    "리스트를 만들 때는 위에서 보는 것과 같이 대괄호([])로 감싸 주고 각 요솟값은 쉼표(,)로 구분해 준다."
   ]
  },
  {
   "cell_type": "markdown",
   "id": "49a59d9d",
   "metadata": {},
   "source": [
    "#### 리스트명 = [요소1, 요소2, 요소3, ...]"
   ]
  },
  {
   "cell_type": "markdown",
   "id": "dd3e22e7",
   "metadata": {},
   "source": [
    "리스트의 예;"
   ]
  },
  {
   "cell_type": "code",
   "execution_count": 2,
   "id": "a65e083e",
   "metadata": {},
   "outputs": [],
   "source": [
    "a = []\n",
    "b = [1, 2, 3]\n",
    "c = ['Life', 'is', 'too', 'short']\n",
    "d = [1, 2, 'Life', 'is']\n",
    "e = [1, 2, ['Life', 'is']]"
   ]
  },
  {
   "cell_type": "markdown",
   "id": "2c4b6563",
   "metadata": {},
   "source": [
    "비어 있는 리스트는 **a = list()** 로 생성할 수 있다."
   ]
  },
  {
   "cell_type": "markdown",
   "id": "e91e5f5c",
   "metadata": {},
   "source": [
    "리스트는 a처럼 아무것도 포함하지 않아 비어 있는 리스트([])일 수도 있고, b처럼 숫자를 요솟값으로 가질 수도 있으며, c처럼 문자열을 요솟값으로 가질 수도 있다. \n",
    "\n",
    "또한 d처럼 숫자와 문자열을 함께 요솟값으로 가질 수도 있고, e처럼 리스트 자체를 요솟값으로 가질 수도 있다. 즉, 리스트 안에는 어떠한 자료형도 포함할 수 있다."
   ]
  },
  {
   "cell_type": "markdown",
   "id": "05c2775e",
   "metadata": {},
   "source": [
    "#### 리스트의 인덱싱과 슬라이싱\n",
    "리스트 역시 문자열처럼 인덱싱을 적용할 수 있다. 먼저 a 변수에 [1, 2, 3] 값을 설정한다."
   ]
  },
  {
   "cell_type": "code",
   "execution_count": 3,
   "id": "09448f8f",
   "metadata": {},
   "outputs": [
    {
     "data": {
      "text/plain": [
       "[1, 2, 3]"
      ]
     },
     "execution_count": 3,
     "metadata": {},
     "output_type": "execute_result"
    }
   ],
   "source": [
    "a = [1, 2, 3]\n",
    "a"
   ]
  },
  {
   "cell_type": "code",
   "execution_count": 4,
   "id": "5ea974b2",
   "metadata": {},
   "outputs": [
    {
     "data": {
      "text/plain": [
       "4"
      ]
     },
     "execution_count": 4,
     "metadata": {},
     "output_type": "execute_result"
    }
   ],
   "source": [
    "a[0] + a[2]\n"
   ]
  },
  {
   "cell_type": "code",
   "execution_count": 5,
   "id": "f8f27e51",
   "metadata": {},
   "outputs": [
    {
     "data": {
      "text/plain": [
       "3"
      ]
     },
     "execution_count": 5,
     "metadata": {},
     "output_type": "execute_result"
    }
   ],
   "source": [
    "a[-1]"
   ]
  },
  {
   "cell_type": "code",
   "execution_count": 6,
   "id": "3258b50d",
   "metadata": {},
   "outputs": [],
   "source": [
    "a = [1, 2, 3, ['a', 'b', 'c']]"
   ]
  },
  {
   "cell_type": "code",
   "execution_count": 7,
   "id": "111927eb",
   "metadata": {},
   "outputs": [
    {
     "data": {
      "text/plain": [
       "['a', 'b', 'c']"
      ]
     },
     "execution_count": 7,
     "metadata": {},
     "output_type": "execute_result"
    }
   ],
   "source": [
    "a[-1]"
   ]
  },
  {
   "cell_type": "code",
   "execution_count": 8,
   "id": "db9e844e",
   "metadata": {},
   "outputs": [
    {
     "data": {
      "text/plain": [
       "'b'"
      ]
     },
     "execution_count": 8,
     "metadata": {},
     "output_type": "execute_result"
    }
   ],
   "source": [
    "a[-1][1]"
   ]
  },
  {
   "cell_type": "markdown",
   "id": "1a5bdabc",
   "metadata": {},
   "source": [
    "#### 삼중 리스트에서 인덱싱하기"
   ]
  },
  {
   "cell_type": "code",
   "execution_count": 10,
   "id": "5f8fdff5",
   "metadata": {},
   "outputs": [],
   "source": [
    "a = [1, 2, ['a', 'b', ['Life', 'is']]]"
   ]
  },
  {
   "cell_type": "code",
   "execution_count": 11,
   "id": "9b40ccd6",
   "metadata": {},
   "outputs": [
    {
     "data": {
      "text/plain": [
       "'is'"
      ]
     },
     "execution_count": 11,
     "metadata": {},
     "output_type": "execute_result"
    }
   ],
   "source": [
    "a[2][2][1]"
   ]
  },
  {
   "cell_type": "markdown",
   "id": "a132bd0e",
   "metadata": {},
   "source": [
    "#### 리스트의 슬라이싱"
   ]
  },
  {
   "cell_type": "code",
   "execution_count": 15,
   "id": "1c7d5185",
   "metadata": {},
   "outputs": [
    {
     "data": {
      "text/plain": [
       "[1, 2]"
      ]
     },
     "execution_count": 15,
     "metadata": {},
     "output_type": "execute_result"
    }
   ],
   "source": [
    "a = [1, 2, 3, 4, 5]\n",
    "a[0:2]"
   ]
  },
  {
   "cell_type": "code",
   "execution_count": 1,
   "id": "41dea903",
   "metadata": {},
   "outputs": [
    {
     "data": {
      "text/plain": [
       "'12'"
      ]
     },
     "execution_count": 1,
     "metadata": {},
     "output_type": "execute_result"
    }
   ],
   "source": [
    "a = \"12345\"\n",
    "a[0:2]"
   ]
  },
  {
   "cell_type": "markdown",
   "id": "89f4c196",
   "metadata": {},
   "source": [
    "몇가지 다른 예"
   ]
  },
  {
   "cell_type": "code",
   "execution_count": 5,
   "id": "59b37a5d",
   "metadata": {},
   "outputs": [],
   "source": [
    "a = [1, 2, 3, 4, 5]\n",
    "b = a[:2]\n",
    "c = a[2:]"
   ]
  },
  {
   "cell_type": "markdown",
   "id": "97bd2ad6",
   "metadata": {},
   "source": [
    "#### 중첩된 리스트에서 슬라이싱하기"
   ]
  },
  {
   "cell_type": "code",
   "execution_count": 6,
   "id": "5839acb2",
   "metadata": {},
   "outputs": [
    {
     "data": {
      "text/plain": [
       "[3, ['a', 'b', 'c'], 4]"
      ]
     },
     "execution_count": 6,
     "metadata": {},
     "output_type": "execute_result"
    }
   ],
   "source": [
    "a = [1, 2, 3, ['a', 'b', 'c'], 4, 5]\n",
    "a[2:5]"
   ]
  },
  {
   "cell_type": "markdown",
   "id": "5cc132b2",
   "metadata": {},
   "source": [
    "b, c를 슬라이싱 하면?"
   ]
  },
  {
   "cell_type": "code",
   "execution_count": 7,
   "id": "9477de9e",
   "metadata": {},
   "outputs": [
    {
     "data": {
      "text/plain": [
       "['b', 'c']"
      ]
     },
     "execution_count": 7,
     "metadata": {},
     "output_type": "execute_result"
    }
   ],
   "source": [
    "a[3][1:]"
   ]
  },
  {
   "cell_type": "markdown",
   "id": "56b7d151",
   "metadata": {},
   "source": [
    "#### 리스트 연산하기\n",
    "리스트 역시 +를 사용해서 더할 수 있고 *를 사용해서 반복할 수 있다. \n",
    "\n",
    "문자열과 마찬가지로 리스트에서도 되는지 직접 확인해 보자."
   ]
  },
  {
   "cell_type": "code",
   "execution_count": 21,
   "id": "4332b71e",
   "metadata": {},
   "outputs": [
    {
     "data": {
      "text/plain": [
       "[1, 2, 3, 4, 5, 6]"
      ]
     },
     "execution_count": 21,
     "metadata": {},
     "output_type": "execute_result"
    }
   ],
   "source": [
    "a = [1, 2, 3]\n",
    "b = [4, 5, 6]\n",
    "a + b"
   ]
  },
  {
   "cell_type": "markdown",
   "id": "9ab389bd",
   "metadata": {},
   "source": [
    "리스트 사이에서 +는 2개의 리스트를 합치는 기능을 한다. \n",
    "\n",
    "문자열에서 \"abc\" + \"def\" = \"abcdef\"가 되는 것과 같은 이치이다."
   ]
  },
  {
   "cell_type": "markdown",
   "id": "631f96f6",
   "metadata": {},
   "source": [
    "#### 리스트 반복하기(*)"
   ]
  },
  {
   "cell_type": "code",
   "execution_count": 22,
   "id": "afe040f6",
   "metadata": {},
   "outputs": [
    {
     "data": {
      "text/plain": [
       "[1, 2, 3, 1, 2, 3, 1, 2, 3]"
      ]
     },
     "execution_count": 22,
     "metadata": {},
     "output_type": "execute_result"
    }
   ],
   "source": [
    "a = [1, 2, 3]\n",
    "a * 3"
   ]
  },
  {
   "cell_type": "markdown",
   "id": "e0bfe69c",
   "metadata": {},
   "source": [
    "#### 리스트 길이 구하기\n",
    "리스트 길이를 구하기 위해서는 다음처럼 len 함수를 사용해야 한다."
   ]
  },
  {
   "cell_type": "code",
   "execution_count": 8,
   "id": "362b0e3e",
   "metadata": {},
   "outputs": [
    {
     "data": {
      "text/plain": [
       "3"
      ]
     },
     "execution_count": 8,
     "metadata": {},
     "output_type": "execute_result"
    }
   ],
   "source": [
    "a = [1, 2, 3]\n",
    "len(a)"
   ]
  },
  {
   "cell_type": "markdown",
   "id": "0d3990fd",
   "metadata": {},
   "source": [
    "#### 초보자가 범하기 쉬운 리스트 연산 오류"
   ]
  },
  {
   "cell_type": "code",
   "execution_count": 9,
   "id": "b67e04d4",
   "metadata": {},
   "outputs": [
    {
     "ename": "TypeError",
     "evalue": "unsupported operand type(s) for +: 'int' and 'str'",
     "output_type": "error",
     "traceback": [
      "\u001b[1;31m---------------------------------------------------------------------------\u001b[0m",
      "\u001b[1;31mTypeError\u001b[0m                                 Traceback (most recent call last)",
      "Cell \u001b[1;32mIn[9], line 2\u001b[0m\n\u001b[0;32m      1\u001b[0m a \u001b[39m=\u001b[39m [\u001b[39m1\u001b[39m, \u001b[39m2\u001b[39m, \u001b[39m3\u001b[39m]\n\u001b[1;32m----> 2\u001b[0m a[\u001b[39m2\u001b[39;49m] \u001b[39m+\u001b[39;49m \u001b[39m\"\u001b[39;49m\u001b[39mhi\u001b[39;49m\u001b[39m\"\u001b[39;49m\n",
      "\u001b[1;31mTypeError\u001b[0m: unsupported operand type(s) for +: 'int' and 'str'"
     ]
    }
   ],
   "source": [
    "a = [1, 2, 3]\n",
    "a[2] + \"hi\""
   ]
  },
  {
   "cell_type": "markdown",
   "id": "1c7d38c5",
   "metadata": {},
   "source": [
    "a[2]에 저장된 값은 3이라는 정수인데 \"hi\"는 문자열이다. 정수와 문자열은 당연히 서로 더할 수 없기 때문에 오류가 발생한 것이다."
   ]
  },
  {
   "cell_type": "code",
   "execution_count": 10,
   "id": "a4aa7d52",
   "metadata": {},
   "outputs": [
    {
     "data": {
      "text/plain": [
       "'3hi'"
      ]
     },
     "execution_count": 10,
     "metadata": {},
     "output_type": "execute_result"
    }
   ],
   "source": [
    "str(a[2]) + \"hi\""
   ]
  },
  {
   "cell_type": "markdown",
   "id": "c35584cf",
   "metadata": {},
   "source": [
    "### 리스트의 수정과 삭제\n",
    "리스트는 값을 수정하거나 삭제할 수 있다."
   ]
  },
  {
   "cell_type": "markdown",
   "id": "af1318b9",
   "metadata": {},
   "source": [
    "#### 리스트의 값 수정하기"
   ]
  },
  {
   "cell_type": "code",
   "execution_count": 27,
   "id": "d7ebde66",
   "metadata": {},
   "outputs": [
    {
     "data": {
      "text/plain": [
       "[1, 2, 4]"
      ]
     },
     "execution_count": 27,
     "metadata": {},
     "output_type": "execute_result"
    }
   ],
   "source": [
    "a = [1, 2, 3]\n",
    "a[2] = 4\n",
    "a"
   ]
  },
  {
   "cell_type": "markdown",
   "id": "4b95f366",
   "metadata": {},
   "source": [
    "#### del 함수를 사용해 리스트 요소 삭제하기"
   ]
  },
  {
   "cell_type": "code",
   "execution_count": 11,
   "id": "3a8b5936",
   "metadata": {},
   "outputs": [
    {
     "data": {
      "text/plain": [
       "[1, 3]"
      ]
     },
     "execution_count": 11,
     "metadata": {},
     "output_type": "execute_result"
    }
   ],
   "source": [
    "a = [1, 2, 3]\n",
    "del a[1]\n",
    "a"
   ]
  },
  {
   "cell_type": "markdown",
   "id": "7883cd5d",
   "metadata": {},
   "source": [
    "del a[x]는 x번째 요솟값을 삭제한다. 위에서는 a 리스트에서 a[1]을 삭제했다. del 함수는 파이썬이 자체적으로 가지고 있는 삭제 함수이며 다음과 같이 사용한다."
   ]
  },
  {
   "cell_type": "markdown",
   "id": "8918e130",
   "metadata": {},
   "source": [
    "#### del 객체\n",
    "객체란 파이썬에서 사용되는 모든 자료형을 말한다.\n",
    "다음처럼 슬라이싱 기법을 사용하여 리스트의 요소 여러 개를 한꺼번에 삭제할 수도 있다."
   ]
  },
  {
   "cell_type": "code",
   "execution_count": 12,
   "id": "dcc48289",
   "metadata": {},
   "outputs": [
    {
     "data": {
      "text/plain": [
       "[1, 2]"
      ]
     },
     "execution_count": 12,
     "metadata": {},
     "output_type": "execute_result"
    }
   ],
   "source": [
    "a = [1, 2, 3, 4, 5]\n",
    "del a[2:]\n",
    "a"
   ]
  },
  {
   "cell_type": "markdown",
   "id": "9c5d5166",
   "metadata": {},
   "source": [
    "4, 5만 남기고 삭제하기"
   ]
  },
  {
   "cell_type": "code",
   "execution_count": null,
   "id": "a1e1de7e",
   "metadata": {},
   "outputs": [],
   "source": [
    "# 직접 실행해보세요."
   ]
  },
  {
   "cell_type": "markdown",
   "id": "4ae65bd5",
   "metadata": {},
   "source": [
    "### 리스트 관련 함수\n",
    "문자열과 마찬가지로 리스트 변수 이름 뒤에 ‘.’를 붙여 여러 가지 리스트 관련 함수를 사용할 수 있다.\n",
    "\n",
    "유용하게 사용하는 리스트 관련 함수 몇 가지만 알아보자."
   ]
  },
  {
   "cell_type": "markdown",
   "id": "3514b15a",
   "metadata": {},
   "source": [
    "리스트에 요소 추가하기 - `append`\n",
    "\n",
    "append의 사전적 의미는 ‘덧붙이다, 첨부하다’이다.\n",
    "\n",
    "이 뜻을 안다면 다음 예가 바로 이해될 것이다.\n",
    "\n",
    "append(x)는 리스트의 맨 마지막에 x를 추가하는 함수이다."
   ]
  },
  {
   "cell_type": "code",
   "execution_count": 31,
   "id": "06f7f471",
   "metadata": {},
   "outputs": [
    {
     "data": {
      "text/plain": [
       "[1, 2, 3, 4]"
      ]
     },
     "execution_count": 31,
     "metadata": {},
     "output_type": "execute_result"
    }
   ],
   "source": [
    "a = [1, 2, 3]\n",
    "a.append(4)\n",
    "a"
   ]
  },
  {
   "cell_type": "markdown",
   "id": "a1567c98",
   "metadata": {},
   "source": [
    "리스트 안에는 어떤 자료형도 추가할 수 있다. 다음 예는 리스트에 다시 리스트를 추가한 결과이다."
   ]
  },
  {
   "cell_type": "code",
   "execution_count": 13,
   "id": "0b67fa74",
   "metadata": {},
   "outputs": [
    {
     "data": {
      "text/plain": [
       "[1, 2, [5, 6]]"
      ]
     },
     "execution_count": 13,
     "metadata": {},
     "output_type": "execute_result"
    }
   ],
   "source": [
    "a.append([5, 6])\n",
    "a"
   ]
  },
  {
   "cell_type": "markdown",
   "id": "f2ba5169",
   "metadata": {},
   "source": [
    "#### 리스트 정렬 - sort\n",
    "`sort 함수`는 리스트의 요소를 순서대로 정렬해 준다."
   ]
  },
  {
   "cell_type": "code",
   "execution_count": 33,
   "id": "68af378b",
   "metadata": {},
   "outputs": [
    {
     "data": {
      "text/plain": [
       "[1, 2, 3, 4]"
      ]
     },
     "execution_count": 33,
     "metadata": {},
     "output_type": "execute_result"
    }
   ],
   "source": [
    "a = [1, 4, 3, 2]\n",
    "a.sort()\n",
    "a"
   ]
  },
  {
   "cell_type": "markdown",
   "id": "2fd55be8",
   "metadata": {},
   "source": [
    "문자 역시 알파벳 순서로 정렬할 수 있다."
   ]
  },
  {
   "cell_type": "code",
   "execution_count": 34,
   "id": "1559acfc",
   "metadata": {},
   "outputs": [
    {
     "data": {
      "text/plain": [
       "['a', 'b', 'c']"
      ]
     },
     "execution_count": 34,
     "metadata": {},
     "output_type": "execute_result"
    }
   ],
   "source": [
    "a = ['a', 'c', 'b']\n",
    "a.sort()\n",
    "a"
   ]
  },
  {
   "cell_type": "markdown",
   "id": "14830008",
   "metadata": {},
   "source": [
    "#### 리스트 뒤집기 - reverse\n",
    "reverse 함수는 리스트를 역순으로 뒤집어 준다. 이때 리스트 요소들을 순서대로 정렬한 다음 다시 역순으로 정렬하는 것이 아니라 현재의 리스트를 그대로 거꾸로 뒤집는다."
   ]
  },
  {
   "cell_type": "code",
   "execution_count": 35,
   "id": "9acdfa82",
   "metadata": {},
   "outputs": [
    {
     "data": {
      "text/plain": [
       "['b', 'c', 'a']"
      ]
     },
     "execution_count": 35,
     "metadata": {},
     "output_type": "execute_result"
    }
   ],
   "source": [
    "a = ['a', 'c', 'b']\n",
    "a.reverse()\n",
    "a"
   ]
  },
  {
   "cell_type": "markdown",
   "id": "2e85e428",
   "metadata": {},
   "source": [
    "#### 인덱스 반환 - index\n",
    "index(x) 함수는 리스트에 x 값이 있으면 x의 인덱스 값(위칫값: 방의)을 리턴한다."
   ]
  },
  {
   "cell_type": "code",
   "execution_count": 14,
   "id": "f6aca5d1",
   "metadata": {},
   "outputs": [
    {
     "data": {
      "text/plain": [
       "2"
      ]
     },
     "execution_count": 14,
     "metadata": {},
     "output_type": "execute_result"
    }
   ],
   "source": [
    "a = [1, 2, 3]\n",
    "a.index(3)"
   ]
  },
  {
   "cell_type": "code",
   "execution_count": 15,
   "id": "ad8876b9",
   "metadata": {},
   "outputs": [
    {
     "data": {
      "text/plain": [
       "0"
      ]
     },
     "execution_count": 15,
     "metadata": {},
     "output_type": "execute_result"
    }
   ],
   "source": [
    "a.index(1)"
   ]
  },
  {
   "cell_type": "code",
   "execution_count": 16,
   "id": "c1d5db2b",
   "metadata": {},
   "outputs": [
    {
     "ename": "ValueError",
     "evalue": "0 is not in list",
     "output_type": "error",
     "traceback": [
      "\u001b[1;31m---------------------------------------------------------------------------\u001b[0m",
      "\u001b[1;31mValueError\u001b[0m                                Traceback (most recent call last)",
      "Cell \u001b[1;32mIn[16], line 1\u001b[0m\n\u001b[1;32m----> 1\u001b[0m a\u001b[39m.\u001b[39;49mindex(\u001b[39m0\u001b[39;49m)\n",
      "\u001b[1;31mValueError\u001b[0m: 0 is not in list"
     ]
    }
   ],
   "source": [
    "a.index(0)"
   ]
  },
  {
   "cell_type": "markdown",
   "id": "73b090cc",
   "metadata": {},
   "source": [
    "#### 리스트에 요소 삽입 - insert\n",
    "insert(a, b)는 리스트의 a번째 위치에 b를 삽입하는 함수이다. \n",
    "\n",
    "파이썬은 숫자를 0부터 센다는 것을 반드시 기억하자."
   ]
  },
  {
   "cell_type": "code",
   "execution_count": 38,
   "id": "2487353e",
   "metadata": {},
   "outputs": [
    {
     "data": {
      "text/plain": [
       "[4, 1, 2, 3]"
      ]
     },
     "execution_count": 38,
     "metadata": {},
     "output_type": "execute_result"
    }
   ],
   "source": [
    "a = [1, 2, 3]\n",
    "a.insert(0, 4)\n",
    "a"
   ]
  },
  {
   "cell_type": "markdown",
   "id": "af37c622",
   "metadata": {},
   "source": [
    "위 예는 0번째 자리, 즉 첫 번째 요소인 a[0] 위치에 값 4를 삽입하라는 뜻이다."
   ]
  },
  {
   "cell_type": "code",
   "execution_count": 39,
   "id": "62130f8d",
   "metadata": {},
   "outputs": [
    {
     "data": {
      "text/plain": [
       "[4, 1, 2, 5, 3]"
      ]
     },
     "execution_count": 39,
     "metadata": {},
     "output_type": "execute_result"
    }
   ],
   "source": [
    "a.insert(3, 5)\n",
    "a"
   ]
  },
  {
   "cell_type": "markdown",
   "id": "c21eef6f",
   "metadata": {},
   "source": [
    "위 예는 리스트 a의 a[3], 즉 네 번째 요소 위치에 값 5를 삽입하라는 뜻이다."
   ]
  },
  {
   "cell_type": "markdown",
   "id": "b98e81a3",
   "metadata": {},
   "source": [
    "#### 리스트 요소 제거 - remove"
   ]
  },
  {
   "cell_type": "markdown",
   "id": "596266e7",
   "metadata": {},
   "source": [
    "remove(x)는 리스트에서 첫 번째로 나오는 x를 삭제하는 함수이다."
   ]
  },
  {
   "cell_type": "code",
   "execution_count": 40,
   "id": "ed6fa796",
   "metadata": {},
   "outputs": [
    {
     "data": {
      "text/plain": [
       "[1, 2, 1, 2, 3]"
      ]
     },
     "execution_count": 40,
     "metadata": {},
     "output_type": "execute_result"
    }
   ],
   "source": [
    "a = [1, 2, 3, 1, 2, 3]\n",
    "a.remove(3)\n",
    "a"
   ]
  },
  {
   "cell_type": "markdown",
   "id": "b84d4ee5",
   "metadata": {},
   "source": [
    "a가 3이라는 값을 2개 가지고 있을 경우, 첫 번째 3만 제거되는 것을 알 수 있다."
   ]
  },
  {
   "cell_type": "code",
   "execution_count": 41,
   "id": "2230da88",
   "metadata": {},
   "outputs": [
    {
     "data": {
      "text/plain": [
       "[1, 2, 1, 2]"
      ]
     },
     "execution_count": 41,
     "metadata": {},
     "output_type": "execute_result"
    }
   ],
   "source": [
    "a.remove(3)\n",
    "a"
   ]
  },
  {
   "cell_type": "markdown",
   "id": "a547c58e",
   "metadata": {},
   "source": [
    "remove(3)을 한 번 더 실행하면 다시 3이 삭제된다."
   ]
  },
  {
   "cell_type": "markdown",
   "id": "828638ed",
   "metadata": {},
   "source": [
    "#### 리스트 요소 끄집어 내기 - pop\n",
    "pop()은 리스트의 맨 마지막 요소를 리턴하고 그 요소는 삭제한다."
   ]
  },
  {
   "cell_type": "code",
   "execution_count": 43,
   "id": "cdbae4f5",
   "metadata": {},
   "outputs": [
    {
     "data": {
      "text/plain": [
       "[1, 2]"
      ]
     },
     "execution_count": 43,
     "metadata": {},
     "output_type": "execute_result"
    }
   ],
   "source": [
    "a = [1, 2, 3]\n",
    "a.pop()\n",
    "a"
   ]
  },
  {
   "cell_type": "markdown",
   "id": "d84a4015",
   "metadata": {},
   "source": [
    "a 리스트를 다시 보면 [1, 2, 3]에서 3을 끄집어 내고 최종적으로 [1, 2]만 남는 것을 확인할 수 있다.\n",
    "\n",
    "pop(x)는 리스트의 x번째 요소를 리턴하고 그 요소는 삭제한다."
   ]
  },
  {
   "cell_type": "code",
   "execution_count": 3,
   "id": "be56fbc0",
   "metadata": {},
   "outputs": [
    {
     "data": {
      "text/plain": [
       "2"
      ]
     },
     "execution_count": 3,
     "metadata": {},
     "output_type": "execute_result"
    }
   ],
   "source": [
    "a = [1, 2, 3]\n",
    "a.pop(1)"
   ]
  },
  {
   "cell_type": "code",
   "execution_count": 45,
   "id": "c5688c92",
   "metadata": {},
   "outputs": [
    {
     "data": {
      "text/plain": [
       "[1, 3]"
      ]
     },
     "execution_count": 45,
     "metadata": {},
     "output_type": "execute_result"
    }
   ],
   "source": [
    "a"
   ]
  },
  {
   "cell_type": "markdown",
   "id": "8dc78067",
   "metadata": {},
   "source": [
    "a.pop(1)은 a[1]의 값을 끄집어 내어 리턴한다. \n",
    "\n",
    "다시 a를 출력해 보면 끄집어 낸 값이 삭제된 것을 확인할 수 있다."
   ]
  },
  {
   "cell_type": "markdown",
   "id": "fda1b5fe",
   "metadata": {},
   "source": [
    "#### 리스트에 포함된 요소 x의 개수 세기 - count\n",
    "count(x)는 리스트 안에 x가 몇 개 있는지 조사하여 그 개수를 리턴하는 함수이다."
   ]
  },
  {
   "cell_type": "code",
   "execution_count": 46,
   "id": "9424097f",
   "metadata": {},
   "outputs": [
    {
     "data": {
      "text/plain": [
       "2"
      ]
     },
     "execution_count": 46,
     "metadata": {},
     "output_type": "execute_result"
    }
   ],
   "source": [
    "a = [1, 2, 3, 1]\n",
    "a.count(1)"
   ]
  },
  {
   "cell_type": "markdown",
   "id": "7e0199f3",
   "metadata": {},
   "source": [
    "1이라는 값이 리스트 a에 2개 들어 있으므로 2를 리턴한다."
   ]
  },
  {
   "cell_type": "markdown",
   "id": "c12e5117",
   "metadata": {},
   "source": [
    "#### 리스트 확장 - extend\n",
    "extend(x)에서 x에는 `리스트`만 올 수 있으며 원래의 a 리스트에 x 리스트를 더하게 된다."
   ]
  },
  {
   "cell_type": "code",
   "execution_count": 47,
   "id": "ff326a78",
   "metadata": {},
   "outputs": [
    {
     "data": {
      "text/plain": [
       "[1, 2, 3, 4, 5]"
      ]
     },
     "execution_count": 47,
     "metadata": {},
     "output_type": "execute_result"
    }
   ],
   "source": [
    "a = [1, 2, 3]\n",
    "a.extend([4, 5])\n",
    "a"
   ]
  },
  {
   "cell_type": "code",
   "execution_count": 48,
   "id": "ebf6e07b",
   "metadata": {},
   "outputs": [
    {
     "data": {
      "text/plain": [
       "[1, 2, 3, 4, 5, 6, 7]"
      ]
     },
     "execution_count": 48,
     "metadata": {},
     "output_type": "execute_result"
    }
   ],
   "source": [
    "b = [6, 7]\n",
    "a.extend(b)\n",
    "a"
   ]
  },
  {
   "cell_type": "markdown",
   "id": "d33178d5",
   "metadata": {},
   "source": [
    "a.extend([4, 5])는 a += [4, 5]와 동일하다.\n",
    "\n",
    "##### `a += [4, 5]는 a = a + [4, 5]와 동일한 표현식`이다."
   ]
  },
  {
   "cell_type": "markdown",
   "id": "5e7b0b5c",
   "metadata": {},
   "source": [
    "## 튜플 자료형\n",
    "튜플 tuple은 몇 가지 점을 제외하곤 리스트와 거의 비슷하며 리스트와 다른 점은 다음과 같다.\n",
    "\n",
    "#### 리스트는 [], 튜플은 ()으로 둘러싼다.\n",
    "#### 리스트는 요솟값의 생성, 삭제, 수정이 가능하지만, `튜플은 요솟값을 바꿀 수 없다`."
   ]
  },
  {
   "cell_type": "markdown",
   "id": "a611b427",
   "metadata": {},
   "source": [
    "#### 튜플은 어떻게 만들까?\n",
    "튜플은 다음과 같이 여러 가지 모습으로 생성할 수 있다."
   ]
  },
  {
   "cell_type": "code",
   "execution_count": null,
   "id": "0b26f6c4",
   "metadata": {},
   "outputs": [],
   "source": [
    "t1 = ()\n",
    "t2 = (1,)\n",
    "t3 = (1, 2, 3)\n",
    "t4 = 1, 2, 3\n",
    "t5 = ('a', 'b', ('ab', 'cd'))"
   ]
  },
  {
   "cell_type": "markdown",
   "id": "9f6d5b98",
   "metadata": {},
   "source": [
    "모습은 리스트와 거의 비슷하지만, 튜플에서는 리스트와 다른 2가지 차이점을 찾아볼 수 있다. \n",
    "\n",
    "**t2 = (1,)** 처럼 단지 1개의 요소만을 가질 때는 요소 뒤에 쉼표(,)를 반드시 붙여야 한다는 것과 \n",
    "\n",
    "t4 = 1, 2, 3처럼 `소괄호(())를 생략`해도 된다는 점이다."
   ]
  },
  {
   "cell_type": "markdown",
   "id": "f13cb2dd",
   "metadata": {},
   "source": [
    "튜플과 리스트의 가장 큰 차이는 요솟값을 변화시킬 수 있는지의 여부이다. 즉, 리스트의 요솟값은 변화가 가능하고 튜플의 요솟값은 변화가 불가능하다. "
   ]
  },
  {
   "cell_type": "markdown",
   "id": "e2fdcf7f",
   "metadata": {},
   "source": [
    "### 튜플의 요솟값을 지우거나 변경하려고 하면 어떻게 될까?\n",
    "앞에서 설명했듯이 튜플의 요솟값은 한 번 정하면 지우거나 변경할 수 없다. \n",
    "\n",
    "다음에 소개하는 두 예를 살펴보면 무슨 말인지 알 수 있을 것이다."
   ]
  },
  {
   "cell_type": "markdown",
   "id": "ef8e1f0f",
   "metadata": {},
   "source": [
    "#### 1. 튜플 요솟값을 삭제하려 할 때"
   ]
  },
  {
   "cell_type": "code",
   "execution_count": 4,
   "id": "50ac64c2",
   "metadata": {},
   "outputs": [
    {
     "ename": "TypeError",
     "evalue": "'tuple' object doesn't support item deletion",
     "output_type": "error",
     "traceback": [
      "\u001b[1;31m---------------------------------------------------------------------------\u001b[0m",
      "\u001b[1;31mTypeError\u001b[0m                                 Traceback (most recent call last)",
      "Cell \u001b[1;32mIn[4], line 2\u001b[0m\n\u001b[0;32m      1\u001b[0m t1 \u001b[39m=\u001b[39m (\u001b[39m1\u001b[39m, \u001b[39m2\u001b[39m, \u001b[39m'\u001b[39m\u001b[39ma\u001b[39m\u001b[39m'\u001b[39m, \u001b[39m'\u001b[39m\u001b[39mb\u001b[39m\u001b[39m'\u001b[39m)\n\u001b[1;32m----> 2\u001b[0m \u001b[39mdel\u001b[39;00m t1[\u001b[39m0\u001b[39;49m]\n",
      "\u001b[1;31mTypeError\u001b[0m: 'tuple' object doesn't support item deletion"
     ]
    }
   ],
   "source": [
    "t1 = (1, 2, 'a', 'b')\n",
    ">>> del t1[0]"
   ]
  },
  {
   "cell_type": "markdown",
   "id": "cd11ead5",
   "metadata": {},
   "source": [
    "#### 2. 튜플 요솟값을 변경하려 할 때"
   ]
  },
  {
   "cell_type": "code",
   "execution_count": 5,
   "id": "bc407e76",
   "metadata": {},
   "outputs": [
    {
     "ename": "TypeError",
     "evalue": "'tuple' object does not support item assignment",
     "output_type": "error",
     "traceback": [
      "\u001b[1;31m---------------------------------------------------------------------------\u001b[0m",
      "\u001b[1;31mTypeError\u001b[0m                                 Traceback (most recent call last)",
      "Cell \u001b[1;32mIn[5], line 2\u001b[0m\n\u001b[0;32m      1\u001b[0m t1 \u001b[39m=\u001b[39m (\u001b[39m1\u001b[39m, \u001b[39m2\u001b[39m, \u001b[39m'\u001b[39m\u001b[39ma\u001b[39m\u001b[39m'\u001b[39m, \u001b[39m'\u001b[39m\u001b[39mb\u001b[39m\u001b[39m'\u001b[39m)\n\u001b[1;32m----> 2\u001b[0m t1[\u001b[39m0\u001b[39;49m] \u001b[39m=\u001b[39m \u001b[39m'\u001b[39m\u001b[39mc\u001b[39m\u001b[39m'\u001b[39m\n",
      "\u001b[1;31mTypeError\u001b[0m: 'tuple' object does not support item assignment"
     ]
    }
   ],
   "source": [
    "t1 = (1, 2, 'a', 'b')\n",
    "t1[0] = 'c'"
   ]
  },
  {
   "cell_type": "markdown",
   "id": "6d608022",
   "metadata": {},
   "source": [
    "### 튜플 다루기\n",
    "튜플은 요솟값을 변화시킬 수 없다는 점만 제외하면 리스트와 완전히 동일하므로 간단하게만 살펴보자."
   ]
  },
  {
   "cell_type": "markdown",
   "id": "a985c9c6",
   "metadata": {},
   "source": [
    "#### 인덱싱하기"
   ]
  },
  {
   "cell_type": "code",
   "execution_count": 51,
   "id": "7ef0bb18",
   "metadata": {},
   "outputs": [
    {
     "data": {
      "text/plain": [
       "1"
      ]
     },
     "execution_count": 51,
     "metadata": {},
     "output_type": "execute_result"
    }
   ],
   "source": [
    "t1 = (1, 2, 'a', 'b')\n",
    "t1[0]"
   ]
  },
  {
   "cell_type": "markdown",
   "id": "78363c2f",
   "metadata": {},
   "source": [
    "#### 슬라이싱하기"
   ]
  },
  {
   "cell_type": "code",
   "execution_count": 8,
   "id": "b5bd602d",
   "metadata": {},
   "outputs": [
    {
     "data": {
      "text/plain": [
       "(2, 'a', 'b')"
      ]
     },
     "execution_count": 8,
     "metadata": {},
     "output_type": "execute_result"
    }
   ],
   "source": [
    "t1 = (1, 2, 'a', 'b')\n",
    "t1[1:]"
   ]
  },
  {
   "cell_type": "markdown",
   "id": "b9c856a6",
   "metadata": {},
   "source": [
    "#### 튜플 더하기"
   ]
  },
  {
   "cell_type": "code",
   "execution_count": 9,
   "id": "fc60a05d",
   "metadata": {},
   "outputs": [
    {
     "data": {
      "text/plain": [
       "(1, 2, 'a', 'b', 3, 4)"
      ]
     },
     "execution_count": 9,
     "metadata": {},
     "output_type": "execute_result"
    }
   ],
   "source": [
    "t1 = (1, 2, 'a', 'b')\n",
    "t2 = (3, 4)\n",
    "t3 = t1 + t2\n",
    "t3"
   ]
  },
  {
   "cell_type": "markdown",
   "id": "78c9b11c",
   "metadata": {},
   "source": [
    "#### 튜플 곱하기"
   ]
  },
  {
   "cell_type": "code",
   "execution_count": 58,
   "id": "faf4ee23",
   "metadata": {},
   "outputs": [
    {
     "data": {
      "text/plain": [
       "(3, 4, 3, 4, 3, 4)"
      ]
     },
     "execution_count": 58,
     "metadata": {},
     "output_type": "execute_result"
    }
   ],
   "source": [
    "t2 = (3, 4)\n",
    "t3 = t2 * 3\n",
    "t3"
   ]
  },
  {
   "cell_type": "markdown",
   "id": "14b71aba",
   "metadata": {},
   "source": [
    "#### 튜플 길이 구하기"
   ]
  },
  {
   "cell_type": "code",
   "execution_count": 59,
   "id": "c77e0244",
   "metadata": {},
   "outputs": [
    {
     "data": {
      "text/plain": [
       "4"
      ]
     },
     "execution_count": 59,
     "metadata": {},
     "output_type": "execute_result"
    }
   ],
   "source": [
    "t1 = (1, 2, 'a', 'b')\n",
    "len(t1)"
   ]
  },
  {
   "cell_type": "markdown",
   "id": "a7be3839",
   "metadata": {},
   "source": [
    "## 딕셔너리 자료형"
   ]
  },
  {
   "cell_type": "markdown",
   "id": "a4c246f8",
   "metadata": {},
   "source": [
    "사람은 누구든지 \"이름\" = \"홍길동\", \"생일\" = \"몇 월 며칠\" 등과 같은 방식으로 그 사람이 가진 정보를 나타낼 수 있다.\n",
    "\n",
    "파이썬은 영리하게도 이러한 대응 관계를 나타낼 수 있는 `딕셔너리(dictionary)` 자료형을 가지고 있다.\n",
    "\n",
    "이번에는 이 자료형에 대해 알아보자."
   ]
  },
  {
   "cell_type": "markdown",
   "id": "b0f44c1a",
   "metadata": {},
   "source": [
    "#### 요즘 사용하는 대부분의 언어도 이러한 대응 관계를 나타내는 자료형을 가지고 있는데 이를 딕셔너리라고 하고, `연관 배열(associative array)`또는 `해시(hash)`라고도 한다."
   ]
  },
  {
   "cell_type": "markdown",
   "id": "c6604643",
   "metadata": {},
   "source": [
    "딕셔너리는 단어 그대로 ‘사전’이라는 뜻이다. 즉 \"people\"이라는 단어에 \"사람\", \"baseball\"이라는 단어에 \"야구\"라는 뜻이 부합되듯이 딕셔너리는 Key와 Value를 한 쌍으로 가지는 자료형이다.\n",
    "\n",
    " 예컨대 Key가 \"baseball\"이라면 Value는 \"야구\"가 될 것이다."
   ]
  },
  {
   "cell_type": "markdown",
   "id": "49b6e0f6",
   "metadata": {},
   "source": [
    "![indexing](02_5_baseball.png)"
   ]
  },
  {
   "cell_type": "markdown",
   "id": "51fd557e",
   "metadata": {},
   "source": [
    "딕셔너리는 리스트나 튜플처럼 `순차적으로(sequential) 해당 요솟값을 구하지 않고` Key를 통해 Value를 얻는다. \n",
    "\n",
    "이것이 바로 딕셔너리의 가장 큰 특징이다. \n",
    "\n",
    "baseball이라는 단어의 뜻을 찾기 위해 사전의 내용을 순차적으로 모두 검색하는 것이 아니라 baseball이라는 단어가 있는 곳만 펼쳐 보는 것이다."
   ]
  },
  {
   "cell_type": "markdown",
   "id": "fe58034a",
   "metadata": {},
   "source": [
    "### 딕셔너리는 어떻게 만들까?\n",
    "다음은 딕셔너리의 기본 모습이다."
   ]
  },
  {
   "cell_type": "markdown",
   "id": "273e48d5",
   "metadata": {},
   "source": [
    "`{Key1: Value1, Key2: Value2, Key3: Value3, ...}`"
   ]
  },
  {
   "cell_type": "markdown",
   "id": "e5215408",
   "metadata": {},
   "source": [
    "Key와 Value의 쌍 여러 개가 {}로 둘러싸여 있다. \n",
    "\n",
    "각각의 요소는 Key: Value 형태로 이루어져 있고 쉼표(,)로 구분되어 있다.\n",
    "\n",
    "다음 딕셔너리의 예를 살펴보자."
   ]
  },
  {
   "cell_type": "markdown",
   "id": "143d4a64",
   "metadata": {},
   "source": [
    "#### dic = {'name': 'pey', 'phone': '010-9999-1234', 'birth': '1118'}"
   ]
  },
  {
   "cell_type": "markdown",
   "id": "ff74542d",
   "metadata": {},
   "source": [
    "위에서 Key는 각각 'name', 'phone', 'birth', 각각의 Key에 해당하는 Value는 'pey', '010-9999-1234', '1118'이 된다."
   ]
  },
  {
   "cell_type": "markdown",
   "id": "e2c6ee42",
   "metadata": {},
   "source": [
    "딕셔너리 dic의 정보\n",
    "|key|\tvalue|\n",
    "|--|--|\n",
    "|name|\tpey|\n",
    "|phone|\t010-9999-1234|\n",
    "|birth|\t1118|"
   ]
  },
  {
   "cell_type": "markdown",
   "id": "7f62f5f0",
   "metadata": {},
   "source": [
    "다음은 Key로 정숫값 1, Value로 문자열 'hi'를 사용한 예이다."
   ]
  },
  {
   "cell_type": "code",
   "execution_count": 3,
   "id": "126a5ece",
   "metadata": {},
   "outputs": [],
   "source": [
    "a = {1: 'hi'}"
   ]
  },
  {
   "cell_type": "markdown",
   "id": "e71f3301",
   "metadata": {},
   "source": [
    "또한 다음 예처럼 Value에 리스트도 넣을 수 있다."
   ]
  },
  {
   "cell_type": "code",
   "execution_count": 11,
   "id": "be0b9d64",
   "metadata": {},
   "outputs": [],
   "source": [
    "a = {'a': [1, 2, 3]}\n",
    "\n",
    "# b = "
   ]
  },
  {
   "cell_type": "markdown",
   "id": "3a890abd",
   "metadata": {},
   "source": [
    "### 딕셔너리 쌍 추가, 삭제하기\n",
    "딕셔너리 쌍을 추가 또는 삭제하는 방법을 살펴보자. \n",
    "\n",
    "먼저 딕셔너리에 쌍을 추가해 보자."
   ]
  },
  {
   "cell_type": "markdown",
   "id": "f8272391",
   "metadata": {},
   "source": [
    "#### 딕셔너리 쌍 추가하기"
   ]
  },
  {
   "cell_type": "code",
   "execution_count": 14,
   "id": "ae866e62",
   "metadata": {},
   "outputs": [
    {
     "data": {
      "text/plain": [
       "{1: 'a', 2: 'b'}"
      ]
     },
     "execution_count": 14,
     "metadata": {},
     "output_type": "execute_result"
    }
   ],
   "source": [
    "a = {1: 'a'}\n",
    "a[2] = 'b'\n",
    "a\n",
    "\n",
    "# 'c'"
   ]
  },
  {
   "cell_type": "markdown",
   "id": "8def4338",
   "metadata": {},
   "source": [
    "{1: 'a'} 딕셔너리에 a[2] = 'b'와 같이 입력하면 딕셔너리 a에 Key와 Value가 각각 2와 'b'인 {2: 'b'} 딕셔너리 쌍이 추가된다."
   ]
  },
  {
   "cell_type": "code",
   "execution_count": 7,
   "id": "fab643ee",
   "metadata": {},
   "outputs": [
    {
     "data": {
      "text/plain": [
       "{1: 'a', 2: 'b', 'name': 'pey'}"
      ]
     },
     "execution_count": 7,
     "metadata": {},
     "output_type": "execute_result"
    }
   ],
   "source": [
    "a['name'] = 'pey'\n",
    "a"
   ]
  },
  {
   "cell_type": "markdown",
   "id": "585dadb2",
   "metadata": {},
   "source": [
    "딕셔너리 a에 {'name': 'pey'} 쌍이 추가되었다."
   ]
  },
  {
   "cell_type": "code",
   "execution_count": 8,
   "id": "0ce6137e",
   "metadata": {},
   "outputs": [],
   "source": [
    "a[3] = [1, 2, 3]"
   ]
  },
  {
   "cell_type": "code",
   "execution_count": 9,
   "id": "cb231ff2",
   "metadata": {},
   "outputs": [
    {
     "data": {
      "text/plain": [
       "{1: 'a', 2: 'b', 'name': 'pey', 3: [1, 2, 3]}"
      ]
     },
     "execution_count": 9,
     "metadata": {},
     "output_type": "execute_result"
    }
   ],
   "source": [
    "a"
   ]
  },
  {
   "cell_type": "markdown",
   "id": "03899146",
   "metadata": {},
   "source": [
    "#### 딕셔너리 요소 삭제하기"
   ]
  },
  {
   "cell_type": "code",
   "execution_count": 15,
   "id": "c9e7dc32",
   "metadata": {},
   "outputs": [
    {
     "data": {
      "text/plain": [
       "{2: 'b'}"
      ]
     },
     "execution_count": 15,
     "metadata": {},
     "output_type": "execute_result"
    }
   ],
   "source": [
    "del a[1]\n",
    "a"
   ]
  },
  {
   "cell_type": "markdown",
   "id": "f2b5d8af",
   "metadata": {},
   "source": [
    "위 예제는 딕셔너리 요소를 지우는 방법을 보여 준다. \n",
    "\n",
    "del 함수를 사용해서 **del a[`key`]** 를 입력하면 지정한 Key에 해당하는 {Key: Value} 쌍이 삭제된다."
   ]
  },
  {
   "cell_type": "markdown",
   "id": "7fec7a25",
   "metadata": {},
   "source": [
    "### 딕셔너리를 사용하는 방법\n",
    "‘딕셔너리는 주로 어떤 것을 표현하는 데 사용할까?’라는 의문이 들 것이다. \n",
    "\n",
    "예를 들어 4명의 사람이 있다고 가정하고 각자의 특기를 표현할 수 있는 좋은 방법에 대해서 생각해 보자. \n",
    "\n",
    "리스트나 문자열로는 표현하기가 매우 까다로울 것이다. 하지만 파이썬의 딕셔너리를 사용하면 이 상황을 표현하기가 정말 쉽다.\n",
    "\n",
    "다음 예를 살펴보자."
   ]
  },
  {
   "cell_type": "code",
   "execution_count": 16,
   "id": "25bb2203",
   "metadata": {},
   "outputs": [
    {
     "data": {
      "text/plain": [
       "{'김연아': '피겨스케이팅', '류현진': '야구', '손흥민': '축구', '배구': '김연경'}"
      ]
     },
     "execution_count": 16,
     "metadata": {},
     "output_type": "execute_result"
    }
   ],
   "source": [
    "{\"김연아\": \"피겨스케이팅\", \"류현진\": \"야구\", \"손흥민\": \"축구\", \"배구\": \"김연경\"}"
   ]
  },
  {
   "cell_type": "markdown",
   "id": "c8547312",
   "metadata": {},
   "source": [
    "#### 딕셔너리에서 Key를 사용해 Value 얻기"
   ]
  },
  {
   "cell_type": "code",
   "execution_count": 12,
   "id": "96d1f283",
   "metadata": {},
   "outputs": [
    {
     "data": {
      "text/plain": [
       "99"
      ]
     },
     "execution_count": 12,
     "metadata": {},
     "output_type": "execute_result"
    }
   ],
   "source": [
    "grade = {'pey': 10, 'julliet': 99}\n",
    "grade['pey']\n",
    "grade['julliet']"
   ]
  },
  {
   "cell_type": "markdown",
   "id": "f491e0e0",
   "metadata": {},
   "source": [
    "딕셔너리는 바로 Key를 사용해서 Value를 구하는 방법이다. \n",
    "\n",
    "위 예에서 'pey'라는 Key의 Value를 얻기 위해 grade['pey']를 사용한 것처럼 어떤 Key의 Value를 얻기 위해서는 '딕셔너리_변수_이름[Key]'를 사용해야 한다."
   ]
  },
  {
   "cell_type": "code",
   "execution_count": 17,
   "id": "94269864",
   "metadata": {},
   "outputs": [
    {
     "data": {
      "text/plain": [
       "'a'"
      ]
     },
     "execution_count": 17,
     "metadata": {},
     "output_type": "execute_result"
    }
   ],
   "source": [
    "a = {1:'a', 2:'b'}\n",
    "a[1]"
   ]
  },
  {
   "cell_type": "code",
   "execution_count": 18,
   "id": "5de7de4a",
   "metadata": {},
   "outputs": [
    {
     "data": {
      "text/plain": [
       "dict"
      ]
     },
     "execution_count": 18,
     "metadata": {},
     "output_type": "execute_result"
    }
   ],
   "source": [
    "type(a)"
   ]
  },
  {
   "cell_type": "code",
   "execution_count": 19,
   "id": "10a0152f",
   "metadata": {},
   "outputs": [
    {
     "data": {
      "text/plain": [
       "list"
      ]
     },
     "execution_count": 19,
     "metadata": {},
     "output_type": "execute_result"
    }
   ],
   "source": [
    "a = [1, 2, 3]\n",
    "type(a)"
   ]
  },
  {
   "cell_type": "code",
   "execution_count": 21,
   "id": "ebe5b012",
   "metadata": {},
   "outputs": [
    {
     "data": {
      "text/plain": [
       "'1118'"
      ]
     },
     "execution_count": 21,
     "metadata": {},
     "output_type": "execute_result"
    }
   ],
   "source": [
    "dic = {'name':'pey', 'phone':'010-9999-1234', 'birth': '1118'}\n",
    "dic['name']\n",
    "dic['phone']\n",
    "dic['birth']"
   ]
  },
  {
   "cell_type": "markdown",
   "id": "aa59cfe3",
   "metadata": {},
   "source": [
    "#### 딕셔너리 만들 때 주의할 사항\n",
    "딕셔너리에서 Key는 고유한 값이므로 중복되는 Key 값을 설정해 놓으면 하나를 제외한 나머지 것들이 모두 무시된다는 점에 주의해야 한다.\n",
    "\n",
    "다음 예에서 볼 수 있듯이 동일한 Key가 2개 존재할 경우, 1: 'a' 쌍이 무시된다."
   ]
  },
  {
   "cell_type": "code",
   "execution_count": 22,
   "id": "768e6c95",
   "metadata": {},
   "outputs": [
    {
     "data": {
      "text/plain": [
       "{1: 'b'}"
      ]
     },
     "execution_count": 22,
     "metadata": {},
     "output_type": "execute_result"
    }
   ],
   "source": [
    "a = {1:'a', 1:'b'}\n",
    "a"
   ]
  },
  {
   "cell_type": "markdown",
   "id": "8fafdef0",
   "metadata": {},
   "source": [
    "이렇게 Key가 중복되었을 때 1개를 제외한 나머지 Key: Value 값이 모두 무시되는 이유는 Key를 통해서 Value를 얻는 딕셔너리의 특징 때문이다.\n",
    "\n",
    "즉, 딕셔너리에는 동일한 Key가 중복으로 존재할 수 없다."
   ]
  },
  {
   "cell_type": "markdown",
   "id": "4906bbff",
   "metadata": {},
   "source": [
    "또 1가지 주의해야 할 점은 Key에 리스트는 쓸 수 없다는 것이다"
   ]
  },
  {
   "cell_type": "code",
   "execution_count": 22,
   "id": "3d6f18a9",
   "metadata": {},
   "outputs": [
    {
     "ename": "TypeError",
     "evalue": "unhashable type: 'list'",
     "output_type": "error",
     "traceback": [
      "\u001b[1;31m---------------------------------------------------------------------------\u001b[0m",
      "\u001b[1;31mTypeError\u001b[0m                                 Traceback (most recent call last)",
      "Cell \u001b[1;32mIn[22], line 1\u001b[0m\n\u001b[1;32m----> 1\u001b[0m a \u001b[39m=\u001b[39m {[\u001b[39m1\u001b[39m,\u001b[39m2\u001b[39m] : \u001b[39m'\u001b[39m\u001b[39mhi\u001b[39m\u001b[39m'\u001b[39m}\n",
      "\u001b[1;31mTypeError\u001b[0m: unhashable type: 'list'"
     ]
    }
   ],
   "source": [
    "a = {[1,2] : 'hi'}"
   ]
  },
  {
   "cell_type": "code",
   "execution_count": 25,
   "id": "1e255513",
   "metadata": {},
   "outputs": [
    {
     "data": {
      "text/plain": [
       "'hi'"
      ]
     },
     "execution_count": 25,
     "metadata": {},
     "output_type": "execute_result"
    }
   ],
   "source": [
    "a = {(1,2) : 'hi'}\n",
    "a[1,2]"
   ]
  },
  {
   "cell_type": "markdown",
   "id": "d15b94e7",
   "metadata": {},
   "source": [
    "### 딕셔너리 관련 함수\n",
    "#### Key 리스트 만들기 - keys"
   ]
  },
  {
   "cell_type": "code",
   "execution_count": 28,
   "id": "226fefd6",
   "metadata": {},
   "outputs": [
    {
     "data": {
      "text/plain": [
       "dict_keys(['name', 'phone', 'birth'])"
      ]
     },
     "execution_count": 28,
     "metadata": {},
     "output_type": "execute_result"
    }
   ],
   "source": [
    "a = {'name': 'pey', 'phone': '010-9999-1234', 'birth': '1118'}\n",
    "a.keys()"
   ]
  },
  {
   "cell_type": "markdown",
   "id": "26e91c69",
   "metadata": {},
   "source": [
    "a.keys()는 딕셔너리 a의 Key만을 모아 dict_keys 객체를 리턴한다."
   ]
  },
  {
   "cell_type": "markdown",
   "id": "af9386e4",
   "metadata": {},
   "source": [
    "#### 파이썬 3.0 이후 버전의 keys 함수, 어떻게 달라졌나?\n",
    "파이썬 2.7 버전까지는 a.keys() 함수를 호출하면 dict_keys가 아닌 리스트를 리턴한다. \n",
    "\n",
    "리스트를 리턴하기 위해서는 메모리 낭비가 발생하는데, 파이썬 3.0 이후 버전에서는 이러한 메모리 낭비를 줄이기 위해 dict_keys 객체를 리턴하도록 변경되었다. \n",
    "\n",
    "다음에 소개할 dict_values, dict_items 역시 파이썬 3.0 이후 버전에서 추가된 것들이다. \n",
    "\n",
    "만약 3.0 이후 버전에서 리턴값으로 리스트가 필요한 경우에는 `list(a.keys())`를 사용하면 된다. \n",
    "\n",
    "dict_keys, dict_values, dict_items 객체는 리스트로 변환하지 않더라도 기본적인 반복 구문(예: for 문)에서 사용할 수 있다."
   ]
  },
  {
   "cell_type": "code",
   "execution_count": 46,
   "id": "1d0b2974",
   "metadata": {},
   "outputs": [
    {
     "name": "stdout",
     "output_type": "stream",
     "text": [
      "name\n",
      "phone\n",
      "birth\n"
     ]
    }
   ],
   "source": [
    "for k in a.keys():\n",
    "    print(k)"
   ]
  },
  {
   "cell_type": "markdown",
   "id": "25403495",
   "metadata": {},
   "source": [
    "dict_keys 객체는 다음과 같이 사용할 수 있다. \n",
    "\n",
    "리스트를 사용하는 것과 별 차이는 없지만, 리스트 고유의 append, insert, pop, remove, sort 함수는 수행할 수 없다."
   ]
  },
  {
   "cell_type": "markdown",
   "id": "d7c7fb73",
   "metadata": {},
   "source": [
    "dict_keys 객체를 리스트로 변환하려면 다음과 같이 하면 된다."
   ]
  },
  {
   "cell_type": "code",
   "execution_count": 29,
   "id": "d9d2c82c",
   "metadata": {},
   "outputs": [
    {
     "data": {
      "text/plain": [
       "['name', 'phone', 'birth']"
      ]
     },
     "execution_count": 29,
     "metadata": {},
     "output_type": "execute_result"
    }
   ],
   "source": [
    "list(a.keys())\n"
   ]
  },
  {
   "cell_type": "code",
   "execution_count": 48,
   "id": "64c6708e",
   "metadata": {},
   "outputs": [
    {
     "data": {
      "text/plain": [
       "'name'"
      ]
     },
     "execution_count": 48,
     "metadata": {},
     "output_type": "execute_result"
    }
   ],
   "source": [
    "#a = list(a.keys())\n",
    "#a[0]"
   ]
  },
  {
   "cell_type": "markdown",
   "id": "7c761709",
   "metadata": {},
   "source": [
    "#### Value 리스트 만들기 - values"
   ]
  },
  {
   "cell_type": "code",
   "execution_count": 30,
   "id": "1ddf2971",
   "metadata": {},
   "outputs": [
    {
     "data": {
      "text/plain": [
       "dict_values(['pey', '010-9999-1234', '1118'])"
      ]
     },
     "execution_count": 30,
     "metadata": {},
     "output_type": "execute_result"
    }
   ],
   "source": [
    "a.values()"
   ]
  },
  {
   "cell_type": "markdown",
   "id": "138c1045",
   "metadata": {},
   "source": [
    "Key를 얻는 것과 마찬가지 방법으로 Value만 얻고 싶다면 values 함수를 사용하면 된다. \n",
    "\n",
    "values 함수를 호출하면 dict_values 객체를 리턴한다."
   ]
  },
  {
   "cell_type": "markdown",
   "id": "912a12a9",
   "metadata": {},
   "source": [
    "#### Key, Value 쌍 얻기 - items"
   ]
  },
  {
   "cell_type": "code",
   "execution_count": 32,
   "id": "45b25b0b",
   "metadata": {},
   "outputs": [
    {
     "data": {
      "text/plain": [
       "dict_items([('name', 'pey'), ('phone', '010-9999-1234'), ('birth', '1118')])"
      ]
     },
     "execution_count": 32,
     "metadata": {},
     "output_type": "execute_result"
    }
   ],
   "source": [
    "a.items()"
   ]
  },
  {
   "cell_type": "markdown",
   "id": "3e5e2099",
   "metadata": {},
   "source": [
    "#### Key: Value 쌍 모두 지우기 - clear"
   ]
  },
  {
   "cell_type": "code",
   "execution_count": 53,
   "id": "80a5958d",
   "metadata": {},
   "outputs": [
    {
     "data": {
      "text/plain": [
       "{}"
      ]
     },
     "execution_count": 53,
     "metadata": {},
     "output_type": "execute_result"
    }
   ],
   "source": [
    "a.clear()\n",
    "a"
   ]
  },
  {
   "cell_type": "markdown",
   "id": "4cad4957",
   "metadata": {},
   "source": [
    "#### Key로 Value 얻기 - get"
   ]
  },
  {
   "cell_type": "code",
   "execution_count": 41,
   "id": "48b545ea",
   "metadata": {},
   "outputs": [
    {
     "data": {
      "text/plain": [
       "'pey'"
      ]
     },
     "execution_count": 41,
     "metadata": {},
     "output_type": "execute_result"
    }
   ],
   "source": [
    "a = {'name': 'pey', 'phone': '010-9999-1234', 'birth': '1118'}\n",
    "a.get('name')"
   ]
  },
  {
   "cell_type": "markdown",
   "id": "01c54115",
   "metadata": {},
   "source": [
    "a['nokey'] 방식은 오류를 발생시키고 a.get('nokey') 방식은 `None을 리턴`한다는 차이"
   ]
  },
  {
   "cell_type": "code",
   "execution_count": 42,
   "id": "882778f6",
   "metadata": {},
   "outputs": [
    {
     "name": "stdout",
     "output_type": "stream",
     "text": [
      "None\n"
     ]
    }
   ],
   "source": [
    "a = {'name':'pey', 'phone':'010-9999-1234', 'birth': '1118'}\n",
    "print(a.get('nokey'))"
   ]
  },
  {
   "cell_type": "code",
   "execution_count": 43,
   "id": "fc48f059",
   "metadata": {},
   "outputs": [
    {
     "ename": "KeyError",
     "evalue": "'nokey'",
     "output_type": "error",
     "traceback": [
      "\u001b[1;31m---------------------------------------------------------------------------\u001b[0m",
      "\u001b[1;31mKeyError\u001b[0m                                  Traceback (most recent call last)",
      "Cell \u001b[1;32mIn[43], line 1\u001b[0m\n\u001b[1;32m----> 1\u001b[0m \u001b[39mprint\u001b[39m(a[\u001b[39m'\u001b[39;49m\u001b[39mnokey\u001b[39;49m\u001b[39m'\u001b[39;49m])\n",
      "\u001b[1;31mKeyError\u001b[0m: 'nokey'"
     ]
    }
   ],
   "source": [
    "print(a['nokey'])"
   ]
  },
  {
   "cell_type": "markdown",
   "id": "5e3a782a",
   "metadata": {},
   "source": [
    "딕셔너리 안에 찾으려는 Key가 없을 경우, 미리 정해 둔 디폴트 값을 대신 가져오게 하고 싶을 때는 get(x, `디폴트 값`)을 사용하면 편리하다."
   ]
  },
  {
   "cell_type": "code",
   "execution_count": 47,
   "id": "a3c40821",
   "metadata": {},
   "outputs": [
    {
     "data": {
      "text/plain": [
       "'foo'"
      ]
     },
     "execution_count": 47,
     "metadata": {},
     "output_type": "execute_result"
    }
   ],
   "source": [
    "a.get('nokey', 'foo')"
   ]
  },
  {
   "cell_type": "markdown",
   "id": "2e8ed349",
   "metadata": {},
   "source": [
    "#### 해당 Key가 딕셔너리 안에 있는지 조사하기 - in"
   ]
  },
  {
   "cell_type": "code",
   "execution_count": 48,
   "id": "533dfafa",
   "metadata": {},
   "outputs": [
    {
     "data": {
      "text/plain": [
       "True"
      ]
     },
     "execution_count": 48,
     "metadata": {},
     "output_type": "execute_result"
    }
   ],
   "source": [
    "a = {'name':'pey', 'phone':'010-9999-1234', 'birth': '1118'}\n",
    "'name' in a"
   ]
  },
  {
   "cell_type": "code",
   "execution_count": 49,
   "id": "11efe940",
   "metadata": {},
   "outputs": [
    {
     "data": {
      "text/plain": [
       "False"
      ]
     },
     "execution_count": 49,
     "metadata": {},
     "output_type": "execute_result"
    }
   ],
   "source": [
    "'email' in a"
   ]
  },
  {
   "cell_type": "markdown",
   "id": "eb0d1fd4",
   "metadata": {},
   "source": [
    "'name' 문자열은 a 딕셔너리의 Key 중 하나이다. 따라서 'name' in a를 호출하면 참(True)을 리턴한다.\n",
    "\n",
    "이와 반대로 'email'은 a 딕셔너리 안에 존재하지 않는 Key이므로 거짓(False)을 리턴한다."
   ]
  },
  {
   "cell_type": "markdown",
   "id": "eee9be52",
   "metadata": {},
   "source": [
    "## 집합 자료형\n",
    "집합(set)은 집합에 관련된 것을 쉽게 처리하기 위해 만든 자료형이다."
   ]
  },
  {
   "cell_type": "markdown",
   "id": "59c84317",
   "metadata": {},
   "source": [
    "#### 집합 자료형은 어떻게 만들까?\n",
    "집합 자료형은 다음과 같이 `**set 키워드**`를 사용해 만들 수 있다."
   ]
  },
  {
   "cell_type": "code",
   "execution_count": 10,
   "id": "73d6097f",
   "metadata": {},
   "outputs": [
    {
     "data": {
      "text/plain": [
       "{1, 2, 3}"
      ]
     },
     "execution_count": 10,
     "metadata": {},
     "output_type": "execute_result"
    }
   ],
   "source": [
    "s1 = set([1, 2, 3])\n",
    "s1"
   ]
  },
  {
   "cell_type": "markdown",
   "id": "06b6d9aa",
   "metadata": {},
   "source": [
    "위와 같이 set()의 괄호 안에 리스트를 입력하여 만들거나 다음과 같이 문자열을 입력하여 만들 수도 있다."
   ]
  },
  {
   "cell_type": "code",
   "execution_count": 1,
   "id": "5e66bc5a",
   "metadata": {},
   "outputs": [
    {
     "data": {
      "text/plain": [
       "{'H', 'e', 'l', 'o'}"
      ]
     },
     "execution_count": 1,
     "metadata": {},
     "output_type": "execute_result"
    }
   ],
   "source": [
    "s2 = set(\"Hello\")\n",
    "s2"
   ]
  },
  {
   "cell_type": "markdown",
   "id": "c5cef586",
   "metadata": {},
   "source": [
    "#### 집합 자료형의 특징\n",
    "`중복을 허용하지 않는다.` <br>\n",
    "`순서가 없다(Unordered).`\n",
    "\n",
    "set은 중복을 허용하지 않는 특징 때문에 데이터의 중복을 제거하기 위한 필터로 종종 사용된다."
   ]
  },
  {
   "cell_type": "markdown",
   "id": "0982752d",
   "metadata": {},
   "source": [
    "리스트나 튜플은 순서가 있기(ordered) 때문에 인덱싱을 통해 요솟값을 얻을 수 있지만,<br>\n",
    "set 자료형은 순서가 없기(unordered) 때문에 `인덱싱을 통해 요솟값을 얻을 수 없다` \n",
    "\n",
    "딕셔너리 역시 순서가 없는 자료형이므로 인덱싱을 지원하지 않는다."
   ]
  },
  {
   "cell_type": "markdown",
   "id": "053a37d5",
   "metadata": {},
   "source": [
    "만약 set 자료형에 저장된 값을 인덱싱으로 접근하려면 다음과 같이 리스트나 튜플로 변환한 후에 해야 한다."
   ]
  },
  {
   "cell_type": "code",
   "execution_count": 3,
   "id": "e96363f6",
   "metadata": {},
   "outputs": [
    {
     "name": "stdout",
     "output_type": "stream",
     "text": [
      "[1, 2, 3]\n",
      "1\n"
     ]
    }
   ],
   "source": [
    "s1 = set([1, 2, 3])\n",
    "l1 = list(s1)\n",
    "print(l1)\n",
    "print(l1[0])\n"
   ]
  },
  {
   "cell_type": "code",
   "execution_count": 5,
   "id": "9d162c47",
   "metadata": {},
   "outputs": [
    {
     "name": "stdout",
     "output_type": "stream",
     "text": [
      "(1, 2, 3)\n",
      "1\n"
     ]
    }
   ],
   "source": [
    "t1 = tuple(s1)\n",
    "print(t1)\n",
    "print(t1[0])"
   ]
  },
  {
   "cell_type": "markdown",
   "id": "c9d9914e",
   "metadata": {},
   "source": [
    "#### 교집합, 합집합, 차집합 구하기\n",
    "set 자료형을 정말 유용하게 사용하는 경우는 교집합, 합집합, 차집합을 구할 때.<br>\n",
    "\n",
    "먼저 다음과 같이 2개의 set 자료형을 만든 후 따라 해 보자\n"
   ]
  },
  {
   "cell_type": "code",
   "execution_count": 51,
   "id": "66501643",
   "metadata": {},
   "outputs": [],
   "source": [
    "s1 = set([1, 2, 3, 4, 5, 6])\n",
    "s2 = set([4, 5, 6, 7, 8, 9])"
   ]
  },
  {
   "cell_type": "code",
   "execution_count": 52,
   "id": "dd5d5e12",
   "metadata": {},
   "outputs": [
    {
     "data": {
      "text/plain": [
       "{4, 5, 6}"
      ]
     },
     "execution_count": 52,
     "metadata": {},
     "output_type": "execute_result"
    }
   ],
   "source": [
    "# &의 의미는 and로 해석하면 됨 (교집합)\n",
    "s1 & s2"
   ]
  },
  {
   "cell_type": "code",
   "execution_count": 10,
   "id": "f95f1108",
   "metadata": {},
   "outputs": [
    {
     "data": {
      "text/plain": [
       "{4, 5, 6}"
      ]
     },
     "execution_count": 10,
     "metadata": {},
     "output_type": "execute_result"
    }
   ],
   "source": [
    "# intersection 함수를 이용해도 결과는 동일\n",
    "s1.intersection(s2)"
   ]
  },
  {
   "cell_type": "markdown",
   "id": "62e90b87",
   "metadata": {},
   "source": [
    "#### 합집합 구하기"
   ]
  },
  {
   "cell_type": "code",
   "execution_count": 53,
   "id": "847d8081",
   "metadata": {},
   "outputs": [
    {
     "data": {
      "text/plain": [
       "{1, 2, 3, 4, 5, 6, 7, 8, 9}"
      ]
     },
     "execution_count": 53,
     "metadata": {},
     "output_type": "execute_result"
    }
   ],
   "source": [
    "# | 의미는 or로 해석하면 됨 (합집합)\n",
    "s1 | s2"
   ]
  },
  {
   "cell_type": "code",
   "execution_count": 13,
   "id": "bb741b3a",
   "metadata": {},
   "outputs": [
    {
     "data": {
      "text/plain": [
       "{1, 2, 3, 4, 5, 6, 7, 8, 9}"
      ]
     },
     "execution_count": 13,
     "metadata": {},
     "output_type": "execute_result"
    }
   ],
   "source": [
    "# union 함수를 이용해도 결과는 동일\n",
    "s1.union(s2)"
   ]
  },
  {
   "cell_type": "markdown",
   "id": "7d9bed63",
   "metadata": {},
   "source": [
    "#### 차집합 구하기\n",
    "-(빼기)를 사용하면 차집합을 구할 수 있다."
   ]
  },
  {
   "cell_type": "code",
   "execution_count": 54,
   "id": "15a7bb51",
   "metadata": {},
   "outputs": [
    {
     "data": {
      "text/plain": [
       "{1, 2, 3}"
      ]
     },
     "execution_count": 54,
     "metadata": {},
     "output_type": "execute_result"
    }
   ],
   "source": [
    "s1 - s2"
   ]
  },
  {
   "cell_type": "code",
   "execution_count": 55,
   "id": "489d2562",
   "metadata": {},
   "outputs": [
    {
     "data": {
      "text/plain": [
       "{7, 8, 9}"
      ]
     },
     "execution_count": 55,
     "metadata": {},
     "output_type": "execute_result"
    }
   ],
   "source": [
    "s2 - s1"
   ]
  },
  {
   "cell_type": "markdown",
   "id": "e8cb510a",
   "metadata": {},
   "source": [
    "#### 집합 자료형 관련 함수\n",
    "**값 1개 추가하기 - add**"
   ]
  },
  {
   "cell_type": "markdown",
   "id": "84cac8c5",
   "metadata": {},
   "source": [
    "이미 만들어진 set 자료형에 값을 추가할 수 있다"
   ]
  },
  {
   "cell_type": "code",
   "execution_count": 19,
   "id": "278a045e",
   "metadata": {},
   "outputs": [
    {
     "data": {
      "text/plain": [
       "{1, 2, 3, 4}"
      ]
     },
     "execution_count": 19,
     "metadata": {},
     "output_type": "execute_result"
    }
   ],
   "source": [
    "s1 = set([1, 2, 3])\n",
    "s1.add(4)\n",
    "s1"
   ]
  },
  {
   "cell_type": "markdown",
   "id": "1701eea7",
   "metadata": {},
   "source": [
    "**값 여러 개 추가하기 -update**"
   ]
  },
  {
   "cell_type": "code",
   "execution_count": 23,
   "id": "8845d544",
   "metadata": {},
   "outputs": [
    {
     "data": {
      "text/plain": [
       "{1, 2, 3, 4, 5, 6}"
      ]
     },
     "execution_count": 23,
     "metadata": {},
     "output_type": "execute_result"
    }
   ],
   "source": [
    "s1 = set([1, 2, 3])\n",
    "s1.update([4, 5, 6])\n",
    "s1"
   ]
  },
  {
   "cell_type": "markdown",
   "id": "0d7d5b11",
   "metadata": {},
   "source": [
    "**특정 값 제거하기 - remove** "
   ]
  },
  {
   "cell_type": "code",
   "execution_count": 25,
   "id": "a8afea44",
   "metadata": {},
   "outputs": [
    {
     "data": {
      "text/plain": [
       "{1, 3}"
      ]
     },
     "execution_count": 25,
     "metadata": {},
     "output_type": "execute_result"
    }
   ],
   "source": [
    "s1 = set([1, 2, 3])\n",
    "s1.remove(2)\n",
    "s1"
   ]
  },
  {
   "cell_type": "markdown",
   "id": "400d5f47",
   "metadata": {},
   "source": [
    "### 불(bool) 자료형\n",
    "불(bool) 자료형이란 참(True)과 거짓(False)을 나타내는 자료형이다.<br> \n",
    "\n",
    "`True`: 참을 의미한다.<br>\n",
    "`False`: 거짓을 의미한다."
   ]
  },
  {
   "cell_type": "code",
   "execution_count": 26,
   "id": "4cd9281e",
   "metadata": {},
   "outputs": [],
   "source": [
    "a = True\n",
    "b = False"
   ]
  },
  {
   "cell_type": "code",
   "execution_count": 27,
   "id": "9296a9e4",
   "metadata": {},
   "outputs": [
    {
     "data": {
      "text/plain": [
       "bool"
      ]
     },
     "execution_count": 27,
     "metadata": {},
     "output_type": "execute_result"
    }
   ],
   "source": [
    "type(a)"
   ]
  },
  {
   "cell_type": "code",
   "execution_count": 30,
   "id": "753eda08",
   "metadata": {},
   "outputs": [
    {
     "data": {
      "text/plain": [
       "True"
      ]
     },
     "execution_count": 30,
     "metadata": {},
     "output_type": "execute_result"
    }
   ],
   "source": [
    "1 == 1"
   ]
  },
  {
   "cell_type": "code",
   "execution_count": 31,
   "id": "a3b8672d",
   "metadata": {},
   "outputs": [
    {
     "data": {
      "text/plain": [
       "True"
      ]
     },
     "execution_count": 31,
     "metadata": {},
     "output_type": "execute_result"
    }
   ],
   "source": [
    "2 > 1"
   ]
  },
  {
   "cell_type": "code",
   "execution_count": 32,
   "id": "93161846",
   "metadata": {},
   "outputs": [
    {
     "data": {
      "text/plain": [
       "False"
      ]
     },
     "execution_count": 32,
     "metadata": {},
     "output_type": "execute_result"
    }
   ],
   "source": [
    "2 < 1\n"
   ]
  },
  {
   "cell_type": "markdown",
   "id": "946ff7ad",
   "metadata": {},
   "source": [
    "### 자료형의 참과 거짓"
   ]
  },
  {
   "cell_type": "markdown",
   "id": "bf2a3688",
   "metadata": {},
   "source": [
    "`자료형에 참과 거짓이 있다?` 라는 말이 조금 이상하게 들리겠지만, 참과 거짓은 분명히 있다. <br>\n",
    "\n",
    "이는 매우 중요한 특징이며 실제로도 자주 쓰인다."
   ]
  },
  {
   "cell_type": "markdown",
   "id": "b408221a",
   "metadata": {},
   "source": [
    "|값|\t참 or 거짓|\n",
    "|---|---|\n",
    "|\"python\"|\t참|\n",
    "|\"\"|\t거짓|\n",
    "|[1, 2, 3]|\t참|\n",
    "|[]|\t거짓|\n",
    "|(1, 2, 3)|\t참|\n",
    "|()|\t거짓|\n",
    "|{'a': 1}|\t참|\n",
    "|{}|\t거짓|\n",
    "|1|\t참|\n",
    "|0|\t거짓|\n",
    "|None|\t거짓|"
   ]
  },
  {
   "cell_type": "markdown",
   "id": "90886d9c",
   "metadata": {},
   "source": [
    "문자열, 리스트, 튜플, 딕셔너리 등의 값이 비어 있으면`(\"\", [], (), {}) 거짓`이 되고 비어 있지 않으면 참이 된다"
   ]
  },
  {
   "cell_type": "markdown",
   "id": "d1c36fe0",
   "metadata": {},
   "source": [
    "다음 예를 보고 자료형의 참과 거짓이 프로그램에서 어떻게 쓰이는지 간단히 알아보자."
   ]
  },
  {
   "cell_type": "code",
   "execution_count": 57,
   "id": "84b2305a",
   "metadata": {},
   "outputs": [
    {
     "name": "stdout",
     "output_type": "stream",
     "text": [
      "4\n",
      "3\n",
      "2\n",
      "1\n"
     ]
    }
   ],
   "source": [
    "a = [1, 2, 3, 4]\n",
    "while a:\n",
    "    print(a.pop())"
   ]
  },
  {
   "cell_type": "markdown",
   "id": "7dd55e4d",
   "metadata": {},
   "source": [
    "while 조건문:\n",
    "    수행할_문장\n",
    "\n",
    "**조건문이 거짓이 되면 반복문을 빠져나감**"
   ]
  },
  {
   "cell_type": "markdown",
   "id": "f53c9cd9",
   "metadata": {},
   "source": [
    "#### 다른 예시"
   ]
  },
  {
   "cell_type": "code",
   "execution_count": 39,
   "id": "9ddbc263",
   "metadata": {},
   "outputs": [
    {
     "name": "stdout",
     "output_type": "stream",
     "text": [
      "거짓\n"
     ]
    }
   ],
   "source": [
    "if []:\n",
    "    print(\"참\")\n",
    "else:\n",
    "    print(\"거짓\")"
   ]
  },
  {
   "cell_type": "code",
   "execution_count": 40,
   "id": "f921b6be",
   "metadata": {},
   "outputs": [
    {
     "name": "stdout",
     "output_type": "stream",
     "text": [
      "참\n"
     ]
    }
   ],
   "source": [
    "if [1, 2, 3]:\n",
    "    print(\"참\")\n",
    "else:\n",
    "    print(\"거짓\")\n",
    " "
   ]
  },
  {
   "cell_type": "code",
   "execution_count": 41,
   "id": "a7ecb371",
   "metadata": {},
   "outputs": [
    {
     "name": "stdout",
     "output_type": "stream",
     "text": [
      "b is bigger than a\n"
     ]
    }
   ],
   "source": [
    "a = 1\n",
    "b = 7\n",
    "\n",
    "if a > b:\n",
    "    print('a is bigger than b')\n",
    "else: \n",
    "    print('b is bigger than a')"
   ]
  },
  {
   "cell_type": "markdown",
   "id": "3a52375e",
   "metadata": {},
   "source": [
    "#### 자료형의 값을 저장하는 공간, 변수"
   ]
  },
  {
   "cell_type": "markdown",
   "id": "b39b102a",
   "metadata": {},
   "source": [
    "**변수는 어떻게 만들까?**"
   ]
  },
  {
   "cell_type": "code",
   "execution_count": 46,
   "id": "83c62239",
   "metadata": {},
   "outputs": [],
   "source": [
    "a = 1\n",
    "b = \"python\"\n",
    "c = [1, 2, 3]"
   ]
  },
  {
   "cell_type": "markdown",
   "id": "2b43c739",
   "metadata": {},
   "source": [
    "변수를 만들 때는 위 예처럼 `=(assignment)` 기호를 사용한다."
   ]
  },
  {
   "cell_type": "markdown",
   "id": "8d9feaeb",
   "metadata": {},
   "source": [
    "변수_이름 = 변수에_저장할_값"
   ]
  },
  {
   "cell_type": "markdown",
   "id": "d1999bbd",
   "metadata": {},
   "source": [
    "다른 프로그래밍 언어인 C나 JAVA에서는 변수를 만들 때 `자료형의 타입을 직접 지정`해야 한다.\n",
    "\n",
    "하지만 파이썬은 변수에 저장된 값을 스스로 판단하여 자료형의 타입을 지정하기 때문에 더 편리하다."
   ]
  },
  {
   "cell_type": "markdown",
   "id": "357abe32",
   "metadata": {},
   "source": [
    "#### 변수란?"
   ]
  },
  {
   "cell_type": "markdown",
   "id": "e9c912bd",
   "metadata": {},
   "source": [
    "파이썬에서 사용하는 변수는 `객체`를 가리키는 것이라고도 말할 수 있다. \n",
    "\n",
    "`객체`란 우리가 지금까지 보아 온 자료형의 데이터(값)와 같은 것을 의미하는 말이다"
   ]
  },
  {
   "cell_type": "markdown",
   "id": "a68a7e86",
   "metadata": {},
   "source": [
    "a = [1, 2, 3]"
   ]
  },
  {
   "cell_type": "markdown",
   "id": "f6ac1f2b",
   "metadata": {},
   "source": [
    "만약 위 코드처럼 a = [1, 2, 3]이라고 하면, [1, 2, 3] 값을 가지는 리스트 `데이터(객체)`가 \n",
    "\n",
    "자동으로 메모리에 생성되고 변수 a는 [1, 2, 3] 리스트가 저장된 `메모리의 주소`를 가리키게 된다."
   ]
  },
  {
   "cell_type": "code",
   "execution_count": 58,
   "id": "0e512ded",
   "metadata": {},
   "outputs": [
    {
     "data": {
      "text/plain": [
       "1953734790400"
      ]
     },
     "execution_count": 58,
     "metadata": {},
     "output_type": "execute_result"
    }
   ],
   "source": [
    "a = [1, 2, 3]\n",
    "id(a)"
   ]
  },
  {
   "cell_type": "markdown",
   "id": "2707c186",
   "metadata": {},
   "source": [
    "`id 내장함수`는 변수가 가리키고 있는 객체의 주소 값을 리턴하는 파이썬의 내장 함수이다.<br>\n",
    "\n",
    "즉, 여기에서 만든 변수 a가 가리키는 [1, 2, 3] 리스트의 주소 값은 1953734790400이라는 것을 알 수 있다."
   ]
  },
  {
   "cell_type": "markdown",
   "id": "b331bbaa",
   "metadata": {},
   "source": [
    "![indexing](02_8_memory.png)"
   ]
  },
  {
   "cell_type": "markdown",
   "id": "ee582fbb",
   "metadata": {},
   "source": [
    "**리스트를 복사하고자 할 때** <br>\n",
    "이번에는 리스트 자료형에서 가장 혼동하기 쉬운 ‘복사’에 대해 설명한다."
   ]
  },
  {
   "cell_type": "code",
   "execution_count": 59,
   "id": "5d0af078",
   "metadata": {},
   "outputs": [],
   "source": [
    "a = [1, 2, 3]\n",
    "b = a"
   ]
  },
  {
   "cell_type": "code",
   "execution_count": 60,
   "id": "49a61e0f",
   "metadata": {},
   "outputs": [
    {
     "data": {
      "text/plain": [
       "1953733902848"
      ]
     },
     "execution_count": 60,
     "metadata": {},
     "output_type": "execute_result"
    }
   ],
   "source": [
    "id(a)\n"
   ]
  },
  {
   "cell_type": "code",
   "execution_count": 61,
   "id": "b9d32d4e",
   "metadata": {},
   "outputs": [
    {
     "data": {
      "text/plain": [
       "1953733902848"
      ]
     },
     "execution_count": 61,
     "metadata": {},
     "output_type": "execute_result"
    }
   ],
   "source": [
    "id(b)"
   ]
  },
  {
   "cell_type": "markdown",
   "id": "ab20798b",
   "metadata": {},
   "source": [
    "id(a)의 값이 id(b)의 값과 동일하다는 것을 확인할 수 있다.\n",
    "\n",
    "즉, a가 가리키는 대상과 b가 가리키는 대상이 동일하다는 것을 알 수 있다."
   ]
  },
  {
   "cell_type": "code",
   "execution_count": 62,
   "id": "015c31fe",
   "metadata": {},
   "outputs": [
    {
     "data": {
      "text/plain": [
       "True"
      ]
     },
     "execution_count": 62,
     "metadata": {},
     "output_type": "execute_result"
    }
   ],
   "source": [
    "a is b"
   ]
  },
  {
   "cell_type": "code",
   "execution_count": 63,
   "id": "579369be",
   "metadata": {},
   "outputs": [],
   "source": [
    "a[1] = 4"
   ]
  },
  {
   "cell_type": "code",
   "execution_count": 64,
   "id": "921eaa88",
   "metadata": {},
   "outputs": [
    {
     "data": {
      "text/plain": [
       "[1, 4, 3]"
      ]
     },
     "execution_count": 64,
     "metadata": {},
     "output_type": "execute_result"
    }
   ],
   "source": [
    "a"
   ]
  },
  {
   "cell_type": "code",
   "execution_count": 65,
   "id": "2d1aec69",
   "metadata": {},
   "outputs": [
    {
     "data": {
      "text/plain": [
       "[1, 4, 3]"
      ]
     },
     "execution_count": 65,
     "metadata": {},
     "output_type": "execute_result"
    }
   ],
   "source": [
    "b"
   ]
  },
  {
   "cell_type": "markdown",
   "id": "d5a68c7b",
   "metadata": {},
   "source": [
    "`메모리 주소를 복사한 b 변수도 변경`"
   ]
  },
  {
   "cell_type": "markdown",
   "id": "45ba421d",
   "metadata": {},
   "source": [
    "**다른 객체(주소) 만드는 방법**\n",
    "\n",
    "b 변수를 생성할 때 a 변수의 값을 가져오면서 a와는 다른 주소를 가리키도록 만들는 2가지 방법"
   ]
  },
  {
   "cell_type": "markdown",
   "id": "b1fdffa7",
   "metadata": {},
   "source": [
    "**1. [:] 이용하기**\n",
    "첫 번째 방법은 다음과 같이 리스트 전체를 가리키는 [:]을 사용해서 복사하는 것이다."
   ]
  },
  {
   "cell_type": "code",
   "execution_count": 1,
   "id": "fc160af3",
   "metadata": {},
   "outputs": [
    {
     "data": {
      "text/plain": [
       "[1, 4, 3]"
      ]
     },
     "execution_count": 1,
     "metadata": {},
     "output_type": "execute_result"
    }
   ],
   "source": [
    "a = [1, 2, 3]\n",
    "b = a[:]\n",
    "a[1] = 4\n",
    "a"
   ]
  },
  {
   "cell_type": "code",
   "execution_count": 2,
   "id": "a9741722",
   "metadata": {},
   "outputs": [
    {
     "data": {
      "text/plain": [
       "[1, 2, 3]"
      ]
     },
     "execution_count": 2,
     "metadata": {},
     "output_type": "execute_result"
    }
   ],
   "source": [
    "b"
   ]
  },
  {
   "cell_type": "markdown",
   "id": "431599d2",
   "metadata": {},
   "source": [
    "위 예에서 볼 수 있듯이 a 리스트 값을 바꾸더라도 b 리스트에는 아무런 영향이 없다."
   ]
  },
  {
   "cell_type": "markdown",
   "id": "82a5f150",
   "metadata": {},
   "source": [
    "**2. copy 모듈 이용하기**"
   ]
  },
  {
   "cell_type": "code",
   "execution_count": 9,
   "id": "0894960d",
   "metadata": {},
   "outputs": [],
   "source": [
    "from copy import copy\n",
    "a = [1, 2, 3]\n",
    "b = copy(a)  "
   ]
  },
  {
   "cell_type": "code",
   "execution_count": 10,
   "id": "9e4d5790",
   "metadata": {},
   "outputs": [
    {
     "data": {
      "text/plain": [
       "2296355661312"
      ]
     },
     "execution_count": 10,
     "metadata": {},
     "output_type": "execute_result"
    }
   ],
   "source": [
    "id(a)"
   ]
  },
  {
   "cell_type": "code",
   "execution_count": 11,
   "id": "d5a9c739",
   "metadata": {},
   "outputs": [
    {
     "data": {
      "text/plain": [
       "2296355674688"
      ]
     },
     "execution_count": 11,
     "metadata": {},
     "output_type": "execute_result"
    }
   ],
   "source": [
    "id(b)"
   ]
  },
  {
   "cell_type": "code",
   "execution_count": 12,
   "id": "e8862226",
   "metadata": {},
   "outputs": [
    {
     "data": {
      "text/plain": [
       "False"
      ]
     },
     "execution_count": 12,
     "metadata": {},
     "output_type": "execute_result"
    }
   ],
   "source": [
    "b is a"
   ]
  },
  {
   "cell_type": "markdown",
   "id": "d56a42fb",
   "metadata": {},
   "source": [
    "**변수를 만드는 여러가지 방법**"
   ]
  },
  {
   "cell_type": "code",
   "execution_count": 71,
   "id": "98148db9",
   "metadata": {},
   "outputs": [],
   "source": [
    "a, b = ('python', 'life')"
   ]
  },
  {
   "cell_type": "code",
   "execution_count": 73,
   "id": "2fddfe11",
   "metadata": {},
   "outputs": [],
   "source": [
    "(a, b) = 'python', 'life'\n",
    "#튜플 부분에서도 언급했지만, 튜플은 괄호를 생략해도 된다."
   ]
  },
  {
   "cell_type": "code",
   "execution_count": 74,
   "id": "d2aad822",
   "metadata": {},
   "outputs": [],
   "source": [
    "[a, b] = ['python', 'life']"
   ]
  },
  {
   "cell_type": "code",
   "execution_count": 76,
   "id": "4fde9d8a",
   "metadata": {},
   "outputs": [
    {
     "data": {
      "text/plain": [
       "'python'"
      ]
     },
     "execution_count": 76,
     "metadata": {},
     "output_type": "execute_result"
    }
   ],
   "source": [
    "a"
   ]
  },
  {
   "cell_type": "code",
   "execution_count": 77,
   "id": "19521683",
   "metadata": {},
   "outputs": [],
   "source": [
    "a = b = 'python'"
   ]
  },
  {
   "cell_type": "code",
   "execution_count": 78,
   "id": "1596ddc3",
   "metadata": {},
   "outputs": [
    {
     "data": {
      "text/plain": [
       "'python'"
      ]
     },
     "execution_count": 78,
     "metadata": {},
     "output_type": "execute_result"
    }
   ],
   "source": [
    "b"
   ]
  },
  {
   "cell_type": "code",
   "execution_count": 13,
   "id": "25d860eb",
   "metadata": {},
   "outputs": [
    {
     "data": {
      "text/plain": [
       "5"
      ]
     },
     "execution_count": 13,
     "metadata": {},
     "output_type": "execute_result"
    }
   ],
   "source": [
    "### 변수 바꾸기\n",
    "a = 3\n",
    "b = 5\n",
    "a, b = b, a\n",
    "a"
   ]
  },
  {
   "cell_type": "markdown",
   "id": "01e3e289",
   "metadata": {},
   "source": [
    "# 연습문제 (점프투 파이썬 자료 활용)"
   ]
  },
  {
   "cell_type": "markdown",
   "id": "d245dcb4",
   "metadata": {},
   "source": [
    "### Q1. 신사임당의 주민등록번호는 881227-2028234이다. 신사임당의 주민등록번호를 연월일(YYYYMMDD) 부분과 그 뒤의 숫자부분을 나누어 출력하세요"
   ]
  },
  {
   "cell_type": "code",
   "execution_count": null,
   "id": "42fd1f53",
   "metadata": {},
   "outputs": [],
   "source": [
    "pin = \"881227-202823\"\n",
    "\n",
    "yyyymmdd =\n",
    "\n",
    "num =\n",
    "\n",
    "print(    ) # 연월일 부분 출력\n",
    "\n",
    "print(    ) # 숫자 부분 출력"
   ]
  },
  {
   "cell_type": "markdown",
   "id": "4c8e71d2",
   "metadata": {},
   "source": [
    "### Q2. 신사임당의 주민등록번호는 881227-2028234이다. 주민등록번호의 숫자를 나타내는 숫자를 출력하세요. \n"
   ]
  },
  {
   "cell_type": "code",
   "execution_count": null,
   "id": "1cc6c790",
   "metadata": {},
   "outputs": [],
   "source": [
    "pin = \"881227-202823\"\n",
    "\n",
    "print(    )"
   ]
  },
  {
   "cell_type": "markdown",
   "id": "58e43ecb",
   "metadata": {},
   "source": [
    "### Q3. [1, 3, 5, 4, 2] 리스트를 [5, 4, 3, 2, 1]로 출력해보세요"
   ]
  },
  {
   "cell_type": "code",
   "execution_count": null,
   "id": "52d3eb96",
   "metadata": {},
   "outputs": [],
   "source": [
    "a = [1, 3, 5, 4, 2]\n",
    "\n",
    "a.\n",
    "\n",
    "a.\n",
    "\n",
    "print(   )"
   ]
  },
  {
   "cell_type": "markdown",
   "id": "19740c87",
   "metadata": {},
   "source": [
    "### Q4. ['Life', 'is', 'too', 'short'] 리스트를 Life in too short 라는 문자열로 출력하세요."
   ]
  },
  {
   "cell_type": "code",
   "execution_count": 14,
   "id": "3e8ab9f4",
   "metadata": {},
   "outputs": [
    {
     "data": {
      "text/plain": [
       "'Life is too short'"
      ]
     },
     "execution_count": 14,
     "metadata": {},
     "output_type": "execute_result"
    }
   ],
   "source": [
    "a = ['Life', 'is', 'too', 'short']\n"
   ]
  },
  {
   "cell_type": "markdown",
   "id": "cf80d26c",
   "metadata": {},
   "source": [
    "### Q5. (1, 2, 3, 4)이라는 튜플에 5 값을 추가하여 출력하세요."
   ]
  },
  {
   "cell_type": "code",
   "execution_count": 32,
   "id": "12265887",
   "metadata": {},
   "outputs": [
    {
     "name": "stdout",
     "output_type": "stream",
     "text": [
      "1900342052400\n",
      "(1, 2, 3, 4, 5)\n",
      "1900342054400\n"
     ]
    }
   ],
   "source": [
    "a = (1, 2, 3, 4)"
   ]
  },
  {
   "cell_type": "markdown",
   "id": "74ae68c6",
   "metadata": {},
   "source": [
    "튜플은 그 값을 변경할 수 없다."
   ]
  },
  {
   "cell_type": "markdown",
   "id": "330b6c49",
   "metadata": {},
   "source": [
    "### Q6. 딕셔너리 a에서 'B'에 해당하는 값을 추출하고 삭제해보세요"
   ]
  },
  {
   "cell_type": "code",
   "execution_count": 40,
   "id": "08d194f8",
   "metadata": {},
   "outputs": [
    {
     "name": "stdout",
     "output_type": "stream",
     "text": [
      "{'A': 90, 'C': 70}\n",
      "80\n"
     ]
    }
   ],
   "source": [
    "a = {'A':90, 'B':80, 'C':70}"
   ]
  },
  {
   "cell_type": "markdown",
   "id": "ef837482",
   "metadata": {},
   "source": [
    "### Q7. a 리스트에서 중복된 숫자를 제거해서 출력하세요. (리스트로 다시 출력)"
   ]
  },
  {
   "cell_type": "code",
   "execution_count": 15,
   "id": "0978c9ce",
   "metadata": {},
   "outputs": [
    {
     "name": "stdout",
     "output_type": "stream",
     "text": [
      "{1, 2, 3, 4, 5}\n"
     ]
    }
   ],
   "source": [
    "a = [1, 1, 1, 2, 2, 2, 3, 3, 3, 4, 4, 5]"
   ]
  },
  {
   "cell_type": "markdown",
   "id": "847c9589",
   "metadata": {},
   "source": [
    "### Q8. 아래 코드에서 예상되는 b 값과 그 이유에 대해서 설명하세요"
   ]
  },
  {
   "cell_type": "code",
   "execution_count": 48,
   "id": "817024a6",
   "metadata": {},
   "outputs": [
    {
     "name": "stdout",
     "output_type": "stream",
     "text": [
      "[1, 4, 3]\n"
     ]
    }
   ],
   "source": [
    "a = b = [1, 2, 3]\n"
   ]
  },
  {
   "cell_type": "markdown",
   "id": "1212ebc0",
   "metadata": {},
   "source": [
    "# 참고문헌\n",
    "점프투 파이썬 from Wididocs"
   ]
  }
 ],
 "metadata": {
  "kernelspec": {
   "display_name": "Python 3 (ipykernel)",
   "language": "python",
   "name": "python3"
  },
  "language_info": {
   "codemirror_mode": {
    "name": "ipython",
    "version": 3
   },
   "file_extension": ".py",
   "mimetype": "text/x-python",
   "name": "python",
   "nbconvert_exporter": "python",
   "pygments_lexer": "ipython3",
   "version": "3.11.6"
  }
 },
 "nbformat": 4,
 "nbformat_minor": 5
}
