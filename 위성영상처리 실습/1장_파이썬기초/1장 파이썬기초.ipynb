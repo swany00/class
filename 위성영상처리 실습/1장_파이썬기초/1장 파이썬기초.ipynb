{
 "cells": [
  {
   "cell_type": "markdown",
   "id": "a2b2e1ac",
   "metadata": {},
   "source": [
    "# 제1장. 파이썬 기초\n",
    "이번 실습에서는 python programining 기초에 대해서 학습 할 예정이다. \n",
    "\n",
    "기본적인 코딩 실습을 통해 파이썬 프로그램 코딩에 익숙해지는 단계이다.\n",
    "\n",
    "### LMS 강의자료를 VScode로 실행해보는법\n",
    "1. [LMS에서 제공되는 강의자료](https://edu.jbnu.ac.kr/index.jsp) 에서 강의자료는 다운로드 한다. \n",
    "- `이번 강의에서는 LMS에 강의자료 활용`\n",
    "2. Visual Studio Code를 실행한다. \n",
    "3. 파일 열기 혹은 소스코드 드레그 인을 통해 코딩 파일을 연다.\n",
    "4. 코딩 파일을 수행한다. \n",
    "\n",
    "\n",
    "### Github 강의자료를 VScode로 실행해보는법\n",
    "1. [미리 만들어놓은 강의자료 Github 링크](https://github.com/jongminyeom/python_lecture/) 에서 강의자료는 다운로드 한다. \n",
    "2. Visual Studio Code를 실행한다. \n",
    "3. 파일 열기 혹은 소스코드 드레그 인을 통해 코딩 파일을 연다.\n",
    "4. 코딩 파일을 수행한다. \n",
    "\n",
    "### 이 문서를 구글 Colab에서 쉽게 실행해보는 방법은\n",
    "1. [미리 만들어놓은 Colab 링크](https://colab.research.google.com/drive/1GBdjTSbSx8dCYS_QYfhGbj-Q_HG2EQO9#scrollTo=a2b2e1ac)를 눌러 본 .ipynb 파일을 구글 Colab에서 바로 열 수 있다. 이때 구글에 로그인을 해야 한다.\n",
    "2. 아무 셀이나 선택한 후 Ctrl+Enter를 눌러 실행해보면 [경고: 이 노트는 Google에서 작성하지 않았습니다]라고 뜨는데 실행 전에 모든 런타임 재설정을 선택한 채로 무시하고 계속하기를 눌러준다.\n",
    "3. `모든 런타임 재설정` 이 뜰 텐데 예를 눌러준다.\n",
    "4. 잠시 구글 서버의 배치가 되면서 우상단에 연결중 -> 초기화중 -> 연결됨이 뜨면서 실행이 가능한 상태가 된다.\n",
    "\n",
    "### 구글 Colab에서 실습후 저장하는법\n",
    "**쉽게 실행보는법**을 따라왔다면 Colab에서 임시 노트북으로 열리기 때문에 파일->드라이브로 저장을 눌러서 여러분의 구글 드라이브에 저장하거나 파일 -> .ipynb 다운로드를 눌러서 다운로드 해준다.\n",
    "  \n"
   ]
  },
  {
   "cell_type": "markdown",
   "id": "80dc5cb5",
   "metadata": {},
   "source": [
    "#### Jupyter notebook 주요 단축키\n",
    "|단축키|\t기능|\n",
    "|--|--|\n",
    "|ESC|\t코드모드에서 명령모드로 전환|\n",
    "|enter|\t명령모드에서 코드모드로 전환|\n",
    "|m|\t코드셀에서 마크다운셀로 변경|\n",
    "|y|\t마크다운셀에서 코드셀로 변경|\n",
    "|a|\t현재 셀 위로 셀추가|\n",
    "|b|\t현재 셀 아래로 셀추가|\n",
    "|dd|\t셀삭제|\n",
    "|shift + 엔터|\t셀 실행 후 다음 셀로 이동|\n",
    "|ctrl + 엔터|\t셀 실행 후 셀에 계속 머물기|\n",
    "|ctrl + shift + -|\t화면창키우기|\n",
    "|ctrl + s|\t저장|"
   ]
  },
  {
   "cell_type": "markdown",
   "id": "9686b395",
   "metadata": {},
   "source": [
    "# 파이썬 기초, 자료형"
   ]
  },
  {
   "cell_type": "markdown",
   "id": "b5c8da10",
   "metadata": {},
   "source": [
    "#### 숫자형\n",
    "##### 숫자형(Number)이란 숫자 형태로 이루어진 자료형으로, 우리가 이미 잘 알고 있는 것이다. \n",
    "\n",
    "##### 우리가 흔히 사용하는 숫자들을 생각해 보자. \n",
    "\n",
    "#### 123과 같은 정수, 12.34와 같은 실수, 8진수나 16진수도 있다."
   ]
  },
  {
   "cell_type": "markdown",
   "id": "2b6b2439",
   "metadata": {},
   "source": [
    "|항목|파이썬 사용 예|\n",
    "|---|---|\n",
    "|정수|123, -345, 0| \n",
    "|실수|123.45, -1234.5, 3.4e10| \n",
    "|8진수|0o34, 0o25| \n",
    "|16진수|0x2A, 0xFF| "
   ]
  },
  {
   "cell_type": "markdown",
   "id": "249aa86b",
   "metadata": {},
   "source": [
    "### 정수형\n",
    "##### 정수형(Integer)이란 말 그대로 정수를 뜻하는 자료형을 말한다. 다음은 양의 정수와 음의 정수, 숫자 0을 변수 a에 대입하는 예이다."
   ]
  },
  {
   "cell_type": "code",
   "execution_count": 1,
   "id": "f5a9aefa",
   "metadata": {},
   "outputs": [
    {
     "name": "stdout",
     "output_type": "stream",
     "text": [
      "2.0\n"
     ]
    }
   ],
   "source": [
    "a = 123\n",
    "a = -178\n",
    "a = 2.0\n",
    "print(a)"
   ]
  },
  {
   "cell_type": "code",
   "execution_count": 2,
   "id": "75716ebd",
   "metadata": {},
   "outputs": [
    {
     "name": "stdout",
     "output_type": "stream",
     "text": [
      "4.0\n"
     ]
    }
   ],
   "source": [
    "# 직접 실습을 해보세요. \n",
    "c = 12/3\n",
    "print(c)"
   ]
  },
  {
   "cell_type": "code",
   "execution_count": null,
   "id": "cbce8926",
   "metadata": {},
   "outputs": [],
   "source": [
    "# 직접 실습을 해보세요. "
   ]
  },
  {
   "cell_type": "markdown",
   "id": "df5dfe56",
   "metadata": {},
   "source": [
    "#### 실수형\n",
    "파이썬에서 실수형(Floating-point)은 소수점이 포함된 숫자"
   ]
  },
  {
   "cell_type": "code",
   "execution_count": 3,
   "id": "48e6e804",
   "metadata": {},
   "outputs": [],
   "source": [
    "a = 1.2\n",
    "a = -3.45"
   ]
  },
  {
   "cell_type": "code",
   "execution_count": 1,
   "id": "ee89f4c5",
   "metadata": {},
   "outputs": [
    {
     "name": "stdout",
     "output_type": "stream",
     "text": [
      "6.5\n"
     ]
    }
   ],
   "source": [
    "a = 1.3\n",
    "b = 5.2\n",
    "\n",
    "c = a + b\n",
    "print(c)"
   ]
  },
  {
   "cell_type": "code",
   "execution_count": null,
   "id": "fba6b79f",
   "metadata": {},
   "outputs": [],
   "source": [
    "# 직접 실습을 해보세요. "
   ]
  },
  {
   "cell_type": "markdown",
   "id": "ca339c13",
   "metadata": {},
   "source": [
    "다음은 ‘컴퓨터식 지수 표현 방식’으로, 파이썬에서는 4.24e10 또는 4.24E10처럼 표현한다\n",
    "\n",
    "(e와 E 둘 중 어느 것을 사용해도 된다)."
   ]
  },
  {
   "cell_type": "code",
   "execution_count": 2,
   "id": "aa71143d",
   "metadata": {},
   "outputs": [
    {
     "name": "stdout",
     "output_type": "stream",
     "text": [
      "4.24e-10\n"
     ]
    }
   ],
   "source": [
    "a = 4.24E10\n",
    "a = 4.24e-10\n"
   ]
  },
  {
   "cell_type": "markdown",
   "id": "8f5d2aa9",
   "metadata": {},
   "source": [
    "#### 8진수와 16진수\n",
    "8진수(octal)를 만들기 위해서는 숫자가 `0o` 또는 `0O` (숫자 0 + 알파벳 소문자 o 또는 대문자 O)으로 시작"
   ]
  },
  {
   "cell_type": "code",
   "execution_count": 7,
   "id": "80d57c6c",
   "metadata": {},
   "outputs": [
    {
     "name": "stdout",
     "output_type": "stream",
     "text": [
      "127\n"
     ]
    }
   ],
   "source": [
    "a = 0o177\n",
    "print(a)"
   ]
  },
  {
   "cell_type": "markdown",
   "id": "18fec195",
   "metadata": {},
   "source": [
    "`0o177` = 1 X 8^2 + 7 X 8 ^1 + 7 X 8^0"
   ]
  },
  {
   "cell_type": "markdown",
   "id": "c2ff708b",
   "metadata": {},
   "source": [
    "16진수(hexadecimal)를 만들기 위해서는 `0x`로 시작하면 된다."
   ]
  },
  {
   "cell_type": "code",
   "execution_count": 4,
   "id": "2682b68a",
   "metadata": {},
   "outputs": [
    {
     "name": "stdout",
     "output_type": "stream",
     "text": [
      "2748\n"
     ]
    },
    {
     "data": {
      "text/plain": [
       "2748"
      ]
     },
     "execution_count": 4,
     "metadata": {},
     "output_type": "execute_result"
    }
   ],
   "source": [
    "a = 0x8ff\n",
    "b = 0xABC\n",
    "print(b)\n",
    "2748"
   ]
  },
  {
   "cell_type": "markdown",
   "id": "fa7d827e",
   "metadata": {},
   "source": [
    "0x8ff = ?\n",
    "\n",
    "8진수와 16진수는 있다는 있다는 것만 숙지하면 됨\n",
    "\n",
    "- 위성영상을 이용한 구름탐지의 경우 8진수를 이용하여 품질 정보 입력 (용량문제로 16bit  ==> 8bit)"
   ]
  },
  {
   "cell_type": "markdown",
   "id": "31bde0ad",
   "metadata": {},
   "source": [
    "### 숫자형을 활용하기 위한 연산자\n",
    "#### 사칙 연산\n",
    "프로그래밍을 한 번도 해 본 적이 없는 학생이라도 사칙 연산(+, -, *, /)은 알고 있을 것이다. \n",
    "\n",
    "파이썬 역시 계산기와 마찬가지로 다음처럼 연산자를 사용해 사칙 연산을 수행한다."
   ]
  },
  {
   "cell_type": "code",
   "execution_count": 6,
   "id": "24d02534",
   "metadata": {},
   "outputs": [
    {
     "name": "stdout",
     "output_type": "stream",
     "text": [
      "7\n",
      "-1\n",
      "12\n",
      "0.75\n"
     ]
    }
   ],
   "source": [
    "a = 3\n",
    "b = 4\n",
    "print(a + b)\n",
    "print(a - b)\n",
    "print(a * b)\n",
    "print(a / b)\n"
   ]
  },
  {
   "cell_type": "markdown",
   "id": "dee64b83",
   "metadata": {},
   "source": [
    "#### x의 y제곱을 나타내는 ** 연산자\n",
    "다음으로 알아야 할 연산자로 **라는 연산자가 있다. \n",
    "\n",
    "이 연산자는 x ** y처럼 사용했을 때 x의 y제곱() 값을 리턴한다. \n",
    "\n",
    "다음 예를 통해 알아보자."
   ]
  },
  {
   "cell_type": "code",
   "execution_count": 7,
   "id": "7380f387",
   "metadata": {},
   "outputs": [
    {
     "name": "stdout",
     "output_type": "stream",
     "text": [
      "81\n"
     ]
    }
   ],
   "source": [
    "a = 3\n",
    "b = 4\n",
    "print(a ** b)"
   ]
  },
  {
   "cell_type": "code",
   "execution_count": null,
   "id": "a0697d3e",
   "metadata": {},
   "outputs": [],
   "source": [
    "# 직접 실습을 해보세요. "
   ]
  },
  {
   "cell_type": "markdown",
   "id": "27bd06e1-1ecc-4da3-a55c-e005f1ce664a",
   "metadata": {},
   "source": [
    "#### 나눗셈 후 나머지를 리턴하는 % 연산자\n",
    "프로그래밍을 처음 접하는 학생이라면 % 연산자는 본 적이 없을 것이다. \n",
    "\n",
    "%는 나눗셈의 나머지 값을 리턴하는 연산자이다. \n",
    "\n",
    "7을 3으로 나누면 나머지는 1, 3을 7로 나누면 나머지는 3이 될 것이다. 다음 예로 확인해 보자.\n",
    "\n",
    "\n",
    "![나누기](02_1_mod1.png)"
   ]
  },
  {
   "cell_type": "code",
   "execution_count": 3,
   "id": "50648bf4-43ea-4149-b01f-f7a5dbea45b9",
   "metadata": {
    "tags": []
   },
   "outputs": [
    {
     "data": {
      "text/plain": [
       "1"
      ]
     },
     "execution_count": 3,
     "metadata": {},
     "output_type": "execute_result"
    }
   ],
   "source": [
    "7 % 3"
   ]
  },
  {
   "cell_type": "code",
   "execution_count": 4,
   "id": "44bb5f73-9844-47fb-8359-f2a38384eaa5",
   "metadata": {
    "tags": []
   },
   "outputs": [
    {
     "data": {
      "text/plain": [
       "3"
      ]
     },
     "execution_count": 4,
     "metadata": {},
     "output_type": "execute_result"
    }
   ],
   "source": [
    "3 % 7"
   ]
  },
  {
   "cell_type": "code",
   "execution_count": null,
   "id": "c9ad4f48",
   "metadata": {},
   "outputs": [],
   "source": [
    "# 직접 실습해보기"
   ]
  },
  {
   "cell_type": "markdown",
   "id": "1e02188a",
   "metadata": {},
   "source": [
    "#### 나눗셈 후 몫을 리턴하는 // 연산자\n",
    "/ 연산자를 사용하여 7 나누기 4를 하면 그 결과는 예상대로 1.75가 된다."
   ]
  },
  {
   "cell_type": "code",
   "execution_count": 1,
   "id": "64d2c072-d76a-4369-bb92-804f91687d4d",
   "metadata": {},
   "outputs": [
    {
     "data": {
      "text/plain": [
       "1.75"
      ]
     },
     "execution_count": 1,
     "metadata": {},
     "output_type": "execute_result"
    }
   ],
   "source": [
    "7/4"
   ]
  },
  {
   "cell_type": "code",
   "execution_count": 2,
   "id": "9f7cf8cf-cb1a-4020-96d5-62eab12fb7ce",
   "metadata": {
    "tags": []
   },
   "outputs": [
    {
     "data": {
      "text/plain": [
       "1"
      ]
     },
     "execution_count": 2,
     "metadata": {},
     "output_type": "execute_result"
    }
   ],
   "source": [
    "7//4"
   ]
  },
  {
   "cell_type": "code",
   "execution_count": 10,
   "id": "a14bb7e5",
   "metadata": {},
   "outputs": [],
   "source": [
    "# 직접 실습해보기\n"
   ]
  },
  {
   "cell_type": "markdown",
   "id": "65d69f9e",
   "metadata": {},
   "source": [
    "### 문자열 자료형\n",
    "`문자열(string)`이란 문자, 단어 등으로 구성된 문자들의 집합을 말한다. \n",
    "\n",
    "예를 들면 다음과 같다."
   ]
  },
  {
   "cell_type": "markdown",
   "id": "a1092771",
   "metadata": {},
   "source": [
    "\"Life is too short, You need Python\" \n",
    "\n",
    "\"a\"\n",
    "\n",
    "\"123\""
   ]
  },
  {
   "cell_type": "markdown",
   "id": "a9843d90",
   "metadata": {},
   "source": [
    "#### 문자열 안에 작은따옴표나 큰따옴표를 포함시키고 싶을 때\n",
    "문자열을 만들어 주는 주인공은 작은따옴표(')와 큰따옴표(\")이다. \n",
    "\n",
    "그런데 문자열 안에도 작은따옴표와 큰따옴표가 들어 있어야 할 경우가 있다. \n",
    "\n",
    "이때는 좀 더 특별한 기술이 필요하다. \n",
    "\n",
    "예제를 하나씩 살펴보면서 원리를 익혀 보자."
   ]
  },
  {
   "cell_type": "code",
   "execution_count": 1,
   "id": "41773ed5-d214-4d9b-8728-0be621a8ed5c",
   "metadata": {
    "tags": []
   },
   "outputs": [],
   "source": [
    "food= \"Python's favorite food is perl\""
   ]
  },
  {
   "cell_type": "code",
   "execution_count": 2,
   "id": "192c5a43-aff3-46b1-91fa-9e4484923d6b",
   "metadata": {
    "tags": []
   },
   "outputs": [
    {
     "data": {
      "text/plain": [
       "\"Python's favorite food is perl\""
      ]
     },
     "execution_count": 2,
     "metadata": {},
     "output_type": "execute_result"
    }
   ],
   "source": [
    "food"
   ]
  },
  {
   "cell_type": "code",
   "execution_count": 4,
   "id": "d6b4cb84-48fd-43e8-b292-986292f344fa",
   "metadata": {
    "tags": []
   },
   "outputs": [
    {
     "data": {
      "text/plain": [
       "\"Python's favorite food is perl\""
      ]
     },
     "execution_count": 4,
     "metadata": {},
     "output_type": "execute_result"
    }
   ],
   "source": [
    "food= \"Python's favorite food is perl\"\n",
    "food"
   ]
  },
  {
   "cell_type": "markdown",
   "id": "234d259c",
   "metadata": {},
   "source": [
    "'Python'이 문자열로 인식되어 구문 오류(Syntax Error)가 발생"
   ]
  },
  {
   "cell_type": "markdown",
   "id": "b8375c32",
   "metadata": {},
   "source": [
    "#### 문자열에 큰따옴표 포함하기"
   ]
  },
  {
   "cell_type": "code",
   "execution_count": 7,
   "id": "00d49b75-057c-4939-b90e-b54b64f77ed8",
   "metadata": {
    "tags": []
   },
   "outputs": [],
   "source": [
    "say = '\"Python is very easy.\" he says.'"
   ]
  },
  {
   "cell_type": "code",
   "execution_count": 8,
   "id": "a43c7265-1685-4798-af8b-da95d83dc716",
   "metadata": {
    "tags": []
   },
   "outputs": [
    {
     "data": {
      "text/plain": [
       "'\"Python is very easy.\" he says.'"
      ]
     },
     "execution_count": 8,
     "metadata": {},
     "output_type": "execute_result"
    }
   ],
   "source": [
    "say"
   ]
  },
  {
   "cell_type": "markdown",
   "id": "f6026af0-c1dc-45eb-a298-cadd5161b44d",
   "metadata": {},
   "source": [
    "#### 역슬래시( \\ )를 사용해서 작은따옴표와 큰따옴표를 문자열에 포함하기"
   ]
  },
  {
   "cell_type": "code",
   "execution_count": 9,
   "id": "df14de9d-2364-4a67-ab84-a11b98fdfc73",
   "metadata": {
    "tags": []
   },
   "outputs": [
    {
     "data": {
      "text/plain": [
       "\"Python's favorite food is perl\""
      ]
     },
     "execution_count": 9,
     "metadata": {},
     "output_type": "execute_result"
    }
   ],
   "source": [
    "food = 'Python\\'s favorite food is perl'\n",
    "food"
   ]
  },
  {
   "cell_type": "code",
   "execution_count": 11,
   "id": "ffe99f26-031a-414b-9244-ef0a56be4232",
   "metadata": {
    "tags": []
   },
   "outputs": [],
   "source": [
    "say = \"\\\"Python is very easy.\\\" he says.\""
   ]
  },
  {
   "cell_type": "markdown",
   "id": "8e22ed71-173c-47fb-9cc4-88e892203096",
   "metadata": {},
   "source": [
    "작은따옴표나 큰따옴표를 문자열에 포함시키는 또 다른 방법은 역슬래시(`\\`)를 사용하는 것이다. \n",
    "\n",
    "즉, 역슬래시를 작은따옴표나 큰따옴표 앞에 삽입하면 역슬래시 뒤의 작은따옴표나 큰따옴표는 문자열을 둘러싸는 기호의 의미가 아니라 ' 나 혹은 \" 자체를 뜻하게 된다.\n",
    "\n",
    "어떤 방법을 사용해서 문자열 안에 작은따옴표(')와 큰따옴표(\")를 포함시킬 것인지는 각자의 선택이다. \n",
    "\n",
    "대화형 인터프리터를 실행한 후 위 예문을 꼭 직접 작성해 보자."
   ]
  },
  {
   "cell_type": "code",
   "execution_count": 6,
   "id": "9ff60a1e-acc0-48ad-93c5-baed0f955bbb",
   "metadata": {
    "tags": []
   },
   "outputs": [
    {
     "data": {
      "text/plain": [
       "\"Python's favorite food is perl\""
      ]
     },
     "execution_count": 6,
     "metadata": {},
     "output_type": "execute_result"
    }
   ],
   "source": [
    "food"
   ]
  },
  {
   "cell_type": "code",
   "execution_count": 13,
   "id": "1639da99-938f-4905-a73c-5587ce017536",
   "metadata": {
    "tags": []
   },
   "outputs": [
    {
     "name": "stdout",
     "output_type": "stream",
     "text": [
      "\"Python is very easy.\" he says.\n"
     ]
    }
   ],
   "source": [
    "print(say)\n"
   ]
  },
  {
   "cell_type": "markdown",
   "id": "1de4485f-019f-4d26-a850-5c983c912eb0",
   "metadata": {},
   "source": [
    "#### 줄을 바꾸기 위한 이스케이프 코드 \\n 삽입하기"
   ]
  },
  {
   "cell_type": "code",
   "execution_count": 10,
   "id": "22d4debb-c14a-4d08-a0ff-d8b493929bcf",
   "metadata": {
    "tags": []
   },
   "outputs": [],
   "source": [
    "multiline = \"Life is too short\\nYou need python\""
   ]
  },
  {
   "cell_type": "code",
   "execution_count": 12,
   "id": "ac180e4c-6abb-4a81-b748-a4c5bfa0cd5f",
   "metadata": {
    "tags": []
   },
   "outputs": [
    {
     "name": "stdout",
     "output_type": "stream",
     "text": [
      "Life is too short\n",
      "You need python\n"
     ]
    }
   ],
   "source": [
    "print(multiline)"
   ]
  },
  {
   "cell_type": "code",
   "execution_count": 22,
   "id": "1c72f5f4",
   "metadata": {},
   "outputs": [],
   "source": [
    "multiline='''\n",
    "Life is too short\n",
    "You need python\n",
    "OK?\n",
    "'''"
   ]
  },
  {
   "cell_type": "code",
   "execution_count": 23,
   "id": "c9aa67ba",
   "metadata": {},
   "outputs": [
    {
     "name": "stdout",
     "output_type": "stream",
     "text": [
      "\n",
      "Life is too short\n",
      "You need python\n",
      "OK?\n",
      "\n"
     ]
    }
   ],
   "source": [
    "print(multiline)"
   ]
  },
  {
   "cell_type": "markdown",
   "id": "eb87f179",
   "metadata": {},
   "source": [
    "### 이스케이프(escape code) 코드란?\n",
    "- 기존에 정해진 규칙에서 벗어난 문자를 만들 때 사용"
   ]
  },
  {
   "cell_type": "markdown",
   "id": "18937d83",
   "metadata": {},
   "source": [
    "|코드|설명|\n",
    "|---|---|\n",
    "|\\n|문자열 안에서 줄을 바꿀 때 사용|\n",
    "|\\t|문자열 사이에 탭 간격을 줄 때 사용|\n",
    "|\\ \\\\ |를 그대로 표현할 때 사용|\n",
    "|\\\\'|작은따옴표(')를 그대로 표현할 때 사용|\n",
    "|\\\\\"|큰따옴표(\")를 그대로 표현할 때 사용|\n",
    "|\\r|캐리지 리턴(줄 바꿈 문자, 커서를 현재 줄의 가장 앞으로 이동)|\n",
    "|\\f|폼 피드(줄 바꿈 문자, 커서를 현재 줄의 다음 줄로 이동)|\n",
    "|\\a|벨 소리(출력할 때 PC 스피커에서 '삑' 소리가 난다)|\n",
    "|\\b|백 스페이스|\n",
    "|\\000|널 문자|"
   ]
  },
  {
   "cell_type": "markdown",
   "id": "df170700-3d00-4594-b64c-570f3ed21684",
   "metadata": {},
   "source": [
    "이 중에서 활용 빈도가 높은 것은 \\n, \\t, \\\\, \\', \\\"이다"
   ]
  },
  {
   "cell_type": "markdown",
   "id": "422fceba-5fb9-4d25-8142-6d85755889a3",
   "metadata": {},
   "source": [
    "#### 문자열 연산하기\n",
    "파이썬에서는 문자열을 더하거나 곱할 수 있다. \n",
    "\n",
    "이는 다른 언어에서는 쉽게 찾아볼 수 없는 재미있는 기능으로, 우리 생각을 그대로 반영해 주는 파이썬만의 장점이라고 할 수 있다. \n",
    "\n",
    "문자열을 더하거나 곱하는 방법에 대해 알아보자."
   ]
  },
  {
   "cell_type": "markdown",
   "id": "33ccc005",
   "metadata": {},
   "source": [
    "#### 문자열 더해서 연결하기"
   ]
  },
  {
   "cell_type": "code",
   "execution_count": 26,
   "id": "1ef2faff",
   "metadata": {},
   "outputs": [
    {
     "data": {
      "text/plain": [
       "'Python is fun!'"
      ]
     },
     "execution_count": 26,
     "metadata": {},
     "output_type": "execute_result"
    }
   ],
   "source": [
    "head = \"Python\"\n",
    "tail = \" is fun!\"\n",
    "head + tail"
   ]
  },
  {
   "cell_type": "markdown",
   "id": "0c702da2",
   "metadata": {},
   "source": [
    "#### 문자열 곱하기"
   ]
  },
  {
   "cell_type": "code",
   "execution_count": 27,
   "id": "6d8f2b0d",
   "metadata": {},
   "outputs": [
    {
     "data": {
      "text/plain": [
       "'pythonpython'"
      ]
     },
     "execution_count": 27,
     "metadata": {},
     "output_type": "execute_result"
    }
   ],
   "source": [
    "a = \"python\"\n",
    "a * 2"
   ]
  },
  {
   "cell_type": "code",
   "execution_count": 28,
   "id": "6ebd5454",
   "metadata": {},
   "outputs": [
    {
     "name": "stdout",
     "output_type": "stream",
     "text": [
      "==================================================\n",
      "My Program\n",
      "==================================================\n"
     ]
    }
   ],
   "source": [
    "print(\"=\" * 50)\n",
    "print(\"My Program\")\n",
    "print(\"=\" * 50)"
   ]
  },
  {
   "cell_type": "markdown",
   "id": "d458f6e8",
   "metadata": {},
   "source": [
    "#### 문자열 길이 구하기\n",
    "문자열의 길이는 다음과 같이 `len 함수`를 사용하면 구할 수 있다. \n",
    "\n",
    "len 함수는 print 함수처럼 `파이썬의 기본 내장 함수`로, 별다른 설정 없이 바로 사용할 수 있다.\n",
    "\n",
    "문자열의 길이에는 공백 문자도 포함된다."
   ]
  },
  {
   "cell_type": "code",
   "execution_count": 29,
   "id": "42337303",
   "metadata": {},
   "outputs": [
    {
     "data": {
      "text/plain": [
       "17"
      ]
     },
     "execution_count": 29,
     "metadata": {},
     "output_type": "execute_result"
    }
   ],
   "source": [
    "a = \"Life is too short\"\n",
    "len(a)"
   ]
  },
  {
   "cell_type": "markdown",
   "id": "ecfb71e9",
   "metadata": {},
   "source": [
    "#### 문자열 인덱싱과 슬라이싱\n",
    "`인덱싱(indexing)` 이란 무엇인가를 ‘가리킨다’,\n",
    "\n",
    "`슬라이싱(slicing)`은 무엇인가를 ‘잘라 낸다’라는 의미이다. \n",
    "\n",
    "이런 의미를 생각하면서 다음 내용을 살펴보자."
   ]
  },
  {
   "cell_type": "markdown",
   "id": "a88ef8be",
   "metadata": {},
   "source": [
    "#### 문자열 인덱싱(indexing) "
   ]
  },
  {
   "cell_type": "code",
   "execution_count": null,
   "id": "ca3b9044",
   "metadata": {},
   "outputs": [],
   "source": [
    "a = \"Life is too short, You need Python\""
   ]
  },
  {
   "cell_type": "code",
   "execution_count": 30,
   "id": "1a49c9f6",
   "metadata": {},
   "outputs": [
    {
     "data": {
      "text/plain": [
       "'e'"
      ]
     },
     "execution_count": 30,
     "metadata": {},
     "output_type": "execute_result"
    }
   ],
   "source": [
    "a = \"Life is too short, You need Python\"\n",
    "a[3]"
   ]
  },
  {
   "cell_type": "markdown",
   "id": "8f0b5805",
   "metadata": {},
   "source": [
    "![indexing](02_2_indexing.png)\n",
    "\n",
    "<img src=\"02_2_indexing.png\" alt=\"대체_텍스트\" width=\"1400\" height=\"100\">"
   ]
  },
  {
   "cell_type": "code",
   "execution_count": 1,
   "id": "55875aa3",
   "metadata": {},
   "outputs": [
    {
     "data": {
      "text/plain": [
       "'e'"
      ]
     },
     "execution_count": 1,
     "metadata": {},
     "output_type": "execute_result"
    }
   ],
   "source": [
    "a = \"Life is too short, You need Python\"\n",
    "a[3]"
   ]
  },
  {
   "cell_type": "markdown",
   "id": "5832ded3",
   "metadata": {},
   "source": [
    "a[3]이 뜻하는 것은 a라는 문자열의 네 번째 문자 e를 말한다. \n",
    "\n",
    "프로그래밍을 처음 접하는 학생이라면 a[3]에서 숫자 3이 왜 네 번째 문자를 뜻하는지 의아할 수도 있다. \n",
    "\n",
    "사실 이 부분이 헷갈릴 수 있는 부분인데, 다음과 같이 생각하면 쉽게 알 수 있을 것이다.\n",
    "\n",
    "`\"파이썬은 0부터 숫자를 센다.\"`\n",
    "\n",
    "따라서 파이썬은 위 문자열을 다음과 같이 바라보고 있다."
   ]
  },
  {
   "cell_type": "markdown",
   "id": "2a6a7f9f",
   "metadata": {},
   "source": [
    "` a[0]:'L', a[1]:'i', a[2]:'f', a[3]:'e', a[4]:' ', ...`"
   ]
  },
  {
   "cell_type": "markdown",
   "id": "dc9b5740",
   "metadata": {},
   "source": [
    "#### 문자열 인덱싱 활용하기\n",
    "인덱싱의 예를 몇 가지 더 살펴보자."
   ]
  },
  {
   "cell_type": "code",
   "execution_count": 1,
   "id": "fe689e54",
   "metadata": {},
   "outputs": [
    {
     "data": {
      "text/plain": [
       "' '"
      ]
     },
     "execution_count": 1,
     "metadata": {},
     "output_type": "execute_result"
    }
   ],
   "source": [
    "a = \"Life is too short, You need Python\"\n",
    "a[4]\n",
    "#a[-1]"
   ]
  },
  {
   "cell_type": "code",
   "execution_count": 13,
   "id": "57ecb70a",
   "metadata": {},
   "outputs": [],
   "source": [
    "# 추가로 연습해보기"
   ]
  },
  {
   "cell_type": "markdown",
   "id": "8a62ca8d",
   "metadata": {},
   "source": [
    "문자열을 뒤에서부터 읽기 위해 -(빼기) 기호를 붙인 것이다. \n",
    "\n",
    "즉, a[-1]은 뒤에서부터 세어 첫 번째가 되는 문자를 말한다. \n",
    "\n",
    "a의 값은 \"Life is too short, You need Python\" 문자열이므로 뒤에서부터 첫 번째 문자는 가장 마지막 문자 'n'이다."
   ]
  },
  {
   "cell_type": "markdown",
   "id": "d0e08ac9",
   "metadata": {},
   "source": [
    "뒤에서부터 첫 번째 문자를 표시할 때도 0부터 세어 ‘a[-0]이라고 해야 하지 않을까?’라는 의문이 들 수도 있겠지만, \n",
    "\n",
    "잘 생각해 보자. 0과 -0은 똑같은 것이기 때문에 a[-0]은 a[0]과 똑같은 값을 보여 준다."
   ]
  },
  {
   "cell_type": "code",
   "execution_count": 14,
   "id": "d93e3f1e",
   "metadata": {},
   "outputs": [
    {
     "data": {
      "text/plain": [
       "'L'"
      ]
     },
     "execution_count": 14,
     "metadata": {},
     "output_type": "execute_result"
    }
   ],
   "source": [
    "a[-0]"
   ]
  },
  {
   "cell_type": "markdown",
   "id": "ab8bcf8b",
   "metadata": {},
   "source": [
    "a[-2]\n",
    "\n",
    "a[-5]"
   ]
  },
  {
   "cell_type": "markdown",
   "id": "c9500564",
   "metadata": {},
   "source": [
    "### 문자열 슬라이싱\n",
    "그렇다면 \"Life is too short, You need Python\" 문자열에서 단순히 한 문자만을 뽑아 내는 것이 아니라\n",
    "\n",
    "‘Life’ 또는 ‘You’와 같은 단어를 뽑아 내는 방법은 없을까?\n",
    "\n",
    "다음과 같이 하면 된다."
   ]
  },
  {
   "cell_type": "code",
   "execution_count": 6,
   "id": "9d5b28a8",
   "metadata": {},
   "outputs": [
    {
     "data": {
      "text/plain": [
       "'Life'"
      ]
     },
     "execution_count": 6,
     "metadata": {},
     "output_type": "execute_result"
    }
   ],
   "source": [
    "a = \"Life is too short, You need Python\"\n",
    "b = a[0] + a[1] + a[2] + a[3]\n",
    "b"
   ]
  },
  {
   "cell_type": "markdown",
   "id": "f8b7801d",
   "metadata": {},
   "source": [
    "위와 같이 단순하게 접근할 수도 있지만 파이썬에서는 더 좋은 방법을 제공한다. \n",
    "\n",
    "바로 `슬라이싱slicing 기법`이다.\n",
    "\n",
    "위 예는 슬라이싱 기법으로 다음과 같이 간단하게 처리할 수 있다."
   ]
  },
  {
   "cell_type": "markdown",
   "id": "3dc0d7af",
   "metadata": {},
   "source": [
    "`인덱싱 기법과 슬라이싱 기법은 뒤에서 배울 자료형인 리스트나 튜플에서도 사용할 수 있다.`"
   ]
  },
  {
   "cell_type": "code",
   "execution_count": 6,
   "id": "5a9b6c59",
   "metadata": {},
   "outputs": [
    {
     "data": {
      "text/plain": [
       "'Life'"
      ]
     },
     "execution_count": 6,
     "metadata": {},
     "output_type": "execute_result"
    }
   ],
   "source": [
    "a = \"Life is too short, You need Python\"\n",
    "a[0:4]"
   ]
  },
  {
   "cell_type": "markdown",
   "id": "e68aaf30",
   "metadata": {},
   "source": [
    "‘a[0]은 L, a[1]은 i, a[2]는 f, a[3]은 e이므로 a[0:3]으로도 Life라는 단어를 뽑아 낼 수 있지 않을까?’ 라는 의문"
   ]
  },
  {
   "cell_type": "code",
   "execution_count": 9,
   "id": "cc453632",
   "metadata": {},
   "outputs": [
    {
     "data": {
      "text/plain": [
       "'Lif'"
      ]
     },
     "execution_count": 9,
     "metadata": {},
     "output_type": "execute_result"
    }
   ],
   "source": [
    "a[0:3]"
   ]
  },
  {
   "cell_type": "markdown",
   "id": "15092333",
   "metadata": {},
   "source": [
    "이렇게 되는 이유는 슬라이싱 기법으로 `a[시작_번호:끝_번호]`를 지정할 때 끝 번호에 해당하는 문자는 포함하지 않기 \n",
    "\n",
    "**0 <= a < 3**"
   ]
  },
  {
   "cell_type": "markdown",
   "id": "a23d37db",
   "metadata": {},
   "source": [
    "#### 문자열을 슬라이싱하는 연습"
   ]
  },
  {
   "cell_type": "markdown",
   "id": "09b9fc6a",
   "metadata": {},
   "source": [
    " \"Life is too short, You need Python\""
   ]
  },
  {
   "cell_type": "markdown",
   "id": "1401e2f9",
   "metadata": {},
   "source": [
    "a[0:2]\n",
    "a[5:7]\n",
    "a[12:17]"
   ]
  },
  {
   "cell_type": "markdown",
   "id": "ac77b3db",
   "metadata": {},
   "source": [
    "a[시작_번호:끝_번호]에서 끝 번호 부분을 생략하면 시작 번호부터 그 문자열의 끝까지 뽑아 낸다."
   ]
  },
  {
   "cell_type": "code",
   "execution_count": 12,
   "id": "78d2948f",
   "metadata": {},
   "outputs": [
    {
     "data": {
      "text/plain": [
       "'need'"
      ]
     },
     "execution_count": 12,
     "metadata": {},
     "output_type": "execute_result"
    }
   ],
   "source": [
    "# need를 빼오기 \n",
    "a[-11:-7]"
   ]
  },
  {
   "cell_type": "code",
   "execution_count": 13,
   "id": "f9da9ff6",
   "metadata": {},
   "outputs": [
    {
     "data": {
      "text/plain": [
       "'You need Python'"
      ]
     },
     "execution_count": 13,
     "metadata": {},
     "output_type": "execute_result"
    }
   ],
   "source": [
    "a[19:]"
   ]
  },
  {
   "cell_type": "markdown",
   "id": "c3059b36",
   "metadata": {},
   "source": [
    "a[시작_번호:끝_번호]에서 시작 번호를 생략하면 문자열의 처음부터 끝 번호까지 뽑아 낸다."
   ]
  },
  {
   "cell_type": "code",
   "execution_count": 17,
   "id": "31ae1cb7",
   "metadata": {},
   "outputs": [
    {
     "data": {
      "text/plain": [
       "'Life is too short'"
      ]
     },
     "execution_count": 17,
     "metadata": {},
     "output_type": "execute_result"
    }
   ],
   "source": [
    "a[:17]"
   ]
  },
  {
   "cell_type": "markdown",
   "id": "cff0bd24",
   "metadata": {},
   "source": [
    "a[시작_번호:끝_번호]에서 시작 번호와 끝 번호를 생략하면 문자열의 처음부터 끝까지 뽑아 낸다."
   ]
  },
  {
   "cell_type": "code",
   "execution_count": 18,
   "id": "2d485f98",
   "metadata": {},
   "outputs": [
    {
     "data": {
      "text/plain": [
       "'Life is too short, You need Python'"
      ]
     },
     "execution_count": 18,
     "metadata": {},
     "output_type": "execute_result"
    }
   ],
   "source": [
    "a[:]"
   ]
  },
  {
   "cell_type": "markdown",
   "id": "29a34c8f",
   "metadata": {},
   "source": [
    "슬라이싱에서도 인덱싱과 마찬가지로 -(빼기) 기호를 사용할 수 있다."
   ]
  },
  {
   "cell_type": "code",
   "execution_count": 19,
   "id": "344c2a6d",
   "metadata": {},
   "outputs": [
    {
     "data": {
      "text/plain": [
       "'You need'"
      ]
     },
     "execution_count": 19,
     "metadata": {},
     "output_type": "execute_result"
    }
   ],
   "source": [
    "a[19:-7]"
   ]
  },
  {
   "cell_type": "code",
   "execution_count": 26,
   "id": "61d4f42e",
   "metadata": {},
   "outputs": [
    {
     "data": {
      "text/plain": [
       "'short'"
      ]
     },
     "execution_count": 26,
     "metadata": {},
     "output_type": "execute_result"
    }
   ],
   "source": [
    "# \"Life is too short, You need Python\"\n",
    "a[-22: -17]"
   ]
  },
  {
   "cell_type": "markdown",
   "id": "e7016d52",
   "metadata": {},
   "source": [
    "a[19:-7]은 a[19]에서 a[-8]까지를 의미한다. 이때에도 a[-7]은 포함하지 않는다."
   ]
  },
  {
   "cell_type": "markdown",
   "id": "41f932d4",
   "metadata": {},
   "source": [
    "#### 슬라이싱으로 문자열 나누기"
   ]
  },
  {
   "cell_type": "markdown",
   "id": "3b752b21",
   "metadata": {},
   "source": [
    "다음은 자주 사용하는 슬라이싱 기법 중 하나이다."
   ]
  },
  {
   "cell_type": "code",
   "execution_count": 30,
   "id": "e462eaec",
   "metadata": {},
   "outputs": [
    {
     "name": "stdout",
     "output_type": "stream",
     "text": [
      "20230331\n",
      "Rainy\n"
     ]
    }
   ],
   "source": [
    "a = \"20230331Rainy\"\n",
    "date = a[:8]\n",
    "weather = a[8:]\n",
    "print(date)\n",
    "print(weather)"
   ]
  },
  {
   "cell_type": "code",
   "execution_count": 37,
   "id": "717e22e6",
   "metadata": {},
   "outputs": [
    {
     "name": "stdout",
     "output_type": "stream",
     "text": [
      "2023\n",
      "03\n",
      "31\n"
     ]
    }
   ],
   "source": [
    "year = date[:4]\n",
    "month = date[4:6]\n",
    "day = date[6:8]\n",
    "print(year)\n",
    "print(month)\n",
    "print(day)"
   ]
  },
  {
   "cell_type": "markdown",
   "id": "472337cb",
   "metadata": {},
   "source": [
    "#### Pithon 문자열을 Python으로 바꾸려면?\n",
    "Pithon 문자열을 Python으로 바꾸려면 어떻게 해야 할까? 제일 먼저 떠오르는 생각은 다음과 같을 것이다."
   ]
  },
  {
   "cell_type": "code",
   "execution_count": 1,
   "id": "a8035f2a",
   "metadata": {},
   "outputs": [
    {
     "ename": "TypeError",
     "evalue": "'str' object does not support item assignment",
     "output_type": "error",
     "traceback": [
      "\u001b[0;31m---------------------------------------------------------------------------\u001b[0m",
      "\u001b[0;31mTypeError\u001b[0m                                 Traceback (most recent call last)",
      "Cell \u001b[0;32mIn[1], line 3\u001b[0m\n\u001b[1;32m      1\u001b[0m a \u001b[38;5;241m=\u001b[39m \u001b[38;5;124m\"\u001b[39m\u001b[38;5;124mPithon\u001b[39m\u001b[38;5;124m\"\u001b[39m\n\u001b[1;32m      2\u001b[0m a[\u001b[38;5;241m1\u001b[39m]\n\u001b[0;32m----> 3\u001b[0m \u001b[43ma\u001b[49m\u001b[43m[\u001b[49m\u001b[38;5;241;43m1\u001b[39;49m\u001b[43m]\u001b[49m \u001b[38;5;241m=\u001b[39m \u001b[38;5;124m'\u001b[39m\u001b[38;5;124my\u001b[39m\u001b[38;5;124m'\u001b[39m\n",
      "\u001b[0;31mTypeError\u001b[0m: 'str' object does not support item assignment"
     ]
    }
   ],
   "source": [
    "a = \"Pithon\"\n",
    "a[1]\n",
    "a[1] = 'y'"
   ]
  },
  {
   "cell_type": "markdown",
   "id": "e13a4d9d",
   "metadata": {},
   "source": [
    "즉, a 변수에 \"Pithon\" 문자열을 대입하고 a[1]의 값이 i이므로 a[1]을 y로 바꾸어 준다는 생각이다. \n",
    "\n",
    "하지만 결과는 어떻게 나올까? 당연히 오류가 발생한다. \n",
    "\n",
    "문자열의 요솟값은 바꿀 수 있는 값이 아니기 때문이다 (그래서 문자열을 `변경 불가능한 immutable 자료형` 이라고도 부른다)."
   ]
  },
  {
   "cell_type": "markdown",
   "id": "fb5cc3d8",
   "metadata": {},
   "source": [
    "하지만 앞에서 배운 슬라이싱 기법을 사용하면 Pithon 문자열을 사용해 Python 문자열을 만들 수 있다. 다음 예를 살펴보자."
   ]
  },
  {
   "cell_type": "code",
   "execution_count": 5,
   "id": "f23b6407",
   "metadata": {},
   "outputs": [
    {
     "data": {
      "text/plain": [
       "'Python'"
      ]
     },
     "execution_count": 5,
     "metadata": {},
     "output_type": "execute_result"
    }
   ],
   "source": [
    "a = \"Pithon\"\n",
    "a[:1]\n",
    "a[2:]\n",
    "a[:1] + 'y' + a[2:]"
   ]
  },
  {
   "cell_type": "markdown",
   "id": "7172a421",
   "metadata": {},
   "source": [
    "#### 문자열 포매팅이란?\n",
    "문자열에서 또 하나 알아야 할 것으로는 `문자열 포매팅(string formatting)`이 있다. \n",
    "\n",
    "문자열 포매팅을 공부하기 전에 다음과 같은 문자열을 출력하는 프로그램을 작성했다고 가정해 보자."
   ]
  },
  {
   "cell_type": "markdown",
   "id": "6fcc89b5",
   "metadata": {},
   "source": [
    "#### \"현재 온도는 18도입니다.\""
   ]
  },
  {
   "cell_type": "markdown",
   "id": "425bc4e6",
   "metadata": {},
   "source": [
    "시간이 지나서 20도가 되면 다음 문장을 출력한다."
   ]
  },
  {
   "cell_type": "markdown",
   "id": "7dbcccd8",
   "metadata": {},
   "source": [
    "두 문자열은 모두 같은데 20이라는 숫자와 18이라는 숫자만 다르다. \n",
    "\n",
    "이렇게 문자열 안의 특정한 값을 바꿔야 할 경우가 있을 때 이것을 가능하게 해 주는 것이 바로 문자열 포매팅이다."
   ]
  },
  {
   "cell_type": "markdown",
   "id": "33f9193e",
   "metadata": {},
   "source": [
    "#### \"현재 온도는 20도입니다\""
   ]
  },
  {
   "cell_type": "markdown",
   "id": "f127474d",
   "metadata": {},
   "source": [
    "### 문자열 포매팅 따라하기\n",
    "#### 1. 숫자 바로 대입"
   ]
  },
  {
   "cell_type": "code",
   "execution_count": 6,
   "id": "8710f9fb",
   "metadata": {},
   "outputs": [
    {
     "data": {
      "text/plain": [
       "'I eat 3 apples.'"
      ]
     },
     "execution_count": 6,
     "metadata": {},
     "output_type": "execute_result"
    }
   ],
   "source": [
    "\"I eat %d apples.\" % 3"
   ]
  },
  {
   "cell_type": "code",
   "execution_count": 5,
   "id": "f490c2e6",
   "metadata": {},
   "outputs": [
    {
     "data": {
      "text/plain": [
       "'I eat 7 apples.'"
      ]
     },
     "execution_count": 5,
     "metadata": {},
     "output_type": "execute_result"
    }
   ],
   "source": [
    "\"I eat %d apples.\" % 7"
   ]
  },
  {
   "cell_type": "markdown",
   "id": "b2600e87",
   "metadata": {},
   "source": [
    "#### 2. 문자열 바로 대입\n",
    "문자열 안에 꼭 숫자만 넣으라는 법은 없다. 이번에는 숫자 대신 문자열을 넣어 보자."
   ]
  },
  {
   "cell_type": "code",
   "execution_count": 8,
   "id": "5612886f",
   "metadata": {},
   "outputs": [
    {
     "data": {
      "text/plain": [
       "'I eat seven apples.'"
      ]
     },
     "execution_count": 8,
     "metadata": {},
     "output_type": "execute_result"
    }
   ],
   "source": [
    "\"I eat %s apples.\" % \"seven\""
   ]
  },
  {
   "cell_type": "markdown",
   "id": "d652fbd7",
   "metadata": {},
   "source": [
    "문자열 안에 또 다른 문자열을 삽입하기 위해 앞에서 사용한 문자열 포맷 코드 %d가 아닌 %s를 썼다. \n",
    "\n",
    "숫자를 넣기 위해서는 %d, 문자열을 넣기 위해서는 %s를 써야 한다는 사실"
   ]
  },
  {
   "cell_type": "markdown",
   "id": "4c17e4d6",
   "metadata": {},
   "source": [
    "#### 3. 숫자 값을 나타내는 변수로 대입"
   ]
  },
  {
   "cell_type": "code",
   "execution_count": 14,
   "id": "9507b787",
   "metadata": {},
   "outputs": [
    {
     "data": {
      "text/plain": [
       "'I eat 4 apples.'"
      ]
     },
     "execution_count": 14,
     "metadata": {},
     "output_type": "execute_result"
    }
   ],
   "source": [
    "number = 4\n",
    "\"I eat %d apples.\" % number"
   ]
  },
  {
   "cell_type": "markdown",
   "id": "e48af2a6",
   "metadata": {},
   "source": [
    "#### 4. 2개 이상의 값 넣기"
   ]
  },
  {
   "cell_type": "code",
   "execution_count": 12,
   "id": "4637bbf9",
   "metadata": {},
   "outputs": [
    {
     "data": {
      "text/plain": [
       "'I ate 10 apples. so I was sick for three days.'"
      ]
     },
     "execution_count": 12,
     "metadata": {},
     "output_type": "execute_result"
    }
   ],
   "source": [
    "number = 12\n",
    "day = \"three\"\n",
    "\"I ate %d apples. so I was sick for %s days.\" % (number, day)"
   ]
  },
  {
   "cell_type": "code",
   "execution_count": 26,
   "id": "19de9f06",
   "metadata": {},
   "outputs": [
    {
     "data": {
      "text/plain": [
       "'Error is 99.984545%'"
      ]
     },
     "execution_count": 26,
     "metadata": {},
     "output_type": "execute_result"
    }
   ],
   "source": [
    "# 추가로 연습해보기~~\n",
    "per = 99.9845454\n",
    "\"Error is %f%%\" % per"
   ]
  },
  {
   "cell_type": "markdown",
   "id": "4ba63501",
   "metadata": {},
   "source": [
    "### 문자열 포맷 코드\n",
    "문자열 포매팅 예제에서는 대입해 넣는 자료형으로 정수와 문자열을 사용했지만, 이 밖에도 다양한 것을 대입할 수 있다. \n",
    "\n",
    "문자열 포맷 코드의 종류는 다음과 같다."
   ]
  },
  {
   "cell_type": "markdown",
   "id": "656334c9",
   "metadata": {},
   "source": [
    "|코드|\t설명|\n",
    "|---|---|\n",
    "|%s|\t문자열(String)|\n",
    "|%c|\t문자 1개(character)|\n",
    "|%d|\t정수(Integer)|\n",
    "|%f|\t부동소수(floating-point)|\n",
    "|%o|\t8진수|\n",
    "|%x|\t16진수|\n",
    "|%%|\tLiteral % (문자 % 자체)|"
   ]
  },
  {
   "cell_type": "markdown",
   "id": "4accaa7e",
   "metadata": {},
   "source": [
    "여기에서 재미있는 것은 %s 포맷 코드인데, 이 코드에는 어떤 형태의 값이든 변환해 넣을 수 있다"
   ]
  },
  {
   "cell_type": "code",
   "execution_count": 16,
   "id": "2de98f9f",
   "metadata": {},
   "outputs": [
    {
     "data": {
      "text/plain": [
       "'I have 3 apples'"
      ]
     },
     "execution_count": 16,
     "metadata": {},
     "output_type": "execute_result"
    }
   ],
   "source": [
    "\"I have %s apples\" % 3"
   ]
  },
  {
   "cell_type": "code",
   "execution_count": 17,
   "id": "750705df",
   "metadata": {},
   "outputs": [
    {
     "data": {
      "text/plain": [
       "'rate is 3.234'"
      ]
     },
     "execution_count": 17,
     "metadata": {},
     "output_type": "execute_result"
    }
   ],
   "source": [
    "\"rate is %s\" % 3.234"
   ]
  },
  {
   "cell_type": "markdown",
   "id": "6a3fb5c4",
   "metadata": {},
   "source": [
    "#### 포매팅 연산자 %d와 %를 같이 쓸 때는 %%를 쓴다"
   ]
  },
  {
   "cell_type": "code",
   "execution_count": 18,
   "id": "0bdfda2b",
   "metadata": {},
   "outputs": [
    {
     "ename": "ValueError",
     "evalue": "incomplete format",
     "output_type": "error",
     "traceback": [
      "\u001b[1;31m---------------------------------------------------------------------------\u001b[0m",
      "\u001b[1;31mValueError\u001b[0m                                Traceback (most recent call last)",
      "Cell \u001b[1;32mIn[18], line 1\u001b[0m\n\u001b[1;32m----> 1\u001b[0m \u001b[39m\"\u001b[39;49m\u001b[39mError is \u001b[39;49m\u001b[39m%d\u001b[39;49;00m\u001b[39m%\u001b[39;49m\u001b[39m.\u001b[39;49m\u001b[39m\"\u001b[39;49m \u001b[39m%\u001b[39;49m \u001b[39m98\u001b[39;49m\n",
      "\u001b[1;31mValueError\u001b[0m: incomplete format"
     ]
    }
   ],
   "source": [
    "\"Error is %d%.\" % 98"
   ]
  },
  {
   "cell_type": "markdown",
   "id": "3beeeff1",
   "metadata": {},
   "source": [
    "결괏값으로 당연히 \"Error is 98%.\"가 출력될 것이라고 예상하겠지만, \n",
    "\n",
    "파이썬은 '형식이 불완전하다'라는 오류 메시지를 보여 준다."
   ]
  },
  {
   "cell_type": "markdown",
   "id": "8e9dd451",
   "metadata": {},
   "source": [
    "그 이유는 ‘문자열 포맷 코드인 %d와 %가 같은 문자열 안에 존재하는 경우, %를 나타내려면 반드시 `%%를` 써야 한다’라는 법칙이 있기 때문이다. \n",
    "\n",
    "이 점은 꼭 기억해 두어야 한다. 하지만 문자열 안에 %d와 같은 포매팅 연산자가 없으면 %는 홀로 쓰여도 상관없다. \n",
    "\n",
    "따라서 위 예를 제대로 실행하려면 다음과 같이 작성해야 한다."
   ]
  },
  {
   "cell_type": "code",
   "execution_count": 19,
   "id": "f3501bc9",
   "metadata": {},
   "outputs": [
    {
     "data": {
      "text/plain": [
       "'Error is 98%.'"
      ]
     },
     "execution_count": 19,
     "metadata": {},
     "output_type": "execute_result"
    }
   ],
   "source": [
    "\"Error is %d%%.\" % 98"
   ]
  },
  {
   "cell_type": "markdown",
   "id": "84bd61ab",
   "metadata": {},
   "source": [
    "### 포맷 코드와 숫자 함께 사용하기\n",
    "앞에서 살펴보았듯이 %d, %s 등과 같은 포맷 코드는 문자열 안에 어떤 값을 삽입할 때 사용한다. \n",
    "\n",
    "하지만 포맷 코드를 숫자와 함께 사용하면 더 유용하다. \n",
    "\n",
    "다음 예를 따라해 보자.\n",
    "\n",
    "#### 1. 정렬과 공백"
   ]
  },
  {
   "cell_type": "code",
   "execution_count": 20,
   "id": "3d6c0acb",
   "metadata": {},
   "outputs": [
    {
     "data": {
      "text/plain": [
       "'        hi'"
      ]
     },
     "execution_count": 20,
     "metadata": {},
     "output_type": "execute_result"
    }
   ],
   "source": [
    "\"%10s\" % \"hi\""
   ]
  },
  {
   "cell_type": "markdown",
   "id": "e352a7a4",
   "metadata": {},
   "source": [
    "%10s는 전체 길이가 10개인 문자열 공간에서 대입되는 값을 오른쪽으로 정렬하고 그 앞의 나머지는 공백으로 남겨 두라는 의미이다."
   ]
  },
  {
   "cell_type": "markdown",
   "id": "dbce0c10",
   "metadata": {},
   "source": [
    "![indexing](02_2_formating1.png)"
   ]
  },
  {
   "cell_type": "markdown",
   "id": "a7eed205",
   "metadata": {},
   "source": [
    "그렇다면 반대쪽인 왼쪽 정렬은 %-10s가 될 것이다"
   ]
  },
  {
   "cell_type": "code",
   "execution_count": 36,
   "id": "eec5b2f3",
   "metadata": {},
   "outputs": [
    {
     "data": {
      "text/plain": [
       "16"
      ]
     },
     "execution_count": 36,
     "metadata": {},
     "output_type": "execute_result"
    }
   ],
   "source": [
    "len(\"%-10s\" % \"hi\" \"%10s\" % \"hi\")"
   ]
  },
  {
   "cell_type": "code",
   "execution_count": 37,
   "id": "4e212e0d",
   "metadata": {},
   "outputs": [
    {
     "name": "stdout",
     "output_type": "stream",
     "text": [
      "'hi        '의 길이: 10\n",
      "'        hi'의 길이: 10\n",
      "결합된 문자열: 'hi                hi'\n",
      "결합된 문자열의 길이: 20\n"
     ]
    }
   ],
   "source": [
    "left_aligned = \"%-10s\" % \"hi\"\n",
    "right_aligned = \"%10s\" % \"hi\"\n",
    "combined = left_aligned + right_aligned\n",
    "length = len(combined)\n",
    "\n",
    "print(f\"'{left_aligned}'의 길이: {len(left_aligned)}\")\n",
    "print(f\"'{right_aligned}'의 길이: {len(right_aligned)}\")\n",
    "print(f\"결합된 문자열: '{combined}'\")\n",
    "print(f\"결합된 문자열의 길이: {length}\")"
   ]
  },
  {
   "cell_type": "code",
   "execution_count": 21,
   "id": "23299f70",
   "metadata": {},
   "outputs": [
    {
     "data": {
      "text/plain": [
       "'hi        jane.'"
      ]
     },
     "execution_count": 21,
     "metadata": {},
     "output_type": "execute_result"
    }
   ],
   "source": [
    "\"%-10sjane.\" % 'hi'"
   ]
  },
  {
   "cell_type": "markdown",
   "id": "822ed78e",
   "metadata": {},
   "source": [
    "![indexing](02_2_formating2.png)"
   ]
  },
  {
   "cell_type": "markdown",
   "id": "17125d42",
   "metadata": {},
   "source": [
    "#### 2. 소수점 표현하기"
   ]
  },
  {
   "cell_type": "code",
   "execution_count": 20,
   "id": "158b6232",
   "metadata": {},
   "outputs": [
    {
     "data": {
      "text/plain": [
       "'3.4213'"
      ]
     },
     "execution_count": 20,
     "metadata": {},
     "output_type": "execute_result"
    }
   ],
   "source": [
    "\"%0.4f\" % 3.42134234"
   ]
  },
  {
   "cell_type": "markdown",
   "id": "ceacfa48",
   "metadata": {},
   "source": [
    "3.42134234를 소수점 네 번째 자리까지만 나타내고 싶은 경우에는 위와 같이 작성한다. \n",
    "\n",
    "%0.4f에서 ‘.’는 소수점 포인트, 그 뒤의 숫자 4는 소수점 뒤에 나올 숫자의 개수를 말한다. \n",
    "\n",
    "소수점 포인트 앞의 숫자는 문자열의 전체 길이를 의미하는데, %0.4f에서 사용한 숫자 `0은 길이에 상관하지 않겠다`는 의미이다."
   ]
  },
  {
   "cell_type": "markdown",
   "id": "acfc4854",
   "metadata": {},
   "source": [
    "%0.4f는 0을 생략하여 %.4f처럼 사용하기도 한다."
   ]
  },
  {
   "cell_type": "markdown",
   "id": "1e128577",
   "metadata": {},
   "source": [
    "다음 예를 살펴보자."
   ]
  },
  {
   "cell_type": "code",
   "execution_count": 24,
   "id": "fa113445",
   "metadata": {},
   "outputs": [
    {
     "data": {
      "text/plain": [
       "'    3.4213'"
      ]
     },
     "execution_count": 24,
     "metadata": {},
     "output_type": "execute_result"
    }
   ],
   "source": [
    "\"%10.4f\" % 3.42134234"
   ]
  },
  {
   "cell_type": "markdown",
   "id": "fb1571a9",
   "metadata": {},
   "source": [
    "![indexing](02_2_formating3.png)"
   ]
  },
  {
   "cell_type": "markdown",
   "id": "ac051f2f",
   "metadata": {},
   "source": [
    "### format 함수를 사용한 포매팅"
   ]
  },
  {
   "cell_type": "markdown",
   "id": "141bd49b",
   "metadata": {},
   "source": [
    "문자열의 format 함수를 사용하면 좀 더 발전된 스타일로 문자열 포맷을 지정할 수 있다. \n",
    "\n",
    "앞에서 살펴본 문자열 포매팅 예제를 format함수를 사용해서 바꾸면 다음과 같다.\n",
    "\n",
    "#### 숫자 바로 대입하기"
   ]
  },
  {
   "cell_type": "code",
   "execution_count": 25,
   "id": "17f07f12",
   "metadata": {},
   "outputs": [
    {
     "data": {
      "text/plain": [
       "'I eat 3 apples'"
      ]
     },
     "execution_count": 25,
     "metadata": {},
     "output_type": "execute_result"
    }
   ],
   "source": [
    "\"I eat {0} apples\".format(3)"
   ]
  },
  {
   "cell_type": "code",
   "execution_count": 40,
   "id": "582697e6",
   "metadata": {},
   "outputs": [
    {
     "data": {
      "text/plain": [
       "'I eat {0} apples'"
      ]
     },
     "execution_count": 40,
     "metadata": {},
     "output_type": "execute_result"
    }
   ],
   "source": [
    "\"I eat {0} apples\""
   ]
  },
  {
   "cell_type": "markdown",
   "id": "98bf712e",
   "metadata": {},
   "source": [
    "#### 문자열 바로 대입하기"
   ]
  },
  {
   "cell_type": "code",
   "execution_count": 27,
   "id": "2c8aebc0",
   "metadata": {},
   "outputs": [
    {
     "data": {
      "text/plain": [
       "'I eat five apples'"
      ]
     },
     "execution_count": 27,
     "metadata": {},
     "output_type": "execute_result"
    }
   ],
   "source": [
    "\"I eat {0} apples\".format(\"five\")"
   ]
  },
  {
   "cell_type": "markdown",
   "id": "87f34193",
   "metadata": {},
   "source": [
    "문자열의 {0} 항목이 ‘five’라는 문자열로 바뀌었다."
   ]
  },
  {
   "cell_type": "markdown",
   "id": "e8e3024c",
   "metadata": {},
   "source": [
    "#### 숫자 값을 가진 변수로 대입하기"
   ]
  },
  {
   "cell_type": "code",
   "execution_count": 21,
   "id": "5d89e278",
   "metadata": {},
   "outputs": [
    {
     "data": {
      "text/plain": [
       "'I eat 3 apples'"
      ]
     },
     "execution_count": 21,
     "metadata": {},
     "output_type": "execute_result"
    }
   ],
   "source": [
    "number = 3\n",
    "\"I eat {0} apples\".format(number)"
   ]
  },
  {
   "cell_type": "markdown",
   "id": "065826d6",
   "metadata": {},
   "source": [
    "문자열의 {0} 항목이 number 변수의 값인 3으로 바뀌었다."
   ]
  },
  {
   "cell_type": "markdown",
   "id": "238c6c94",
   "metadata": {},
   "source": [
    "#### 2개 이상의 값 넣기"
   ]
  },
  {
   "cell_type": "code",
   "execution_count": 28,
   "id": "0616d72d",
   "metadata": {},
   "outputs": [
    {
     "data": {
      "text/plain": [
       "'I ate 10 apples. so I was sick for three days.'"
      ]
     },
     "execution_count": 28,
     "metadata": {},
     "output_type": "execute_result"
    }
   ],
   "source": [
    "number = 10\n",
    "day = \"three\"\n",
    "\"I ate {0} apples. so I was sick for {1} days.\".format(number, day)"
   ]
  },
  {
   "cell_type": "markdown",
   "id": "7e176c43",
   "metadata": {},
   "source": [
    "#### 이름으로 넣기 "
   ]
  },
  {
   "cell_type": "code",
   "execution_count": 29,
   "id": "9962c270",
   "metadata": {},
   "outputs": [
    {
     "data": {
      "text/plain": [
       "'I ate 10 apples. so I was sick for 3 days.'"
      ]
     },
     "execution_count": 29,
     "metadata": {},
     "output_type": "execute_result"
    }
   ],
   "source": [
    "\"I ate {number} apples. so I was sick for {day} days.\".format(number=10, day=3)"
   ]
  },
  {
   "cell_type": "code",
   "execution_count": 41,
   "id": "44681131",
   "metadata": {},
   "outputs": [
    {
     "data": {
      "text/plain": [
       "'I ate 10 apples. so I was sick for 3 days.'"
      ]
     },
     "execution_count": 41,
     "metadata": {},
     "output_type": "execute_result"
    }
   ],
   "source": [
    "\"I ate {number} apples. so I was sick for {day} days.\".format( day=3,number=10)"
   ]
  },
  {
   "cell_type": "markdown",
   "id": "b04242be",
   "metadata": {},
   "source": [
    "{0}, {1}과 같은 인덱스 항목 대신 더 편리한 {name} 형태를 사용하는 방법도 있다. \n",
    "\n",
    "{name} 형태를 사용할 경우, format 함수에는 반드시 name=value와 같은 형태의 입력값이 있어야 한다. \n",
    "\n",
    "위 예는 문자열의 {number}, {day}가 format 함수의 입력값인 number=10, day=3 값으로 각각 바뀌는 것을 보여 주고 있다."
   ]
  },
  {
   "cell_type": "markdown",
   "id": "89abd914",
   "metadata": {},
   "source": [
    "#### 인덱스와 이름을 혼용해서 넣기"
   ]
  },
  {
   "cell_type": "code",
   "execution_count": 30,
   "id": "30724f43",
   "metadata": {},
   "outputs": [
    {
     "data": {
      "text/plain": [
       "'I ate 10 apples. so I was sick for 3 days.'"
      ]
     },
     "execution_count": 30,
     "metadata": {},
     "output_type": "execute_result"
    }
   ],
   "source": [
    "\"I ate {0} apples. so I was sick for {day} days.\".format(10, day=3)"
   ]
  },
  {
   "cell_type": "markdown",
   "id": "0a1fb024",
   "metadata": {},
   "source": [
    "#### 왼쪽 정렬"
   ]
  },
  {
   "cell_type": "code",
   "execution_count": 31,
   "id": "eb4ea163",
   "metadata": {},
   "outputs": [
    {
     "data": {
      "text/plain": [
       "'hi        '"
      ]
     },
     "execution_count": 31,
     "metadata": {},
     "output_type": "execute_result"
    }
   ],
   "source": [
    "\"{0:<10}\".format(\"hi\")"
   ]
  },
  {
   "cell_type": "markdown",
   "id": "4c0d0a90",
   "metadata": {},
   "source": [
    "오른쪽 정렬은 :< 대신 :>을 사용하면 된다. 화살표의 방향을 생각하면 어느 쪽으로 정렬되는지 바로 알 수 있을 것이다."
   ]
  },
  {
   "cell_type": "markdown",
   "id": "c978b608",
   "metadata": {},
   "source": [
    "#### 오른쪽 정렬"
   ]
  },
  {
   "cell_type": "code",
   "execution_count": 33,
   "id": "1dc56a9b",
   "metadata": {},
   "outputs": [
    {
     "data": {
      "text/plain": [
       "'        hi'"
      ]
     },
     "execution_count": 33,
     "metadata": {},
     "output_type": "execute_result"
    }
   ],
   "source": [
    "\"{0:>10}\".format(\"hi\")"
   ]
  },
  {
   "cell_type": "markdown",
   "id": "09bac58d",
   "metadata": {},
   "source": [
    "가운데 정렬"
   ]
  },
  {
   "cell_type": "code",
   "execution_count": 34,
   "id": "faf1856a",
   "metadata": {},
   "outputs": [
    {
     "data": {
      "text/plain": [
       "'    hi    '"
      ]
     },
     "execution_count": 34,
     "metadata": {},
     "output_type": "execute_result"
    }
   ],
   "source": [
    "\"{0:^10}\".format(\"hi\")"
   ]
  },
  {
   "cell_type": "markdown",
   "id": "3d7e728c",
   "metadata": {},
   "source": [
    "#### 공백 채우기"
   ]
  },
  {
   "cell_type": "code",
   "execution_count": 35,
   "id": "3ad5a0af",
   "metadata": {},
   "outputs": [
    {
     "data": {
      "text/plain": [
       "'====hi===='"
      ]
     },
     "execution_count": 35,
     "metadata": {},
     "output_type": "execute_result"
    }
   ],
   "source": [
    "\"{0:=^10}\".format(\"hi\")"
   ]
  },
  {
   "cell_type": "code",
   "execution_count": 36,
   "id": "73586b1e",
   "metadata": {},
   "outputs": [
    {
     "data": {
      "text/plain": [
       "'hi!!!!!!!!'"
      ]
     },
     "execution_count": 36,
     "metadata": {},
     "output_type": "execute_result"
    }
   ],
   "source": [
    "\"{0:!<10}\".format(\"hi\")"
   ]
  },
  {
   "cell_type": "markdown",
   "id": "1a38a7bc",
   "metadata": {},
   "source": [
    "정렬할 때 공백 문자 대신 지정한 문자 값으로 채워 넣을 수도 있다. \n",
    "\n",
    "채워 넣을 문자 값은 정렬 문자 <, >, ^ 바로 앞에 넣어야 한다. \n",
    "\n",
    "위 예에서 첫 번째 예제는 가운데(^)로 정렬하고 빈 공간을 =로 채웠고, 두 번째 예제는 왼쪽(<)으로 정렬하고 빈 공간을 !로 채웠다."
   ]
  },
  {
   "cell_type": "markdown",
   "id": "ed22d938",
   "metadata": {},
   "source": [
    "#### 소수점 표현하기"
   ]
  },
  {
   "cell_type": "code",
   "execution_count": 37,
   "id": "a17ad0f3",
   "metadata": {},
   "outputs": [
    {
     "data": {
      "text/plain": [
       "'3.4213'"
      ]
     },
     "execution_count": 37,
     "metadata": {},
     "output_type": "execute_result"
    }
   ],
   "source": [
    "y = 3.42134234\n",
    "\"{0:0.4f}\".format(y)"
   ]
  },
  {
   "cell_type": "markdown",
   "id": "118a728b",
   "metadata": {},
   "source": [
    "{ 또는 } 문자 표현하기"
   ]
  },
  {
   "cell_type": "code",
   "execution_count": 2,
   "id": "b9bdc3af",
   "metadata": {},
   "outputs": [
    {
     "data": {
      "text/plain": [
       "'{ and }'"
      ]
     },
     "execution_count": 2,
     "metadata": {},
     "output_type": "execute_result"
    }
   ],
   "source": [
    "\"{{ and }}\".format()"
   ]
  },
  {
   "cell_type": "code",
   "execution_count": 44,
   "id": "8b95990c",
   "metadata": {},
   "outputs": [
    {
     "data": {
      "text/plain": [
       "'{ and }'"
      ]
     },
     "execution_count": 44,
     "metadata": {},
     "output_type": "execute_result"
    }
   ],
   "source": [
    "\"{{ and }}\".format(\"but\")"
   ]
  },
  {
   "cell_type": "markdown",
   "id": "c7cc74ac",
   "metadata": {},
   "source": [
    "#### `f` 문자열 포매팅\n",
    "파이썬 3.6 버전부터는 f 문자열 포매팅 기능을 사용할 수 있다. \n",
    "\n",
    "파이썬 3.6 미만 버전에서는 사용할 수 없는 기능이므로 주의해야 한다.\n",
    "\n",
    "다음과 같이 문자열 앞에 f 접두사를 붙이면 f 문자열 포매팅 기능을 사용할 수 있다.\n"
   ]
  },
  {
   "cell_type": "code",
   "execution_count": 1,
   "id": "bc3035b9",
   "metadata": {},
   "outputs": [
    {
     "data": {
      "text/plain": [
       "'나의 이름은 홍길동입니다. 나이는 30입니다.'"
      ]
     },
     "execution_count": 1,
     "metadata": {},
     "output_type": "execute_result"
    }
   ],
   "source": [
    "name = '홍길동'\n",
    "age = 30\n",
    "f'나의 이름은 {name}입니다. 나이는 {age}입니다.'"
   ]
  },
  {
   "cell_type": "markdown",
   "id": "85219caf",
   "metadata": {},
   "source": [
    "f 문자열 포매팅은 위와 같이 name, age와 같은 변숫값을 생성한 후에 그 값을 참조할 수 있다. \n",
    "\n",
    "또한 f 문자열 포매팅은 `표현식`을 지원하기 때문에 다음과 같은 것도 가능하다.\n",
    "\n",
    "표현식이란 중괄호 안의 변수를 계산식과 함께 사용하는 것을 말한다."
   ]
  },
  {
   "cell_type": "code",
   "execution_count": 2,
   "id": "e47af9ae",
   "metadata": {},
   "outputs": [
    {
     "data": {
      "text/plain": [
       "'나는 내년이면 31살이 된다.'"
      ]
     },
     "execution_count": 2,
     "metadata": {},
     "output_type": "execute_result"
    }
   ],
   "source": [
    "age = 30\n",
    "f'나는 내년이면 {age + 1}살이 된다.'"
   ]
  },
  {
   "cell_type": "markdown",
   "id": "fde34b3e",
   "metadata": {},
   "source": [
    "딕셔너리는 f 문자열 포매팅에서 다음과 같이 사용할 수 있다."
   ]
  },
  {
   "cell_type": "code",
   "execution_count": 23,
   "id": "35c09da6",
   "metadata": {},
   "outputs": [
    {
     "data": {
      "text/plain": [
       "'나의 이름은 홍길동입니다. 나이는 30입니다.'"
      ]
     },
     "execution_count": 23,
     "metadata": {},
     "output_type": "execute_result"
    }
   ],
   "source": [
    "d = {'name':'홍길동', 'age':30}\n",
    "f'나의 이름은 {d[\"name\"]}입니다. 나이는 {d[\"age\"]}입니다.'"
   ]
  },
  {
   "cell_type": "code",
   "execution_count": 24,
   "id": "0c01ad87",
   "metadata": {},
   "outputs": [],
   "source": [
    "# 본인 이름과 나이로 포매팅 해보기"
   ]
  },
  {
   "cell_type": "markdown",
   "id": "6899c9c6",
   "metadata": {},
   "source": [
    "딕셔너리는 Key와 Value라는 것을 한 쌍으로 가지는 자료형이다.\n",
    "\n",
    "다음 강의에서 학습 예정"
   ]
  },
  {
   "cell_type": "code",
   "execution_count": 4,
   "id": "c4c6d2b2",
   "metadata": {},
   "outputs": [
    {
     "data": {
      "text/plain": [
       "'hi        '"
      ]
     },
     "execution_count": 4,
     "metadata": {},
     "output_type": "execute_result"
    }
   ],
   "source": [
    "f'{\"hi\":<10}'  # 왼쪽 정렬"
   ]
  },
  {
   "cell_type": "code",
   "execution_count": 5,
   "id": "3f870bb6",
   "metadata": {},
   "outputs": [
    {
     "data": {
      "text/plain": [
       "'        hi'"
      ]
     },
     "execution_count": 5,
     "metadata": {},
     "output_type": "execute_result"
    }
   ],
   "source": [
    "f'{\"hi\":>10}'  # 오른쪽 정렬"
   ]
  },
  {
   "cell_type": "code",
   "execution_count": 6,
   "id": "82c82829",
   "metadata": {},
   "outputs": [
    {
     "data": {
      "text/plain": [
       "'    hi    '"
      ]
     },
     "execution_count": 6,
     "metadata": {},
     "output_type": "execute_result"
    }
   ],
   "source": [
    "f'{\"hi\":^10}'  # 가운데 정렬"
   ]
  },
  {
   "cell_type": "markdown",
   "id": "792410e2",
   "metadata": {},
   "source": [
    "공백 채우기는 다음과 같이 할 수 있다."
   ]
  },
  {
   "cell_type": "code",
   "execution_count": 7,
   "id": "4d3f03ec",
   "metadata": {},
   "outputs": [
    {
     "data": {
      "text/plain": [
       "'====hi===='"
      ]
     },
     "execution_count": 7,
     "metadata": {},
     "output_type": "execute_result"
    }
   ],
   "source": [
    "f'{\"hi\":=^10}'  # 가운데 정렬하고 '=' 문자로 공백 채우기"
   ]
  },
  {
   "cell_type": "code",
   "execution_count": 8,
   "id": "4b6e4042",
   "metadata": {},
   "outputs": [
    {
     "data": {
      "text/plain": [
       "'hi!!!!!!!!'"
      ]
     },
     "execution_count": 8,
     "metadata": {},
     "output_type": "execute_result"
    }
   ],
   "source": [
    "f'{\"hi\":!<10}'  # 왼쪽 정렬하고 '!' 문자로 공백 채우기"
   ]
  },
  {
   "cell_type": "code",
   "execution_count": 25,
   "id": "740f562a",
   "metadata": {},
   "outputs": [
    {
     "data": {
      "text/plain": [
       "'3.4213'"
      ]
     },
     "execution_count": 25,
     "metadata": {},
     "output_type": "execute_result"
    }
   ],
   "source": [
    "y = 3.42134234\n",
    "f'{y:0.4f}'  # 소수점 4자리까지만 표현"
   ]
  },
  {
   "cell_type": "code",
   "execution_count": 26,
   "id": "78070914",
   "metadata": {},
   "outputs": [
    {
     "data": {
      "text/plain": [
       "'    3.4213'"
      ]
     },
     "execution_count": 26,
     "metadata": {},
     "output_type": "execute_result"
    }
   ],
   "source": [
    "f'{y:10.4f}'  # 소수점 4자리까지 표현하고 총 자리수를 10으로 맞춤"
   ]
  },
  {
   "cell_type": "markdown",
   "id": "859eb803",
   "metadata": {},
   "source": [
    "### 문자열 관련 함수들\n",
    "문자열 자료형은 자체적으로 함수를 가지고 있다. \n",
    "\n",
    "이들 함수를 다른 말로 `문자열 내장함수`라고 한다. \n",
    "\n",
    "이 내장 함수를 사용하려면 문자열 변수 이름 뒤에 `'.'`를 붙인 후 함수 이름을 써 주면 된다. \n",
    "\n",
    "이제 문자열의 내장 함수에 대해서 알아보자."
   ]
  },
  {
   "cell_type": "markdown",
   "id": "8269e413",
   "metadata": {},
   "source": [
    "#### 문자 개수 세기 - count"
   ]
  },
  {
   "cell_type": "code",
   "execution_count": 9,
   "id": "77a34969",
   "metadata": {},
   "outputs": [
    {
     "data": {
      "text/plain": [
       "2"
      ]
     },
     "execution_count": 9,
     "metadata": {},
     "output_type": "execute_result"
    }
   ],
   "source": [
    "a = \"hobby\"\n",
    "a.count('b')"
   ]
  },
  {
   "cell_type": "markdown",
   "id": "0d1a8869",
   "metadata": {},
   "source": [
    "count 함수로 문자열 중 문자 b의 개수를 리턴했다."
   ]
  },
  {
   "cell_type": "markdown",
   "id": "8de51608",
   "metadata": {},
   "source": [
    "#### 위치 알려 주기 1 - find"
   ]
  },
  {
   "cell_type": "code",
   "execution_count": 10,
   "id": "2cd3fcb4",
   "metadata": {},
   "outputs": [
    {
     "data": {
      "text/plain": [
       "14"
      ]
     },
     "execution_count": 10,
     "metadata": {},
     "output_type": "execute_result"
    }
   ],
   "source": [
    "a = \"Python is the best choice\"\n",
    "a.find('b')"
   ]
  },
  {
   "cell_type": "code",
   "execution_count": 11,
   "id": "72914ed7",
   "metadata": {},
   "outputs": [
    {
     "data": {
      "text/plain": [
       "-1"
      ]
     },
     "execution_count": 11,
     "metadata": {},
     "output_type": "execute_result"
    }
   ],
   "source": [
    "a.find('k')"
   ]
  },
  {
   "cell_type": "markdown",
   "id": "87e08505",
   "metadata": {},
   "source": [
    "find 함수로 문자열 중 문자 b가 처음으로 나온 위치를 반환했다.\n",
    "\n",
    "파이썬은 숫자를 0부터 세기 때문에 b의 위치는 15가 아닌 14가 된다.\n",
    "\n",
    "만약 찾는 문자나 문자열이 존재하지 않는다면 -1을 반환한다."
   ]
  },
  {
   "cell_type": "markdown",
   "id": "0bae2cc7",
   "metadata": {},
   "source": [
    "#### 위치 알려 주기 2 - index"
   ]
  },
  {
   "cell_type": "code",
   "execution_count": 13,
   "id": "71b1da18",
   "metadata": {},
   "outputs": [
    {
     "data": {
      "text/plain": [
       "8"
      ]
     },
     "execution_count": 13,
     "metadata": {},
     "output_type": "execute_result"
    }
   ],
   "source": [
    "a = \"Life is too short\"\n",
    "a.index('t')"
   ]
  },
  {
   "cell_type": "code",
   "execution_count": 12,
   "id": "d88aff3e",
   "metadata": {},
   "outputs": [
    {
     "ename": "ValueError",
     "evalue": "substring not found",
     "output_type": "error",
     "traceback": [
      "\u001b[1;31m---------------------------------------------------------------------------\u001b[0m",
      "\u001b[1;31mValueError\u001b[0m                                Traceback (most recent call last)",
      "Cell \u001b[1;32mIn[12], line 1\u001b[0m\n\u001b[1;32m----> 1\u001b[0m a\u001b[39m.\u001b[39mindex(\u001b[39m'\u001b[39m\u001b[39mk\u001b[39m\u001b[39m'\u001b[39m)\n",
      "\u001b[1;31mValueError\u001b[0m: substring not found"
     ]
    }
   ],
   "source": [
    "a.index('k')"
   ]
  },
  {
   "cell_type": "markdown",
   "id": "23b5c368",
   "metadata": {},
   "source": [
    "#### 문자열 삽입 - join"
   ]
  },
  {
   "cell_type": "code",
   "execution_count": 27,
   "id": "7c60b043",
   "metadata": {},
   "outputs": [
    {
     "data": {
      "text/plain": [
       "'a,b,c,d'"
      ]
     },
     "execution_count": 27,
     "metadata": {},
     "output_type": "execute_result"
    }
   ],
   "source": [
    "\",\".join('abcd')"
   ]
  },
  {
   "cell_type": "markdown",
   "id": "cec017f7",
   "metadata": {},
   "source": [
    "join 함수는 문자열뿐만 아니라 앞으로 배울 리스트나 튜플도 입력으로 사용할 수 있다\n",
    "\n",
    "(리스트와 튜플은 곧 배울 내용이므로 여기에서는 잠시 눈으로만 살펴보자). \n",
    "\n",
    "join 함수의 입력으로 리스트를 사용하는 예는 다음과 같다."
   ]
  },
  {
   "cell_type": "code",
   "execution_count": 28,
   "id": "f04079d6",
   "metadata": {},
   "outputs": [
    {
     "data": {
      "text/plain": [
       "'a,b,c,d'"
      ]
     },
     "execution_count": 28,
     "metadata": {},
     "output_type": "execute_result"
    }
   ],
   "source": [
    "\",\".join(['a', 'b', 'c', 'd'])"
   ]
  },
  {
   "cell_type": "markdown",
   "id": "56cce09f",
   "metadata": {},
   "source": [
    "#### 소문자를 대문자로 바꾸기 - upper"
   ]
  },
  {
   "cell_type": "code",
   "execution_count": 29,
   "id": "adc2f9ff",
   "metadata": {},
   "outputs": [
    {
     "data": {
      "text/plain": [
       "'HI'"
      ]
     },
     "execution_count": 29,
     "metadata": {},
     "output_type": "execute_result"
    }
   ],
   "source": [
    "a = \"hi\"\n",
    "a.upper()"
   ]
  },
  {
   "cell_type": "markdown",
   "id": "3b9650e2",
   "metadata": {},
   "source": [
    "#### 대문자를 소문자로 바꾸기 - lower"
   ]
  },
  {
   "cell_type": "code",
   "execution_count": 17,
   "id": "35abd625",
   "metadata": {},
   "outputs": [
    {
     "data": {
      "text/plain": [
       "'hi'"
      ]
     },
     "execution_count": 17,
     "metadata": {},
     "output_type": "execute_result"
    }
   ],
   "source": [
    "a = \"HI\"\n",
    "a.lower()"
   ]
  },
  {
   "cell_type": "markdown",
   "id": "8dd5e9e4",
   "metadata": {},
   "source": [
    "#### 왼쪽 공백 지우기 - lstrip"
   ]
  },
  {
   "cell_type": "code",
   "execution_count": 18,
   "id": "c3000356",
   "metadata": {},
   "outputs": [
    {
     "data": {
      "text/plain": [
       "'hi '"
      ]
     },
     "execution_count": 18,
     "metadata": {},
     "output_type": "execute_result"
    }
   ],
   "source": [
    "a = \" hi \"\n",
    "a.lstrip()"
   ]
  },
  {
   "cell_type": "markdown",
   "id": "2fd5140f",
   "metadata": {},
   "source": [
    "#### 오른쪽 공백 지우기 - rstrip"
   ]
  },
  {
   "cell_type": "code",
   "execution_count": null,
   "id": "e4cf7384",
   "metadata": {},
   "outputs": [],
   "source": [
    "a= \" hi \"\n",
    "a.rstrip()"
   ]
  },
  {
   "cell_type": "markdown",
   "id": "d014937b",
   "metadata": {},
   "source": [
    "#### 양쪽 공백 지우기 - strip"
   ]
  },
  {
   "cell_type": "code",
   "execution_count": 19,
   "id": "e2edbf16",
   "metadata": {},
   "outputs": [
    {
     "data": {
      "text/plain": [
       "'hi'"
      ]
     },
     "execution_count": 19,
     "metadata": {},
     "output_type": "execute_result"
    }
   ],
   "source": [
    "a = \" hi \"\n",
    "a.strip()"
   ]
  },
  {
   "cell_type": "markdown",
   "id": "52871b85",
   "metadata": {},
   "source": [
    "#### 문자열 바꾸기 - replace"
   ]
  },
  {
   "cell_type": "code",
   "execution_count": 20,
   "id": "92210289",
   "metadata": {},
   "outputs": [
    {
     "data": {
      "text/plain": [
       "'Your leg is too short'"
      ]
     },
     "execution_count": 20,
     "metadata": {},
     "output_type": "execute_result"
    }
   ],
   "source": [
    "a = \"Life is too short\"\n",
    "a.replace(\"Life\", \"Your leg\")"
   ]
  },
  {
   "cell_type": "code",
   "execution_count": 21,
   "id": "8d05925b",
   "metadata": {},
   "outputs": [
    {
     "data": {
      "text/plain": [
       "['Life', 'is', 'too', 'short']"
      ]
     },
     "execution_count": 21,
     "metadata": {},
     "output_type": "execute_result"
    }
   ],
   "source": [
    "#### 문자열 나누기 - split\n",
    "a = \"Life is too short\"\n",
    "a.split()"
   ]
  },
  {
   "cell_type": "code",
   "execution_count": 22,
   "id": "5d9d2c30",
   "metadata": {},
   "outputs": [
    {
     "data": {
      "text/plain": [
       "['a', 'b', 'c', 'd']"
      ]
     },
     "execution_count": 22,
     "metadata": {},
     "output_type": "execute_result"
    }
   ],
   "source": [
    "b = \"a:b:c:d\"\n",
    "b.split(':')"
   ]
  },
  {
   "cell_type": "markdown",
   "id": "407c57b7",
   "metadata": {},
   "source": [
    "#### 착각하기 쉬운 문자열 함수"
   ]
  },
  {
   "cell_type": "code",
   "execution_count": 23,
   "id": "ecf69e6e",
   "metadata": {},
   "outputs": [
    {
     "data": {
      "text/plain": [
       "'HI'"
      ]
     },
     "execution_count": 23,
     "metadata": {},
     "output_type": "execute_result"
    }
   ],
   "source": [
    "a = 'hi'\n",
    "a.upper()"
   ]
  },
  {
   "cell_type": "code",
   "execution_count": 24,
   "id": "c9ff9590",
   "metadata": {},
   "outputs": [
    {
     "name": "stdout",
     "output_type": "stream",
     "text": [
      "hi\n"
     ]
    }
   ],
   "source": [
    "print(a)"
   ]
  },
  {
   "cell_type": "markdown",
   "id": "8f2d9a3a",
   "metadata": {},
   "source": [
    "a.upper()를 수행하더라도 a 변수의 값은 변하지 않았다.\n",
    "\n",
    "왜냐하면 a.upper()를 실행하면 upper 함수는 a 변수의 값 자체를 변경하는 것이 아니라 대문자로 바꾼 값을 리턴하기 때문이다.\n",
    "\n",
    "문자열은 이전에도 잠깐 언급했지만 자체의 값을 변경할 수 없는 `immutable 자료형`이다. \n",
    "\n",
    "따라서 a 값을 'HI' 로 바꾸고 싶다면 다음과 같이 대입문을 사용해야 한다."
   ]
  },
  {
   "cell_type": "code",
   "execution_count": 25,
   "id": "0675a794",
   "metadata": {},
   "outputs": [
    {
     "name": "stdout",
     "output_type": "stream",
     "text": [
      "HI\n"
     ]
    }
   ],
   "source": [
    "a = a.upper()\n",
    "print(a)"
   ]
  },
  {
   "cell_type": "markdown",
   "id": "453d9305",
   "metadata": {},
   "source": [
    "# 참고문헌\n",
    "점프투 파이썬 from Wididocs"
   ]
  }
 ],
 "metadata": {
  "kernelspec": {
   "display_name": "Python 3 (ipykernel)",
   "language": "python",
   "name": "python3"
  },
  "language_info": {
   "codemirror_mode": {
    "name": "ipython",
    "version": 3
   },
   "file_extension": ".py",
   "mimetype": "text/x-python",
   "name": "python",
   "nbconvert_exporter": "python",
   "pygments_lexer": "ipython3",
   "version": "3.12.1"
  }
 },
 "nbformat": 4,
 "nbformat_minor": 5
}
