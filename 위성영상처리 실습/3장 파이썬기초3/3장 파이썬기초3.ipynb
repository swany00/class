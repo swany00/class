{
 "cells": [
  {
   "cell_type": "markdown",
   "id": "a2b2e1ac",
   "metadata": {},
   "source": [
    "# 제3장. 파이썬 기초 III\n",
    "이번 실습에서는 프로그램 구조문에 대한 기초에 대해서 학습 할 예정이다. 위성자료 및 지구환경과학 데이터 프로그램 코딩에 필수적으로 사용되는 과정이다.\n",
    "\n",
    "### 강의자료를 VScode로 실행해보는법\n",
    "1. [미리 만들어놓은 강의자료 Github 링크](https://github.com/jongminyeom/python_lecture/) 에서 강의자료는 다운로드 한다. \n",
    "2. Visual Studio Code를 실행한다. \n",
    "3. 파일 열기 혹은 소스코드 드레그 인을 통해 코딩 파일을 연다.\n",
    "4. 코딩 파일을 수행한다. \n",
    "\n",
    "### 이 문서를 구글 Colab에서 쉽게 실행해보는 방법은\n",
    "1. [미리 만들어놓은 Colab 링크](https://colab.research.google.com/drive/1GBdjTSbSx8dCYS_QYfhGbj-Q_HG2EQO9#scrollTo=a2b2e1ac)를 눌러 본 .ipynb 파일을 구글 Colab에서 바로 열 수 있다. 이때 구글에 로그인을 해야 한다.\n",
    "2. 아무 셀이나 선택한 후 Ctrl+Enter를 눌러 실행해보면 [경고: 이 노트는 Google에서 작성하지 않았습니다]라고 뜨는데 실행 전에 모든 런타임 재설정을 선택한 채로 무시하고 계속하기를 눌러준다.\n",
    "3. `모든 런타임 재설정` 이 뜰 텐데 예를 눌러준다.\n",
    "4. 잠시 구글 서버의 배치가 되면서 우상단에 연결중 -> 초기화중 -> 연결됨이 뜨면서 실행이 가능한 상태가 된다.\n",
    "\n",
    "### 구글 Colab에서 실습후 저장하는법\n",
    "**쉽게 실행보는법**을 따라왔다면 Colab에서 임시 노트북으로 열리기 때문에 파일->드라이브로 저장을 눌러서 여러분의 구글 드라이브에 저장하거나 파일 -> .ipynb 다운로드를 눌러서 다운로드 해준다.\n",
    "  \n"
   ]
  },
  {
   "cell_type": "markdown",
   "id": "847c9589",
   "metadata": {},
   "source": [
    "# 파이썬 프로그램의 구조: 제어문"
   ]
  },
  {
   "cell_type": "markdown",
   "id": "5d7172a0",
   "metadata": {},
   "source": [
    "### if 문\n",
    "#### if 문은 왜 필요할까?\n",
    "‘돈이 있으면 택시를 타고 가고, 돈이 없으면 걸어간다.’<br>\n",
    "프로그래밍에서 조건을 판단하여 해당 조건에 맞는 상황을 수행하는 데 쓰는 것이 바로 if 문이다.<br>\n",
    "파이썬에서는 위와 같은 상황을 다음과 같이 표현할 수 있다."
   ]
  },
  {
   "cell_type": "code",
   "execution_count": 2,
   "id": "405da3a9",
   "metadata": {},
   "outputs": [
    {
     "name": "stdout",
     "output_type": "stream",
     "text": [
      "택시를 타고 가라\n"
     ]
    }
   ],
   "source": [
    "money = True\n",
    "if money:\n",
    "    print(\"택시를 타고 가라\")\n",
    "else:\n",
    "    print(\"걸어 가라\")"
   ]
  },
  {
   "cell_type": "markdown",
   "id": "5898d399",
   "metadata": {},
   "source": [
    "money에 `True`를 대입했으므로 money는 `참`이다. \n",
    "\n",
    "따라서 if 문 다음 문장이 수행되어 `택시를 타고 가라`가 출력된다.\n",
    "\n",
    "다음 순서도는 ‘택시를 타고 가라’라는 문장이 출력되는 과정을 보여 준다. \n",
    "\n",
    "이렇게 프로그램 실행 과정을 순서도로 그려 보면 훨씬 이해하기 쉽다."
   ]
  },
  {
   "cell_type": "markdown",
   "id": "efc286ec",
   "metadata": {},
   "source": [
    "<img src=\"03_1_if1.png\" alt=\"대체_텍스트\" width=\"700\" height=\"500\">"
   ]
  },
  {
   "cell_type": "markdown",
   "id": "82c0818a",
   "metadata": {},
   "source": [
    "### if 문의 기본 구조"
   ]
  },
  {
   "cell_type": "markdown",
   "id": "650f4102",
   "metadata": {},
   "source": [
    "다음은 `if`와 `else`를 사용한 조건문의 기본 구조이다."
   ]
  },
  {
   "cell_type": "code",
   "execution_count": null,
   "id": "fcf8a8f3",
   "metadata": {},
   "outputs": [],
   "source": [
    "if 조건문:\n",
    "    수행할_문장1\n",
    "    수행할_문장2\n",
    "    ...\n",
    "else:\n",
    "    수행할_문장A\n",
    "    수행할_문장B\n",
    "    ..."
   ]
  },
  {
   "cell_type": "markdown",
   "id": "f5d44ae9",
   "metadata": {},
   "source": [
    "조건문을 테스트해서 참이면 if 문 바로 다음 문장(if 블록)들을 수행하고\n",
    "\n",
    "조건문이 거짓이면 else 문 다음 문장(else 블록)들을 수행하게 된다.\n",
    "\n",
    "따라서 else 문은 if 문 없이 독립적으로 사용할 수 없다."
   ]
  },
  {
   "cell_type": "markdown",
   "id": "6644e4a9",
   "metadata": {},
   "source": [
    "### 들여쓰기(`indetation`) 방법 알아보기"
   ]
  },
  {
   "cell_type": "markdown",
   "id": "08ff9b5d",
   "metadata": {},
   "source": [
    "if 문을 만들 때는 if 조건문: 바로 다음 문장부터 if 문에 속하는 모든 문장에 `들여쓰기(indentation)`를 해야 한다.\n",
    "\n",
    "다음 예를 보면 조건문이 참일 경우 ‘수행할_문장1’을 들여쓰기했고 ‘수행할_문장2’와 ‘수행할_문장3’도 들여쓰기했다.\n",
    "\n",
    "다른 프로그래밍 언어를 사용해 온 사람들은 파이썬에서 ‘수행할_문장’을 들여쓰기하는 것을 무시하는 경우가 많으므로 더 주의해야 한다.\n",
    "\n",
    "다른 프로그램에서는 조건문이 끝나는 시점에 대한  Close를 수행한다."
   ]
  },
  {
   "cell_type": "code",
   "execution_count": null,
   "id": "252eaac2",
   "metadata": {},
   "outputs": [],
   "source": [
    "if 조건문:\n",
    "    수행할_문장1\n",
    "    수행할_문장2\n",
    "    수행할_문장3"
   ]
  },
  {
   "cell_type": "markdown",
   "id": "12251e85",
   "metadata": {},
   "source": [
    "다음처럼 작성하면 오류가 발생한다. ‘수행할_문장2’를 들여쓰기하지 않았기 때문이다."
   ]
  },
  {
   "cell_type": "code",
   "execution_count": null,
   "id": "64283a7f",
   "metadata": {},
   "outputs": [],
   "source": [
    "if 조건문:\n",
    "    수행할_문장1\n",
    "수행할_문장2\n",
    "    수행할_문장3"
   ]
  },
  {
   "cell_type": "code",
   "execution_count": 6,
   "id": "f16d4169",
   "metadata": {},
   "outputs": [
    {
     "ename": "IndentationError",
     "evalue": "unexpected indent (1841204671.py, line 5)",
     "output_type": "error",
     "traceback": [
      "\u001b[0;36m  Cell \u001b[0;32mIn[6], line 5\u001b[0;36m\u001b[0m\n\u001b[0;31m    print(\"가라\")\u001b[0m\n\u001b[0m    ^\u001b[0m\n\u001b[0;31mIndentationError\u001b[0m\u001b[0;31m:\u001b[0m unexpected indent\n"
     ]
    }
   ],
   "source": [
    "money = True\n",
    "if money:\n",
    "    print(\"택시를\")\n",
    "print(\"타고\")\n",
    "    print(\"가라\")"
   ]
  },
  {
   "cell_type": "markdown",
   "id": "1fb8e146",
   "metadata": {},
   "source": [
    "다음과 같은 경우에도 오류가 발생한다.\n",
    "\n",
    "‘수행할_문장3’을 들여쓰기했지만, ‘수행할_문장1’이나 ‘수행할_문장2’와 들여쓰기의 깊이가 다르다.\n",
    "\n",
    "즉, 들여쓰기는 언제나 같은 깊이로 해야 한다.\n",
    "\n",
    "`일반적으로 tab이나 4 space 로 구분`\n",
    "\n",
    "요즘 파이썬 커뮤니티에서는 들여쓰기를 할 때 **공백 문자 4개를 사용하는 것을 권장한다.**\n",
    "\n",
    "**또한 파이썬 에디터는 대부분 탭 문자로 들여쓰기를 하더라도 탭 문자를 공백 문자 4개로 자동 변환하는 기능을 갖추고 있다.**"
   ]
  },
  {
   "cell_type": "code",
   "execution_count": 2,
   "id": "a6a577e3",
   "metadata": {},
   "outputs": [
    {
     "ename": "IndentationError",
     "evalue": "unexpected indent (73570325.py, line 5)",
     "output_type": "error",
     "traceback": [
      "\u001b[1;36m  Cell \u001b[1;32mIn[2], line 5\u001b[1;36m\u001b[0m\n\u001b[1;33m    print(\"가라\")\u001b[0m\n\u001b[1;37m    ^\u001b[0m\n\u001b[1;31mIndentationError\u001b[0m\u001b[1;31m:\u001b[0m unexpected indent\n"
     ]
    }
   ],
   "source": [
    "money = True\n",
    "if money:\n",
    "    print(\"택시를\")\n",
    "    print(\"타고\")\n",
    "        print(\"가라\")"
   ]
  },
  {
   "cell_type": "markdown",
   "id": "50fc5a1d",
   "metadata": {},
   "source": [
    "### 조건문 다음에 콜론(:)을 잊지 말자!\n",
    "if 조건문 뒤에는 반드시 콜론(:)이 붙는다.\n",
    "\n",
    "어떤 특별한 의미가 있다기보다는 파이썬의 문법 구조이다.\n",
    "\n",
    "앞으로 배울 while이나 for, def, class도 역시 문장의 끝에 콜론(:)이 항상 들어간다.\n",
    "    \n",
    "초보자들은 이 콜론(:)을 빠뜨리는 경우가 많으므로 특히 주의하자."
   ]
  },
  {
   "cell_type": "markdown",
   "id": "a0f08cb4",
   "metadata": {},
   "source": [
    "#### 조건문이란 무엇인가?\n",
    "if 조건문에서 ‘조건문’이란 참과 거짓을 판단하는 문장을 말한다.\n",
    "\n",
    "앞에서 살펴본 택시 예제에서 조건문은 money가 된다.\n"
   ]
  },
  {
   "cell_type": "code",
   "execution_count": 8,
   "id": "4d063099",
   "metadata": {},
   "outputs": [
    {
     "name": "stdout",
     "output_type": "stream",
     "text": [
      "ture\n"
     ]
    }
   ],
   "source": [
    "money = True\n",
    "if money:\n",
    "    print('ture')"
   ]
  },
  {
   "cell_type": "code",
   "execution_count": 14,
   "id": "faf7d387",
   "metadata": {},
   "outputs": [
    {
     "name": "stdout",
     "output_type": "stream",
     "text": [
      "False\n"
     ]
    }
   ],
   "source": [
    "money = True\n",
    "if money:\n",
    "    print('False')"
   ]
  },
  {
   "cell_type": "markdown",
   "id": "7208514d",
   "metadata": {},
   "source": [
    "money는 True이기 때문에 조건이 참이 되어 if 문 다음 문장을 수행한다."
   ]
  },
  {
   "cell_type": "markdown",
   "id": "b7a61b8f",
   "metadata": {},
   "source": [
    "#### 비교 연산자\n",
    "\n",
    "이번에는 조건문에 `비교 연산자(<, >, ==, !=, >=, <=)`를 쓰는 방법에 대해 알아보자.\n",
    "\n",
    "다음 표는 비교 연산자를 잘 설명해 준다."
   ]
  },
  {
   "cell_type": "markdown",
   "id": "401cb228",
   "metadata": {},
   "source": [
    "|비교연산자|\t설명|\n",
    "|---|---|\n",
    "|x < y|\tx가 y보다 작다.|\n",
    "|x > y|\tx가 y보다 크다.|\n",
    "|x == y|\tx와 y가 같다.|\n",
    "|x != y|\tx와 y가 같지 않다.|\n",
    "|x >= y|\tx가 y보다 크거나 같다.|\n",
    "|x <= y|\tx가 y보다 작거나 같다.|"
   ]
  },
  {
   "cell_type": "markdown",
   "id": "fe9c52fe",
   "metadata": {},
   "source": [
    "이제 이 연산자를 어떻게 사용하는지 알아보자."
   ]
  },
  {
   "cell_type": "code",
   "execution_count": 3,
   "id": "f0944cd6",
   "metadata": {},
   "outputs": [
    {
     "data": {
      "text/plain": [
       "True"
      ]
     },
     "execution_count": 3,
     "metadata": {},
     "output_type": "execute_result"
    }
   ],
   "source": [
    "x = 3\n",
    "y = 2\n",
    "x > y"
   ]
  },
  {
   "cell_type": "code",
   "execution_count": 7,
   "id": "b0699109",
   "metadata": {},
   "outputs": [
    {
     "ename": "SyntaxError",
     "evalue": "invalid syntax (501582185.py, line 1)",
     "output_type": "error",
     "traceback": [
      "\u001b[1;36m  Cell \u001b[1;32mIn[7], line 1\u001b[1;36m\u001b[0m\n\u001b[1;33m    x < y ?\u001b[0m\n\u001b[1;37m          ^\u001b[0m\n\u001b[1;31mSyntaxError\u001b[0m\u001b[1;31m:\u001b[0m invalid syntax\n"
     ]
    }
   ],
   "source": [
    "x < y ?"
   ]
  },
  {
   "cell_type": "code",
   "execution_count": null,
   "id": "60eea221",
   "metadata": {},
   "outputs": [],
   "source": [
    "x == y"
   ]
  },
  {
   "cell_type": "code",
   "execution_count": 4,
   "id": "3100dbd4",
   "metadata": {},
   "outputs": [
    {
     "data": {
      "text/plain": [
       "True"
      ]
     },
     "execution_count": 4,
     "metadata": {},
     "output_type": "execute_result"
    }
   ],
   "source": [
    "x != y"
   ]
  },
  {
   "cell_type": "markdown",
   "id": "77b828c8",
   "metadata": {},
   "source": [
    "x와 y는 같지 않다.\n",
    "\n",
    "따라서 위 조건문은 참이므로 True를 리턴한다.\n",
    "\n",
    "사용법을 알아봤으므로 이제 응용해 보자. 앞에서 살펴본 택시 예제를 다음처럼 바꾸려면 어떻게 해야 할까?"
   ]
  },
  {
   "cell_type": "markdown",
   "id": "79d43b84",
   "metadata": {},
   "source": [
    "Q1. `만약 3000원 이상의 돈을 가지고 있으면 택시를 타고 가고, 그렇지 않으면 걸어가라.`"
   ]
  },
  {
   "cell_type": "code",
   "execution_count": 33,
   "id": "fc99fc23",
   "metadata": {},
   "outputs": [
    {
     "name": "stdout",
     "output_type": "stream",
     "text": [
      "걸어가라!! ☞☞\n"
     ]
    }
   ],
   "source": [
    "# 문제를 직접 풀어 보세요. \n",
    "money = 2800\n",
    "if money >= 3000:\n",
    "    print(\"택시를 타고 가라\")\n",
    "\n",
    "else:\n",
    "    print('걸어가라!! ☞☞')"
   ]
  },
  {
   "cell_type": "code",
   "execution_count": 42,
   "id": "6d936782",
   "metadata": {},
   "outputs": [
    {
     "name": "stdout",
     "output_type": "stream",
     "text": [
      "택시를 타고 가라 ☎\n"
     ]
    }
   ],
   "source": [
    "money = 10000\n",
    "if money >=3000:\n",
    "    print(\"택시를 타고 가라 ☎\")\n",
    "else:\n",
    "    print(\"걸어가라\")"
   ]
  },
  {
   "cell_type": "markdown",
   "id": "5015deb3",
   "metadata": {},
   "source": [
    "### and, or, not"
   ]
  },
  {
   "cell_type": "markdown",
   "id": "1b65daf9",
   "metadata": {},
   "source": [
    "조건을 판단하기 위해 사용하는 다른 연산자로는 `and, or, not`이 있다.\n",
    "\n",
    "각각의 연산자는 다음처럼 동작한다."
   ]
  },
  {
   "cell_type": "markdown",
   "id": "172f6543",
   "metadata": {},
   "source": [
    "|연산자|\t설명|\n",
    "|---|---|\n",
    "|x or y|\tx와 y 둘 중 하나만 참이어도 참이다.|\n",
    "|x and y|\tx와 y 모두 참이어야 참이다.|\n",
    "|not x|\tx가 거짓이면 참이다.|"
   ]
  },
  {
   "cell_type": "markdown",
   "id": "6d287120",
   "metadata": {},
   "source": [
    "다음 예를 통해 or 연산자의 사용법을 알아보자."
   ]
  },
  {
   "cell_type": "markdown",
   "id": "d71a9b1d",
   "metadata": {},
   "source": [
    "Q2. '돈이 3000원 이상 있거나 카드가 있다면 택시를 타고 가고, 그렇지 않으면 걸어가라.'"
   ]
  },
  {
   "cell_type": "code",
   "execution_count": 46,
   "id": "5f90a864",
   "metadata": {},
   "outputs": [
    {
     "name": "stdout",
     "output_type": "stream",
     "text": [
      "돈도 없는데 걸어가자\n"
     ]
    }
   ],
   "source": [
    "money = 2000\n",
    "card = True\n",
    "\n",
    "\n",
    "if money > 3000 and card == True:\n",
    "    print('돈이 많으니깐 택시타자')\n",
    "else:\n",
    "    print('돈도 없는데 걸어가자')"
   ]
  },
  {
   "cell_type": "code",
   "execution_count": 49,
   "id": "5ee1b37c",
   "metadata": {},
   "outputs": [
    {
     "name": "stdout",
     "output_type": "stream",
     "text": [
      "카카오택시 불러 ☏\n"
     ]
    }
   ],
   "source": [
    "if money >3000 or card ==True:\n",
    "    print('카카오택시 불러 ☏')\n",
    "else:\n",
    "    print('살도 빼야되는데 걸어가자')"
   ]
  },
  {
   "cell_type": "code",
   "execution_count": 51,
   "id": "51fb195d",
   "metadata": {},
   "outputs": [
    {
     "name": "stdout",
     "output_type": "stream",
     "text": [
      "뛰어가라\n"
     ]
    }
   ],
   "source": [
    "if not money >3000 or not card == True:\n",
    "    print('뛰어가라')\n",
    "else:\n",
    "    print('택시타라')"
   ]
  },
  {
   "cell_type": "markdown",
   "id": "20773839",
   "metadata": {},
   "source": [
    "### in, not in"
   ]
  },
  {
   "cell_type": "markdown",
   "id": "43d7cdef",
   "metadata": {},
   "source": [
    "파이썬은 다른 프로그래밍 언어에서 쉽게 볼 수 없는 `재미있는 조건문`도 제공한다.\n",
    "\n",
    "바로 다음과 같은 것들이다."
   ]
  },
  {
   "cell_type": "markdown",
   "id": "160d9dba",
   "metadata": {},
   "source": [
    "|in|\tnot in|\n",
    "|---|---|\n",
    "|x in 리스트|\tx not in 리스트|\n",
    "|x in 튜플|\tx not in 튜플|\n",
    "|x in 문자열|\tx not in 문자열|"
   ]
  },
  {
   "cell_type": "markdown",
   "id": "26c8859c",
   "metadata": {},
   "source": [
    "영어 단어 in의 뜻이 ‘~안에’라는 것을 생각해 보면 다음 예가 쉽게 이해될 것이다."
   ]
  },
  {
   "cell_type": "code",
   "execution_count": 52,
   "id": "6eb2bb3d",
   "metadata": {},
   "outputs": [
    {
     "data": {
      "text/plain": [
       "True"
      ]
     },
     "execution_count": 52,
     "metadata": {},
     "output_type": "execute_result"
    }
   ],
   "source": [
    "1 in [1, 2, 3]"
   ]
  },
  {
   "cell_type": "code",
   "execution_count": 53,
   "id": "3074e428",
   "metadata": {},
   "outputs": [
    {
     "data": {
      "text/plain": [
       "False"
      ]
     },
     "execution_count": 53,
     "metadata": {},
     "output_type": "execute_result"
    }
   ],
   "source": [
    "1 not in [1, 2, 3]"
   ]
  },
  {
   "cell_type": "code",
   "execution_count": 56,
   "id": "288dc46f",
   "metadata": {},
   "outputs": [
    {
     "data": {
      "text/plain": [
       "True"
      ]
     },
     "execution_count": 56,
     "metadata": {},
     "output_type": "execute_result"
    }
   ],
   "source": [
    "'1' in 'tnghks1'"
   ]
  },
  {
   "cell_type": "markdown",
   "id": "4245181a",
   "metadata": {},
   "source": [
    "다음은 튜플과 문자열에 in과 not in을 적용한 예이다.\n",
    "\n",
    "각각의 결과가 나온 이유는 쉽게 유추할 수 있다."
   ]
  },
  {
   "cell_type": "code",
   "execution_count": 18,
   "id": "c3b8f33e",
   "metadata": {},
   "outputs": [
    {
     "data": {
      "text/plain": [
       "True"
      ]
     },
     "execution_count": 18,
     "metadata": {},
     "output_type": "execute_result"
    }
   ],
   "source": [
    "'a' in ('a', 'b', 'c')"
   ]
  },
  {
   "cell_type": "code",
   "execution_count": 19,
   "id": "3d6648c2",
   "metadata": {},
   "outputs": [
    {
     "data": {
      "text/plain": [
       "True"
      ]
     },
     "execution_count": 19,
     "metadata": {},
     "output_type": "execute_result"
    }
   ],
   "source": [
    "'j' not in 'python'"
   ]
  },
  {
   "cell_type": "code",
   "execution_count": null,
   "id": "a8bfdfd0",
   "metadata": {},
   "outputs": [],
   "source": [
    "Q3. '만약 주머니에 돈이 있으면 택시를 타고 가고, 없으면 걸어가라.'"
   ]
  },
  {
   "cell_type": "code",
   "execution_count": 3,
   "id": "898fb613",
   "metadata": {},
   "outputs": [
    {
     "name": "stdout",
     "output_type": "stream",
     "text": [
      "택시를 타고 가라\n"
     ]
    }
   ],
   "source": [
    "pocket = ['paper', 'cellphone', 'money']\n",
    "\n",
    "if 'money' in pocket:\n",
    "    print('택시를 타고 가라')\n",
    "else:\n",
    "    print('걸어가라')\n"
   ]
  },
  {
   "cell_type": "markdown",
   "id": "30b3a9d1",
   "metadata": {},
   "source": [
    "['paper', 'cellphone', 'money'] 리스트 안에 'money'가 있으므로 'money' in pocket은 참이 된다.\n",
    "\n",
    "따라서 if 문에 속한 문장이 수행된다."
   ]
  },
  {
   "cell_type": "markdown",
   "id": "f6f24f99",
   "metadata": {},
   "source": [
    "#### 조건문에서 아무 일도 하지 않게 설정하고 싶다면?\n",
    "가끔 조건문의 참, 거짓에 따라 실행할 행동을 정의할 때나 아무런 일도 하지 않도록 설정하고 싶을 때가 있다.\n",
    "\n",
    "다음 예를 살펴 보자."
   ]
  },
  {
   "cell_type": "code",
   "execution_count": 20,
   "id": "574b50c9",
   "metadata": {},
   "outputs": [],
   "source": [
    "pocket = ['paper', 'money', 'cellphone']\n",
    "if 'money' in pocket:\n",
    "    pass \n",
    "else:\n",
    "    print(\"카드를 꺼내라\")"
   ]
  },
  {
   "cell_type": "markdown",
   "id": "4d4fd3ed",
   "metadata": {},
   "source": [
    "pocket 리스트 안에 money 문자열이 있기 때문에 if 문 다음 문장인 pass가 수행되고 아무런 결과값도 보여 주지 않는다."
   ]
  },
  {
   "cell_type": "markdown",
   "id": "cef26bc5",
   "metadata": {},
   "source": [
    "### 다양한 조건을 판단하는 elif"
   ]
  },
  {
   "cell_type": "markdown",
   "id": "91306d5e",
   "metadata": {},
   "source": [
    "if와 else만으로는 `다양한(여러) 조건`을 판단하기 어렵다.\n",
    "\n",
    "다음 예를 보더라도 if와 else만으로는 조건을 판단하는 데 어려움을 겪게 된다는 것을 알 수 있다."
   ]
  },
  {
   "cell_type": "markdown",
   "id": "315456c4",
   "metadata": {},
   "source": [
    "'주머니에 돈이 있으면 택시를 타고 가고, 주머니에 돈은 없지만 카드가 있으면 택시를 타고 가고, 돈도 없고 카드도 없으면 걸어가라.'"
   ]
  },
  {
   "cell_type": "code",
   "execution_count": 24,
   "id": "2e943ec3",
   "metadata": {},
   "outputs": [
    {
     "name": "stdout",
     "output_type": "stream",
     "text": [
      "카드를 가지고 택시를 타고 가라\n"
     ]
    }
   ],
   "source": [
    "pocket = ['paper', 'cellphone']\n",
    "card = True\n",
    "if 'money' in pocket:\n",
    "    print('택시를 타고가라')\n",
    "else:\n",
    "    if card:\n",
    "        print('카드를 가지고 택시를 타고 가라')\n",
    "    else:\n",
    "        print('걸어가라ㅜㅜ')\n",
    "        \n"
   ]
  },
  {
   "cell_type": "code",
   "execution_count": 11,
   "id": "191ef44d",
   "metadata": {},
   "outputs": [
    {
     "name": "stdout",
     "output_type": "stream",
     "text": [
      "택시를 타고가라\n"
     ]
    }
   ],
   "source": [
    "pocket = ['paper', 'cellphone']\n",
    "card = True\n",
    "if 'money' in pocket:\n",
    "    print(\"택시를 타고가라\")\n",
    "elif card: \n",
    "    print(\"택시를 타고가라\")\n",
    "else:\n",
    "    print(\"걸어가라\")"
   ]
  },
  {
   "cell_type": "markdown",
   "id": "ffc22069",
   "metadata": {},
   "source": [
    "즉, elif는 이전 조건문이 거짓일 때 수행된다.\n",
    "\n",
    "if, elif, else를 모두 사용할 때 기본 구조는 다음과 같다."
   ]
  },
  {
   "cell_type": "code",
   "execution_count": null,
   "id": "d2097093",
   "metadata": {},
   "outputs": [],
   "source": [
    "if 조건문:\n",
    "    수행할_문장1 \n",
    "    수행할_문장2\n",
    "    ...\n",
    "elif 조건문:\n",
    "    수행할_문장1\n",
    "    수행할_문장2\n",
    "    ...\n",
    "elif 조건문:\n",
    "    수행할_문장1\n",
    "    수행할_문장2\n",
    "    ...\n",
    "...\n",
    "else:\n",
    "   수행할_문장1\n",
    "   수행할_문장2\n",
    "   ... "
   ]
  },
  {
   "cell_type": "markdown",
   "id": "bdd4937f",
   "metadata": {},
   "source": [
    "<img src=\"03_1_if3.png\" alt=\"대체_텍스트\" width=\"900\" height=\"500\">"
   ]
  },
  {
   "cell_type": "markdown",
   "id": "4702b588",
   "metadata": {},
   "source": [
    "### if 문을 한 줄로 작성하기\n",
    "앞의 pass를 사용한 예를 보면 if 문 다음에 수행할 문장이 한 줄이고 else 문 다음에 수행할 문장도 한 줄밖에 되지 않는다."
   ]
  },
  {
   "cell_type": "code",
   "execution_count": 12,
   "id": "b3c65374",
   "metadata": {},
   "outputs": [
    {
     "name": "stdout",
     "output_type": "stream",
     "text": [
      "카드를 꺼내라\n"
     ]
    }
   ],
   "source": [
    "if 'money' in pocket:\n",
    "    pass \n",
    "else:\n",
    "    print(\"카드를 꺼내라\")"
   ]
  },
  {
   "cell_type": "code",
   "execution_count": 28,
   "id": "776bf55f",
   "metadata": {},
   "outputs": [
    {
     "name": "stdout",
     "output_type": "stream",
     "text": [
      "카드를 꺼내라\n"
     ]
    }
   ],
   "source": [
    "if 'money' in pocket:  pass \n",
    "else: print(\"카드를 꺼내라\")"
   ]
  },
  {
   "cell_type": "markdown",
   "id": "57906b4d",
   "metadata": {},
   "source": [
    "### 조건부 표현식\n",
    "다음 코드를 살펴보자.\n",
    "\n",
    "score가 60 이상일 경우 message에 문자열 \"success\", 아닐 경우에는 문자열 \"failure\"를 대입하는 코드이다."
   ]
  },
  {
   "cell_type": "code",
   "execution_count": 32,
   "id": "a774a1c8",
   "metadata": {},
   "outputs": [],
   "source": [
    "score= 70\n",
    "if score >= 60:\n",
    "    message = \"success\"\n",
    "else:\n",
    "    message = \"failure\""
   ]
  },
  {
   "cell_type": "markdown",
   "id": "768840e4",
   "metadata": {},
   "source": [
    "파이썬의 `조건부 표현식(conditional expression)`을 사용하면 위 코드를 다음과 같이 간단히 표현할 수 있다."
   ]
  },
  {
   "cell_type": "code",
   "execution_count": 34,
   "id": "7fec331e",
   "metadata": {},
   "outputs": [
    {
     "data": {
      "text/plain": [
       "'success'"
      ]
     },
     "execution_count": 34,
     "metadata": {},
     "output_type": "execute_result"
    }
   ],
   "source": [
    "message = \"success\" if score >= 60 else \"failure\"\n",
    "message"
   ]
  },
  {
   "cell_type": "markdown",
   "id": "24222434",
   "metadata": {},
   "source": [
    "**조건부 표현식은 다음과 같이 정의한다.**"
   ]
  },
  {
   "cell_type": "markdown",
   "id": "7d83a327",
   "metadata": {},
   "source": [
    "변수 = **`조건문이_참인_경우의_값`** if **`조건문`** else **`조건문이_거짓인_경우의_값`**"
   ]
  },
  {
   "cell_type": "markdown",
   "id": "8383324d",
   "metadata": {},
   "source": [
    "조건부 표현식은 가독성에 유리하고 한 줄로 작성할 수 있어 활용성이 좋다."
   ]
  },
  {
   "cell_type": "markdown",
   "id": "3af9fbd0",
   "metadata": {},
   "source": [
    "## while문\n",
    "문장을 반복해서 수행해야 할 경우 while 문을 사용한다.\n",
    "\n",
    "그래서 while 문을 `반복문`이라고도 부른다."
   ]
  },
  {
   "cell_type": "markdown",
   "id": "e32d9e0c",
   "metadata": {},
   "source": [
    "### while 문의 기본 구조\n",
    "다음은 while 문의 기본 구조이다.\n"
   ]
  },
  {
   "cell_type": "code",
   "execution_count": null,
   "id": "7ae86cfc",
   "metadata": {},
   "outputs": [],
   "source": [
    "while 조건문:\n",
    "    수행할_문장1\n",
    "    수행할_문장2\n",
    "    수행할_문장3\n",
    "    ..."
   ]
  },
  {
   "cell_type": "markdown",
   "id": "b76534dc",
   "metadata": {},
   "source": [
    "while 문은 조건문이 참인 동안 while 문에 속한 문장들이 반복해서 수행된다.\n",
    "\n",
    "‘열 번 찍어 안 넘어가는 나무 없다’라는 속담을 파이썬 프로그램으로 만들면 다음과 같다."
   ]
  },
  {
   "cell_type": "code",
   "execution_count": 4,
   "id": "4dc9d2d9",
   "metadata": {},
   "outputs": [
    {
     "name": "stdout",
     "output_type": "stream",
     "text": [
      "나무를 1번 찍었습니다.\n",
      "나무를 2번 찍었습니다.\n",
      "나무를 3번 찍었습니다.\n",
      "나무를 4번 찍었습니다.\n",
      "나무를 5번 찍었습니다.\n",
      "나무를 6번 찍었습니다.\n",
      "나무를 7번 찍었습니다.\n",
      "나무를 8번 찍었습니다.\n",
      "나무를 9번 찍었습니다.\n",
      "나무를 10번 찍었습니다.\n",
      "나무 넘어갑니다.\n"
     ]
    }
   ],
   "source": [
    "treeHit = 0\n",
    "while treeHit < 10:\n",
    "    treeHit = treeHit + 1\n",
    "    print(\"나무를 %d번 찍었습니다.\" % treeHit)\n",
    "    if treeHit == 10:\n",
    "        print(\"나무 넘어갑니다.\")"
   ]
  },
  {
   "cell_type": "code",
   "execution_count": 11,
   "id": "1007f9f4",
   "metadata": {},
   "outputs": [
    {
     "name": "stdout",
     "output_type": "stream",
     "text": [
      "나무를 1번 찍었습니다.\n",
      "나무를 2번 찍었습니다.\n",
      "나무를 3번 찍었습니다.\n",
      "나무를 4번 찍었습니다.\n",
      "나무를 5번 찍었습니다.\n",
      "나무를 6번 찍었습니다.\n",
      "나무를 7번 찍었습니다.\n",
      "나무를 8번 찍었습니다.\n",
      "나무를 9번 찍었습니다.\n",
      "나무를 10번 찍었습니다.\n",
      "나무를 11번 찍었습니다.\n",
      "나무를 12번 찍었습니다.\n",
      "나무를 13번 찍었습니다.\n",
      "나무를 14번 찍었습니다.\n",
      "나무를 15번 찍었습니다.\n",
      "나무를 16번 찍었습니다.\n",
      "나무를 17번 찍었습니다.\n",
      "나무를 18번 찍었습니다.\n",
      "나무를 19번 찍었습니다.\n",
      "나무를 20번 찍었습니다.\n",
      "나무 넘어갑니다.\n"
     ]
    }
   ],
   "source": [
    "treeHit = 0\n",
    "while treeHit < 20:\n",
    "    treeHit = treeHit + 1\n",
    "    print(\"나무를 %d번 찍었습니다.\" % treeHit)\n",
    "    if treeHit == 20:\n",
    "        print(\"나무 넘어갑니다.\")"
   ]
  },
  {
   "cell_type": "markdown",
   "id": "c680839d",
   "metadata": {},
   "source": [
    "`treeHit = treeHit + 1`은 프로그래밍을 할 때 매우 자주 사용하는 기법이다.\n",
    "\n",
    "treeHit 값을 1만큼씩 증가시킬 목적으로 사용하며 `treeHit += 1`처럼 작성해도 된다."
   ]
  },
  {
   "cell_type": "markdown",
   "id": "9399b3e7",
   "metadata": {},
   "source": [
    "|treeHit|\t조건문|\t조건 판단|\t수행하는 문장|\twhile문|\n",
    "|---|---|---|---|---|\n",
    "|0|\t0 < 10|\t참|\t나무를 1번 찍었습니다.\t|반복|\n",
    "|1|\t1 < 10|\t참|\t나무를 2번 찍었습니다.\t|반복|\n",
    "|2|\t2 < 10|\t참|\t나무를 3번 찍었습니다.\t|반복|\n",
    "|3|\t3 < 10|\t참|\t나무를 4번 찍었습니다.\t|반복|\n",
    "|4|\t4 < 10|\t참|\t나무를 5번 찍었습니다.\t|반복|\n",
    "|5|\t5 < 10|\t참|\t나무를 6번 찍었습니다.\t|반복|\n",
    "|6|\t6 < 10|\t참|\t나무를 7번 찍었습니다.\t|반복|\n",
    "|7|\t7 < 10|\t참|\t나무를 8번 찍었습니다.\t|반복|\n",
    "|8|\t8 < 10|\t참|\t나무를 9번 찍었습니다.\t|반복|\n",
    "|9|\t9 < 10|\t참|\t나무를 10번 찍었습니다. 나무 넘어갑니다.\t|반복|\n",
    "|10|10 < 10|\t거짓|\t\t| 종료|"
   ]
  },
  {
   "cell_type": "markdown",
   "id": "27230df9",
   "metadata": {},
   "source": [
    "### while 문 만들기"
   ]
  },
  {
   "cell_type": "markdown",
   "id": "b2d5fcb6",
   "metadata": {},
   "source": [
    "이번에는 여러 가지 선택지 중 하나를 선택해서 입력받는 예제를 만들어 보자.\n",
    "\n",
    "먼저 다음과 같이 여러 줄짜리 문자열을 만들자."
   ]
  },
  {
   "cell_type": "code",
   "execution_count": 16,
   "id": "dea00a01",
   "metadata": {},
   "outputs": [],
   "source": [
    "prompt = \"\"\"\n",
    "1. Add\n",
    "2. Del\n",
    "3. List\n",
    "4. Quit\n",
    "\n",
    "Enter number: \"\"\""
   ]
  },
  {
   "cell_type": "code",
   "execution_count": 17,
   "id": "a9743741",
   "metadata": {},
   "outputs": [
    {
     "name": "stdout",
     "output_type": "stream",
     "text": [
      "\n",
      "1. Add\n",
      "2. Del\n",
      "3. List\n",
      "4. Quit\n",
      "\n",
      "Enter number: \n",
      "\n",
      "1. Add\n",
      "2. Del\n",
      "3. List\n",
      "4. Quit\n",
      "\n",
      "Enter number: \n",
      "\n",
      "1. Add\n",
      "2. Del\n",
      "3. List\n",
      "4. Quit\n",
      "\n",
      "Enter number: \n",
      "\n",
      "1. Add\n",
      "2. Del\n",
      "3. List\n",
      "4. Quit\n",
      "\n",
      "Enter number: \n"
     ]
    }
   ],
   "source": [
    "number = 0\n",
    "while number != 4:\n",
    "    print(prompt)\n",
    "    number = int(input())"
   ]
  },
  {
   "cell_type": "markdown",
   "id": "1e44af97",
   "metadata": {},
   "source": [
    "여기에서 number = `int(input())`는 사용자의 숫자 입력을 받아들이는 것이라고만 알아 두자.\n",
    "\n",
    "int나 input 함수에 대한 내용은 뒤에 나오는 내장함수 부분에서 자세하게 다룬다."
   ]
  },
  {
   "cell_type": "markdown",
   "id": "a14350db",
   "metadata": {},
   "source": [
    "### while 문 강제로 빠져나가기"
   ]
  },
  {
   "cell_type": "markdown",
   "id": "a65d1ab6",
   "metadata": {},
   "source": [
    "while 문은 조건문이 참인 동안 계속 while 문 안의 내용을 반복적으로 수행한다.\n",
    "\n",
    "하지만 강제로 while 문을 빠져나가고 싶을 때가 있다.\n",
    "\n",
    "예를 들어 커피 자판기를 생각해 보자. \n",
    "\n",
    "자판기 안에 커피가 충분히 있을 때 동전을 넣으면 커피가 나온다.\n",
    "\n",
    "그런데 자판기가 제대로 작동하려면 커피가 얼마나 남았는지 항상 검사해야 한다.\n",
    "\n",
    "만약 커피가 떨어졌다면 판매를 중단하고 ‘판매 중지’ 문구를 사용자에게 보여 주어야 한다.\n",
    "\n",
    "이렇게 판매를 강제로 멈추게 하는 것이 바로 `break` 문이다.\n",
    "\n"
   ]
  },
  {
   "cell_type": "markdown",
   "id": "7ff5d6ab",
   "metadata": {},
   "source": [
    "<img src=\"03_2_coffee.png\" alt=\"대체_텍스트\" width=\"500\" height=\"500\">\n"
   ]
  },
  {
   "cell_type": "code",
   "execution_count": 4,
   "id": "49d1013e",
   "metadata": {},
   "outputs": [
    {
     "name": "stdout",
     "output_type": "stream",
     "text": [
      "돈을 받았으니 커피를 줍니다.\n",
      "남은 커피의 양은 9개입니다.\n",
      "돈을 받았으니 커피를 줍니다.\n",
      "남은 커피의 양은 8개입니다.\n",
      "돈을 받았으니 커피를 줍니다.\n",
      "남은 커피의 양은 7개입니다.\n",
      "돈을 받았으니 커피를 줍니다.\n",
      "남은 커피의 양은 6개입니다.\n",
      "돈을 받았으니 커피를 줍니다.\n",
      "남은 커피의 양은 5개입니다.\n",
      "돈을 받았으니 커피를 줍니다.\n",
      "남은 커피의 양은 4개입니다.\n",
      "돈을 받았으니 커피를 줍니다.\n",
      "남은 커피의 양은 3개입니다.\n",
      "돈을 받았으니 커피를 줍니다.\n",
      "남은 커피의 양은 2개입니다.\n",
      "돈을 받았으니 커피를 줍니다.\n",
      "남은 커피의 양은 1개입니다.\n",
      "돈을 받았으니 커피를 줍니다.\n",
      "남은 커피의 양은 0개입니다.\n",
      "커피가 다 떨어졌습니다. 판매를 중지합니다.\n"
     ]
    }
   ],
   "source": [
    "coffee = 10\n",
    "money = 300\n",
    "while money: # 무한 루프\n",
    "    print(\"돈을 받았으니 커피를 줍니다.\")\n",
    "    coffee = coffee -1\n",
    "    print(\"남은 커피의 양은 %d개입니다.\" % coffee)\n",
    "    if coffee == 0:\n",
    "        print(\"커피가 다 떨어졌습니다. 판매를 중지합니다.\")\n",
    "        breaku"
   ]
  },
  {
   "cell_type": "code",
   "execution_count": 6,
   "id": "7e03c1e4",
   "metadata": {},
   "outputs": [
    {
     "name": "stdout",
     "output_type": "stream",
     "text": [
      "거스름돈 299999999999999999999999999700를 주고 커피를 줍니다.\n",
      "남은 커피의 양은 9개 입니다.\n",
      "거스름돈 9999999999999999999999999999999999999999999999999999999999999999999999700를 주고 커피를 줍니다.\n",
      "남은 커피의 양은 8개 입니다.\n"
     ]
    },
    {
     "ename": "ValueError",
     "evalue": "invalid literal for int() with base 10: ''",
     "output_type": "error",
     "traceback": [
      "\u001b[0;31m---------------------------------------------------------------------------\u001b[0m",
      "\u001b[0;31mValueError\u001b[0m                                Traceback (most recent call last)",
      "Cell \u001b[0;32mIn[6], line 3\u001b[0m\n\u001b[1;32m      1\u001b[0m coffee \u001b[38;5;241m=\u001b[39m \u001b[38;5;241m10\u001b[39m\n\u001b[1;32m      2\u001b[0m \u001b[38;5;28;01mwhile\u001b[39;00m \u001b[38;5;28;01mTrue\u001b[39;00m:\n\u001b[0;32m----> 3\u001b[0m     money \u001b[38;5;241m=\u001b[39m \u001b[38;5;28;43mint\u001b[39;49m\u001b[43m(\u001b[49m\u001b[38;5;28;43minput\u001b[39;49m\u001b[43m(\u001b[49m\u001b[38;5;124;43m\"\u001b[39;49m\u001b[38;5;124;43m돈을 넣어 주세요: \u001b[39;49m\u001b[38;5;124;43m\"\u001b[39;49m\u001b[43m)\u001b[49m\u001b[43m)\u001b[49m\n\u001b[1;32m      4\u001b[0m     \u001b[38;5;28;01mif\u001b[39;00m money \u001b[38;5;241m==\u001b[39m \u001b[38;5;241m300\u001b[39m:\n\u001b[1;32m      5\u001b[0m         \u001b[38;5;28mprint\u001b[39m(\u001b[38;5;124m\"\u001b[39m\u001b[38;5;124m커피를 줍니다.\u001b[39m\u001b[38;5;124m\"\u001b[39m)\n",
      "\u001b[0;31mValueError\u001b[0m: invalid literal for int() with base 10: ''"
     ]
    }
   ],
   "source": [
    "coffee = 10\n",
    "while True:\n",
    "    money = int(input(\"돈을 넣어 주세요: \"))\n",
    "    if money == 300:\n",
    "        print(\"커피를 줍니다.\")\n",
    "        coffee = coffee -1\n",
    "        print(\"남은 커피의 양은 %d개 입니다.\" % coffee)\n",
    "    elif money > 300:\n",
    "        print(\"거스름돈 %d를 주고 커피를 줍니다.\" % (money - 300))\n",
    "        coffee = coffee -1\n",
    "        print(\"남은 커피의 양은 %d개 입니다.\" % coffee)\n",
    "    else:\n",
    "        print(\"돈을 다시 돌려주고 커피를 주지 않습니다.\")\n",
    "        print(\"남은 커피의 양은 %d개 입니다.\" % coffee)\n",
    "    if coffee == 0:\n",
    "        print(\"커피가 다 떨어졌습니다. 판매를 중지 합니다.\")\n",
    "        break"
   ]
  },
  {
   "cell_type": "markdown",
   "id": "52fec986",
   "metadata": {},
   "source": [
    "### while 문의 맨 처음으로 돌아가기\n",
    "while 문 안의 문장을 수행할 때 입력 조건을 검사해서 조건에 맞지 않으면 while 문을 빠져나간다.\n",
    "\n",
    "그런데 프로그래밍을 하다 보면 while 문을 빠져나가지 않고 while 문의 맨 처음(조건문)으로 다시 돌아가게 만들고 싶은 경우가 생기게 된다. \n",
    "\n",
    "이때 사용하는 것이 바로 `continue문`이다."
   ]
  },
  {
   "cell_type": "markdown",
   "id": "4c3bf4de",
   "metadata": {},
   "source": [
    "1부터 10까지의 숫자 중에서 홀수만 출력하는 것을 while 문을 사용해서 작성한다고 생각해 보자.\n",
    "\n",
    "어떤 방법이 좋을까?"
   ]
  },
  {
   "cell_type": "code",
   "execution_count": 57,
   "id": "70e2a127",
   "metadata": {},
   "outputs": [
    {
     "name": "stdout",
     "output_type": "stream",
     "text": [
      "1\n",
      "3\n",
      "5\n",
      "7\n",
      "9\n"
     ]
    }
   ],
   "source": [
    "a = 0\n",
    "while a < 10:\n",
    "    a = a + 1\n",
    "    if a % 2 == 0: continue\n",
    "    print(a)"
   ]
  },
  {
   "cell_type": "code",
   "execution_count": 7,
   "id": "aa07b178",
   "metadata": {},
   "outputs": [
    {
     "name": "stdout",
     "output_type": "stream",
     "text": [
      "2\n",
      "4\n",
      "6\n",
      "8\n",
      "10\n",
      "12\n",
      "14\n",
      "16\n",
      "18\n",
      "20\n"
     ]
    }
   ],
   "source": [
    "a=0\n",
    "while a < 20:\n",
    "    a = a+1\n",
    "    if a % 2 != 0: continue\n",
    "    print(a)"
   ]
  },
  {
   "cell_type": "code",
   "execution_count": 13,
   "id": "91520c67",
   "metadata": {},
   "outputs": [
    {
     "name": "stdout",
     "output_type": "stream",
     "text": [
      "1\n",
      "2\n",
      "3\n",
      "4\n",
      "5\n",
      "6\n",
      "7\n",
      "8\n",
      "9\n",
      "10\n",
      "11\n",
      "12\n",
      "13\n",
      "14\n",
      "15\n",
      "16\n",
      "17\n",
      "18\n",
      "19\n",
      "20\n",
      "끝\n"
     ]
    }
   ],
   "source": [
    "a=0\n",
    "while a < 20:\n",
    "    a +=1\n",
    "    print(a) \n",
    "    if a != 20 : continue\n",
    "    print('끝')"
   ]
  },
  {
   "cell_type": "markdown",
   "id": "28f88b48",
   "metadata": {},
   "source": [
    "#### 무한 루프\n",
    "이번에는 `무한 루프(endless loop)`에 대해 알아보자.\n",
    "\n",
    "무한 루프란 무한히 반복한다는 의미이다.\n",
    "\n",
    "우리가 사용하는 일반 프로그램 중에서 무한 루프 개념을 사용하지 않는 프로그램은 거의 없다.\n",
    "\n",
    "그만큼 자주 사용한다는 뜻이다.\n",
    "\n",
    "파이썬에서 무한 루프는 while 문으로 구현할 수 있다.\n",
    "\n",
    "다음은 무한 루프의 기본 형태이다.\n"
   ]
  },
  {
   "cell_type": "code",
   "execution_count": null,
   "id": "64840d37",
   "metadata": {},
   "outputs": [],
   "source": [
    "while True: \n",
    "    수행할_문장1 \n",
    "    수행할_문장2\n",
    "    ..."
   ]
  },
  {
   "cell_type": "markdown",
   "id": "1414d966",
   "metadata": {},
   "source": [
    "## for문\n",
    "파이썬의 직관적인 특징을 가장 잘 보여 주는 것이 바로 이 `for 문`이다.\n",
    "\n",
    "while 문과 비슷한 반복문인 for 문은 문장 구조가 한눈에 들어온다는 장점이 있다.\n",
    "\n",
    "for 문을 잘 사용하면 프로그래밍이 즐거워질 것이다."
   ]
  },
  {
   "cell_type": "markdown",
   "id": "78bfc84a",
   "metadata": {},
   "source": [
    "### for 문의 기본 구조\n",
    "for 문의 기본 구조는 다음과 같다."
   ]
  },
  {
   "cell_type": "code",
   "execution_count": null,
   "id": "739fce2b",
   "metadata": {},
   "outputs": [],
   "source": [
    "for 변수 in 리스트(또는 튜플, 문자열):\n",
    "    수행할_문장1\n",
    "    수행할_문장2\n",
    "    ..."
   ]
  },
  {
   "cell_type": "markdown",
   "id": "e9686aa9",
   "metadata": {},
   "source": [
    "리스트나 튜플, 문자열의 `첫 번째 요소`부터 `마지막 요소`까지 `차례로 변수에 대입`되어 ‘수행할_문장1’, ‘수행할_문장2’ 등이 수행된다."
   ]
  },
  {
   "cell_type": "markdown",
   "id": "18cac3c5",
   "metadata": {},
   "source": [
    "### 예제를 통해 for 문 이해하기\n",
    "\n",
    "for 문은 예제를 통해서 살펴보는 것이 가장 알기 쉽다.\n",
    "\n",
    "다음 예제를 직접 입력해 보자."
   ]
  },
  {
   "cell_type": "markdown",
   "id": "b45d1611",
   "metadata": {},
   "source": [
    "#### 1. 전형적인 for 문"
   ]
  },
  {
   "cell_type": "code",
   "execution_count": 14,
   "id": "69a1b4ec",
   "metadata": {},
   "outputs": [
    {
     "name": "stdout",
     "output_type": "stream",
     "text": [
      "one\n",
      "two\n",
      "three\n"
     ]
    }
   ],
   "source": [
    "test_list = ['one', 'two', 'three'] \n",
    "for i in test_list: \n",
    "    print(i)"
   ]
  },
  {
   "cell_type": "code",
   "execution_count": 24,
   "id": "97efccc4",
   "metadata": {},
   "outputs": [
    {
     "name": "stdout",
     "output_type": "stream",
     "text": [
      "one,two,three,four,five,six\n"
     ]
    }
   ],
   "source": [
    "a = ['one', 'two', 'three', 'four', 'five', 'six']\n",
    "result = ','.join(a)\n",
    "print(result)"
   ]
  },
  {
   "cell_type": "code",
   "execution_count": 25,
   "id": "20041a6d",
   "metadata": {},
   "outputs": [
    {
     "data": {
      "text/plain": [
       "'one two three four five six'"
      ]
     },
     "execution_count": 25,
     "metadata": {},
     "output_type": "execute_result"
    }
   ],
   "source": [
    "a=['one two three four five six']\n",
    "','.join(a)"
   ]
  },
  {
   "cell_type": "code",
   "execution_count": 26,
   "id": "cb2c7047",
   "metadata": {},
   "outputs": [
    {
     "name": "stdout",
     "output_type": "stream",
     "text": [
      "one,two,three,four,five,six\n"
     ]
    }
   ],
   "source": [
    "a = ['one two three four five six']\n",
    "result = a[0].replace(' ', ',')\n",
    "print(result)"
   ]
  },
  {
   "cell_type": "code",
   "execution_count": 14,
   "id": "7de79fa3",
   "metadata": {},
   "outputs": [
    {
     "name": "stdout",
     "output_type": "stream",
     "text": [
      "one\n",
      "two\n",
      "tree\n",
      "four\n",
      "five\n"
     ]
    }
   ],
   "source": [
    "test_list = ['one','two','tree','four','five']\n",
    "for i in test_list:\n",
    "    print(i)"
   ]
  },
  {
   "cell_type": "markdown",
   "id": "59197d7f",
   "metadata": {},
   "source": [
    "#### 2. 다양한 for 문의 사용"
   ]
  },
  {
   "cell_type": "code",
   "execution_count": 15,
   "id": "b0591d52",
   "metadata": {},
   "outputs": [
    {
     "name": "stdout",
     "output_type": "stream",
     "text": [
      "3\n",
      "7\n",
      "11\n"
     ]
    }
   ],
   "source": [
    "a = [(1,2), (3,4), (5,6)]\n",
    "for (first, last) in a:  #() 생략가능\n",
    "    print(first + last)"
   ]
  },
  {
   "cell_type": "markdown",
   "id": "a2334c3a",
   "metadata": {},
   "source": [
    "위 예는 a 리스트의 요솟값이 튜플이기 때문에 각각의 요소가 자동으로 (first, last) 변수에 대입된다."
   ]
  },
  {
   "cell_type": "markdown",
   "id": "ebd6d97c",
   "metadata": {},
   "source": [
    "#### 3. for 문의 응용\n",
    "for 문의 쓰임새를 알기 위해 다음과 같은 문제를 생각해 보자."
   ]
  },
  {
   "cell_type": "markdown",
   "id": "0caa6438",
   "metadata": {},
   "source": [
    "Q4. `총 5명의 학생이 시험을 보았는데 시험 점수가 60점 이상이면 합격이고 그렇지 않으면 불합격이다. 합격인지, 불합격인지 결과를 보여 주시오.`"
   ]
  },
  {
   "cell_type": "code",
   "execution_count": 35,
   "id": "c4e9e3da",
   "metadata": {},
   "outputs": [
    {
     "name": "stdout",
     "output_type": "stream",
     "text": [
      "1번째 학생은 합격입니다.\n",
      "2번째 학생은 불합격입니다.\n",
      "3번째 학생은 합격입니다.\n",
      "4번째 학생은 불합격입니다.\n",
      "5번째 학생은 합격입니다.\n"
     ]
    }
   ],
   "source": [
    "marks = [90, 25, 67, 45, 80]\n",
    "number = 0 \n",
    "\n",
    "# 직접 풀어보세요!\n",
    "for i in marks:\n",
    "    number += 1\n",
    "    print(f'{number}번째 학생은 합격입니다.') if i >= 60 else print(f'{number}번째 학생은 불합격입니다.')"
   ]
  },
  {
   "cell_type": "markdown",
   "id": "8efa4219",
   "metadata": {},
   "source": [
    "<img src=\"03_3_for1.png\" alt=\"for 문\" width=\"500\" height=\"500\">"
   ]
  },
  {
   "cell_type": "markdown",
   "id": "87b3223d",
   "metadata": {},
   "source": [
    "#### for 문과 continue 문\n",
    "while 문에서 살펴본 `continue` 문을 for 문에서도 사용할 수 있다.\n",
    "\n",
    "즉, for 문 안의 문장을 수행하는 도중 continue 문을 만나면 for 문의 처음으로 돌아가게 된다.\n",
    "\n",
    "앞에서 for 문 응용 예제를 그대로 사용해서 60점 이상인 사람에게는 축하 메시지를 보내고 나머지 사람에게는 아무런 메시지도 전하지 않는 프로그램을 작성해 보자."
   ]
  },
  {
   "cell_type": "code",
   "execution_count": 16,
   "id": "b6e51958",
   "metadata": {},
   "outputs": [
    {
     "name": "stdout",
     "output_type": "stream",
     "text": [
      "1번 학생 축하합니다. 합격입니다. \n",
      "3번 학생 축하합니다. 합격입니다. \n",
      "5번 학생 축하합니다. 합격입니다. \n"
     ]
    }
   ],
   "source": [
    "marks = [90, 25, 67, 45, 80]\n",
    "\n",
    "number = 0 \n",
    "for mark in marks: \n",
    "    number = number + 1 \n",
    "    if mark < 60:\n",
    "        continue \n",
    "    print(\"%d번 학생 축하합니다. 합격입니다. \" % number)"
   ]
  },
  {
   "cell_type": "markdown",
   "id": "1e5e663e",
   "metadata": {},
   "source": [
    "#### for 문과 함께 자주 사용하는 range 함수"
   ]
  },
  {
   "cell_type": "markdown",
   "id": "c1a730ea",
   "metadata": {},
   "source": [
    "for 문은 숫자 리스트를 자동으로 만들어 주는 `range 함수`와 함께 사용하는 경우가 많다.\n",
    "\n",
    "다음은 range 함수의 간단한 사용법이다."
   ]
  },
  {
   "cell_type": "code",
   "execution_count": 27,
   "id": "c545e982",
   "metadata": {},
   "outputs": [
    {
     "data": {
      "text/plain": [
       "{0, 1, 2, 3, 4, 5, 6, 7, 8, 9}"
      ]
     },
     "execution_count": 27,
     "metadata": {},
     "output_type": "execute_result"
    }
   ],
   "source": [
    "a = range(10)\n"
   ]
  },
  {
   "cell_type": "markdown",
   "id": "09f6d46d",
   "metadata": {},
   "source": [
    "range(10)은 0부터 10 미만의 숫자를 포함하는 `range 객체`를 만들어 준다.\n",
    "\n",
    "시작 숫자와 끝 숫자를 지정하려면 `range(시작_숫자, 끝_숫자)` 형태를 사용하는데, 이때 `끝 숫자는 포함되지 않는다`."
   ]
  },
  {
   "cell_type": "markdown",
   "id": "5ed78055",
   "metadata": {},
   "source": [
    "#### range 함수의 예시 살펴보기\n",
    "\n",
    "for와 range 함수를 사용하면 1부터 10까지 더하는 것을 다음과 같이 쉽게 구현할 수 있다."
   ]
  },
  {
   "cell_type": "code",
   "execution_count": 24,
   "id": "de3f64de",
   "metadata": {},
   "outputs": [
    {
     "name": "stdout",
     "output_type": "stream",
     "text": [
      "55\n"
     ]
    }
   ],
   "source": [
    "add = 0 \n",
    "for i in range(1, 11): \n",
    "    add = add + i \n",
    "\n",
    "print(add)"
   ]
  },
  {
   "cell_type": "markdown",
   "id": "e59fd6a8",
   "metadata": {},
   "source": [
    "또한 우리가 앞에서 살펴본 합격 축하 문장을 출력하는 예제도 range 함수를 사용해서 다음과 같이 바꿀 수 있다."
   ]
  },
  {
   "cell_type": "code",
   "execution_count": 25,
   "id": "4343c6cc",
   "metadata": {},
   "outputs": [
    {
     "name": "stdout",
     "output_type": "stream",
     "text": [
      "1번 학생 축하합니다. 합격입니다.\n",
      "3번 학생 축하합니다. 합격입니다.\n",
      "5번 학생 축하합니다. 합격입니다.\n"
     ]
    }
   ],
   "source": [
    "marks = [90, 25, 67, 45, 80]\n",
    "for number in range(len(marks)):\n",
    "    if marks[number] < 60: \n",
    "        continue\n",
    "    print(\"%d번 학생 축하합니다. 합격입니다.\" % (number+1))"
   ]
  },
  {
   "cell_type": "markdown",
   "id": "a0f0095e",
   "metadata": {},
   "source": [
    "len는 리스트 안의 요소 개수를 리턴하는 함수이다. \n",
    "\n",
    "따라서 `len(marks)는 5`, **range(len(marks))는** `range(5)`가 될 것이다.\n",
    "\n",
    "number 변수에는 차례로 0부터 4까지의 숫자가 대입되고 marks[number]는 차례대로 90, 25, 67, 45, 80 값을 가지게 된다."
   ]
  },
  {
   "cell_type": "markdown",
   "id": "80f02bb8",
   "metadata": {},
   "source": [
    "#### for와 range를 이용한 구구단\n",
    "\n",
    "for와 range 함수를 사용하면 소스 코드 단 4줄만으로 구구단을 출력할 수 있다.\n",
    "\n",
    "들여쓰기에 주의하면서 입력해 보자."
   ]
  },
  {
   "cell_type": "code",
   "execution_count": 33,
   "id": "0b8d5b4f",
   "metadata": {},
   "outputs": [
    {
     "name": "stdout",
     "output_type": "stream",
     "text": [
      "2 단\n",
      "2 X 2 = 4\n",
      "2 X 3 = 6\n",
      "2 X 4 = 8\n",
      "2 X 5 = 10\n",
      "2 X 6 = 12\n",
      "2 X 7 = 14\n",
      "2 X 8 = 16\n",
      "2 X 9 = 18\n",
      "3 단\n",
      "3 X 2 = 6\n",
      "3 X 3 = 9\n",
      "3 X 4 = 12\n",
      "3 X 5 = 15\n",
      "3 X 6 = 18\n",
      "3 X 7 = 21\n",
      "3 X 8 = 24\n",
      "3 X 9 = 27\n",
      "4 단\n",
      "4 X 2 = 8\n",
      "4 X 3 = 12\n",
      "4 X 4 = 16\n",
      "4 X 5 = 20\n",
      "4 X 6 = 24\n",
      "4 X 7 = 28\n",
      "4 X 8 = 32\n",
      "4 X 9 = 36\n",
      "5 단\n",
      "5 X 2 = 10\n",
      "5 X 3 = 15\n",
      "5 X 4 = 20\n",
      "5 X 5 = 25\n",
      "5 X 6 = 30\n",
      "5 X 7 = 35\n",
      "5 X 8 = 40\n",
      "5 X 9 = 45\n",
      "6 단\n",
      "6 X 2 = 12\n",
      "6 X 3 = 18\n",
      "6 X 4 = 24\n",
      "6 X 5 = 30\n",
      "6 X 6 = 36\n",
      "6 X 7 = 42\n",
      "6 X 8 = 48\n",
      "6 X 9 = 54\n",
      "7 단\n",
      "7 X 2 = 14\n",
      "7 X 3 = 21\n",
      "7 X 4 = 28\n",
      "7 X 5 = 35\n",
      "7 X 6 = 42\n",
      "7 X 7 = 49\n",
      "7 X 8 = 56\n",
      "7 X 9 = 63\n",
      "8 단\n",
      "8 X 2 = 16\n",
      "8 X 3 = 24\n",
      "8 X 4 = 32\n",
      "8 X 5 = 40\n",
      "8 X 6 = 48\n",
      "8 X 7 = 56\n",
      "8 X 8 = 64\n",
      "8 X 9 = 72\n",
      "9 단\n",
      "9 X 2 = 18\n",
      "9 X 3 = 27\n",
      "9 X 4 = 36\n",
      "9 X 5 = 45\n",
      "9 X 6 = 54\n",
      "9 X 7 = 63\n",
      "9 X 8 = 72\n",
      "9 X 9 = 81\n"
     ]
    }
   ],
   "source": [
    "# 직접 코드를 작성해보세요.\n",
    "    "
   ]
  },
  {
   "cell_type": "markdown",
   "id": "d4868f56",
   "metadata": {},
   "source": [
    "print 문의 end 매개변수에는 줄바꿈 문자`(\\n)`가 기본값으로 설정되어 있다.\n",
    "                           \n",
    "print(i*j, `end=\" \"`)와 같이 print 함수에 end 파라미터를 설정한 이유는 해당 결괏값을 출력할 때 다음 줄로 넘기지 않고 그 줄에 계속 출력하기 위해서이다. "
   ]
  },
  {
   "cell_type": "markdown",
   "id": "a65782af",
   "metadata": {},
   "source": [
    "<img src=\"03_3_for2.png\" alt=\"for 문\" width=\"900\" height=\"500\">"
   ]
  },
  {
   "cell_type": "markdown",
   "id": "e3ececa3",
   "metadata": {},
   "source": [
    "#### 리스트 컴프리헨션 사용하기\n",
    "\n",
    "리스트 안에 for 문을 포함하는 `리스트 컴프리헨션(list comprehension)`을 사용하면 좀 더 편리하고 직관적인 프로그램을 만들 수 있다.\n",
    "\n",
    "다음 예제를 살펴보자."
   ]
  },
  {
   "cell_type": "code",
   "execution_count": 35,
   "id": "e5f55a4e",
   "metadata": {},
   "outputs": [
    {
     "name": "stdout",
     "output_type": "stream",
     "text": [
      "[3, 6, 9, 12]\n"
     ]
    }
   ],
   "source": [
    "a = [1,2,3,4]\n",
    "result = []\n",
    "for num in a:\n",
    "    result.append(num*3)\n",
    "\n",
    "print(result)"
   ]
  },
  {
   "cell_type": "markdown",
   "id": "bbca9aff",
   "metadata": {},
   "source": [
    "위 예제에서는 a 리스트의 각 항목에 3을 곱한 결과를 result 리스트에 담았다.\n",
    "\n",
    "**리스트 컴프리헨션**을 사용하면 다음과 같이 좀 더 간단하게 작성할 수 있다."
   ]
  },
  {
   "cell_type": "code",
   "execution_count": 36,
   "id": "45162e43",
   "metadata": {},
   "outputs": [
    {
     "name": "stdout",
     "output_type": "stream",
     "text": [
      "[3, 6, 9, 12]\n"
     ]
    }
   ],
   "source": [
    "a = [1,2,3,4]\n",
    "result = [num * 3 for num in a]\n",
    "print(result)"
   ]
  },
  {
   "cell_type": "markdown",
   "id": "c1bc3be2",
   "metadata": {},
   "source": [
    "만약 [1, 2, 3, 4] 중에서 짝수에만 3을 곱하여 담고 싶다면 리스트 컴프리헨션 안에 ‘if 조건문’을 사용하면 된다."
   ]
  },
  {
   "cell_type": "code",
   "execution_count": 42,
   "id": "414b2735",
   "metadata": {},
   "outputs": [
    {
     "name": "stdout",
     "output_type": "stream",
     "text": [
      "[6, 12]\n"
     ]
    }
   ],
   "source": [
    "a = [1, 2, 3, 4]\n",
    "result = [num * 3 for num in a if num % 2 == 0]\n",
    "print(result)"
   ]
  },
  {
   "cell_type": "markdown",
   "id": "7cb7c3be",
   "metadata": {},
   "source": [
    "리스트 컴프리헨션의 문법은 다음과 같다. \n",
    "\n",
    "`if 조건문` 부분은 앞의 예제에서 볼 수 있듯이 생략할 수 있다."
   ]
  },
  {
   "cell_type": "code",
   "execution_count": 45,
   "id": "63512497",
   "metadata": {},
   "outputs": [
    {
     "name": "stdout",
     "output_type": "stream",
     "text": [
      "[6, 12]\n"
     ]
    }
   ],
   "source": [
    "a = [1, 2, 3, 4]\n",
    "result = []\n",
    "for num in a:\n",
    "    if num % 2 == 0:\n",
    "        result.append(num * 3)\n",
    "     \n",
    "print(result)"
   ]
  },
  {
   "cell_type": "markdown",
   "id": "4b80a662",
   "metadata": {},
   "source": [
    "`[표현식 for 항목 in 반복_가능_객체 if 조건문]`"
   ]
  },
  {
   "cell_type": "markdown",
   "id": "33bbecfd",
   "metadata": {},
   "source": [
    "조금 복잡하지만, for 문을 2개 이상 사용하는 것도 가능하다.\n",
    "\n",
    "for 문을 여러 개 사용할 때의 문법은 다음과 같다."
   ]
  },
  {
   "cell_type": "markdown",
   "id": "d5b51bc5",
   "metadata": {},
   "source": [
    "[표현식 for 항목1 in 반복_가능_객체1 if 조건문1\n",
    " \n",
    "      for 항목2 in 반복_가능_객체2 if 조건문2\n",
    "      ...    \n",
    "      for 항목n in 반복_가능_객체n if 조건문n]"
   ]
  },
  {
   "cell_type": "code",
   "execution_count": 49,
   "id": "b50a59a0",
   "metadata": {},
   "outputs": [
    {
     "name": "stdout",
     "output_type": "stream",
     "text": [
      "[2, 4, 6, 8, 10, 12, 14, 16, 18, 3, 6, 9, 12, 15, 18, 21, 24, 27, 4, 8, 12, 16, 20, 24, 28, 32, 36, 5, 10, 15, 20, 25, 30, 35, 40, 45, 6, 12, 18, 24, 30, 36, 42, 48, 54, 7, 14, 21, 28, 35, 42, 49, 56, 63, 8, 16, 24, 32, 40, 48, 56, 64, 72, 9, 18, 27, 36, 45, 54, 63, 72, 81]\n"
     ]
    }
   ],
   "source": [
    "result = []\n",
    "result = [i * j for i in range(2, 10) for j in range(1,10)]\n",
    "print(result)"
   ]
  },
  {
   "cell_type": "markdown",
   "id": "2257e628",
   "metadata": {},
   "source": [
    "지금까지 우리는 프로그램 흐름을 제어하는 if 문, while 문, for 문에 대해 알아보았다.\n",
    "\n",
    "아마도 여러분은 while 문과 for 문을 보면서 2가지가 매우 비슷하다는 느낌을 받았을 것이다.\n",
    "\n",
    "실제로 for 문으로 작성한 코드를 while 문으로 바꿀 수 있는 경우도 많고 while 문을 for 문으로 바꾸어서 사용할 수 있는 경우도 많다."
   ]
  },
  {
   "cell_type": "markdown",
   "id": "a2128640",
   "metadata": {},
   "source": [
    "# 연습문제 (점프투 파이썬 책 자료 활용)\n",
    "### Q1. while문을 이용하여 아래와 같이 별(*)을 표시하는 프로그램을 작성하시오\n",
    "\n"
   ]
  },
  {
   "cell_type": "code",
   "execution_count": 50,
   "id": "e1e1f78a",
   "metadata": {},
   "outputs": [
    {
     "data": {
      "text/plain": [
       "'\\n*\\n**\\n***\\n****\\n*****\\n'"
      ]
     },
     "execution_count": 50,
     "metadata": {},
     "output_type": "execute_result"
    }
   ],
   "source": [
    "'''\n",
    "*\n",
    "**\n",
    "***\n",
    "****\n",
    "*****\n",
    "'''"
   ]
  },
  {
   "cell_type": "code",
   "execution_count": 52,
   "id": "d80de874",
   "metadata": {},
   "outputs": [
    {
     "name": "stdout",
     "output_type": "stream",
     "text": [
      "*\n",
      "**\n",
      "***\n",
      "****\n",
      "*****\n"
     ]
    }
   ],
   "source": [
    "i = 0\n",
    "while True:\n",
    "    i +=         # 1 씩 증가\n",
    "    if      # i 값이 5 이상이면 while 문을 벗어난다\n",
    "       \n",
    "    print()  # i 값 개수만큼 '*'을 출력한다\n",
    "    \n",
    "    "
   ]
  },
  {
   "cell_type": "markdown",
   "id": "40870b4c",
   "metadata": {},
   "source": [
    "### Q2. A 학급에 총 10명의 학생이 있다. 이 학생들의 중간고사 점수는 다음과 같다.\n",
    "[70, 60, 55, 75, 94, 89, 80, 80, 85, 100]\n",
    "\n",
    "for 문을 이용하여 A 학습의 평균을 구해보자"
   ]
  },
  {
   "cell_type": "code",
   "execution_count": 63,
   "id": "e5990372",
   "metadata": {},
   "outputs": [],
   "source": [
    "a=[70, 60, 55, 75, 94, 89, 80, 80, 85, 100]\n"
   ]
  },
  {
   "cell_type": "code",
   "execution_count": 58,
   "id": "0f4d592a",
   "metadata": {},
   "outputs": [
    {
     "data": {
      "text/plain": [
       "78.8"
      ]
     },
     "execution_count": 58,
     "metadata": {},
     "output_type": "execute_result"
    }
   ],
   "source": [
    "import numpy as np\n",
    "a=[70, 60, 55, 75, 94, 89, 80, 80, 85, 100]\n",
    "np.mean(a)"
   ]
  },
  {
   "cell_type": "markdown",
   "id": "1212ebc0",
   "metadata": {},
   "source": [
    "# 참고문헌\n",
    "점프투 파이썬 from Wididocs"
   ]
  }
 ],
 "metadata": {
  "kernelspec": {
   "display_name": "Python 3",
   "language": "python",
   "name": "python3"
  },
  "language_info": {
   "codemirror_mode": {
    "name": "ipython",
    "version": 3
   },
   "file_extension": ".py",
   "mimetype": "text/x-python",
   "name": "python",
   "nbconvert_exporter": "python",
   "pygments_lexer": "ipython3",
   "version": "3.12.1"
  }
 },
 "nbformat": 4,
 "nbformat_minor": 5
}
